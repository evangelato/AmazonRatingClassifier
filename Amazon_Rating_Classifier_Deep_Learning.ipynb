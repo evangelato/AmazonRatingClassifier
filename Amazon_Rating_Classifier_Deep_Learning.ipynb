{
 "cells": [
  {
   "cell_type": "markdown",
   "id": "988e5d61",
   "metadata": {},
   "source": [
    "# Amazon Reviews Rating Prediction Model (Deep Learning)"
   ]
  },
  {
   "cell_type": "markdown",
   "id": "695fcf3b",
   "metadata": {},
   "source": [
    "## Importing the Libraries"
   ]
  },
  {
   "cell_type": "code",
   "execution_count": 1,
   "id": "73d751f8",
   "metadata": {},
   "outputs": [],
   "source": [
    "import numpy as np\n",
    "import matplotlib.pyplot as plt\n",
    "import pandas as pd"
   ]
  },
  {
   "cell_type": "markdown",
   "id": "f01d9913",
   "metadata": {},
   "source": [
    "## Exploratory Data Analysis and Feature Engineering"
   ]
  },
  {
   "cell_type": "code",
   "execution_count": 2,
   "id": "cf5d9aaf",
   "metadata": {},
   "outputs": [],
   "source": [
    "df = pd.read_csv('Datafiniti_Amazon_Consumer_Reviews_of_Amazon_Products_May19.csv.gz', compression='gzip')"
   ]
  },
  {
   "cell_type": "code",
   "execution_count": 3,
   "id": "159eedf7",
   "metadata": {},
   "outputs": [
    {
     "data": {
      "text/html": [
       "<div>\n",
       "<style scoped>\n",
       "    .dataframe tbody tr th:only-of-type {\n",
       "        vertical-align: middle;\n",
       "    }\n",
       "\n",
       "    .dataframe tbody tr th {\n",
       "        vertical-align: top;\n",
       "    }\n",
       "\n",
       "    .dataframe thead th {\n",
       "        text-align: right;\n",
       "    }\n",
       "</style>\n",
       "<table border=\"1\" class=\"dataframe\">\n",
       "  <thead>\n",
       "    <tr style=\"text-align: right;\">\n",
       "      <th></th>\n",
       "      <th>id</th>\n",
       "      <th>dateAdded</th>\n",
       "      <th>dateUpdated</th>\n",
       "      <th>name</th>\n",
       "      <th>asins</th>\n",
       "      <th>brand</th>\n",
       "      <th>categories</th>\n",
       "      <th>primaryCategories</th>\n",
       "      <th>imageURLs</th>\n",
       "      <th>keys</th>\n",
       "      <th>...</th>\n",
       "      <th>reviews.didPurchase</th>\n",
       "      <th>reviews.doRecommend</th>\n",
       "      <th>reviews.id</th>\n",
       "      <th>reviews.numHelpful</th>\n",
       "      <th>reviews.rating</th>\n",
       "      <th>reviews.sourceURLs</th>\n",
       "      <th>reviews.text</th>\n",
       "      <th>reviews.title</th>\n",
       "      <th>reviews.username</th>\n",
       "      <th>sourceURLs</th>\n",
       "    </tr>\n",
       "  </thead>\n",
       "  <tbody>\n",
       "    <tr>\n",
       "      <th>0</th>\n",
       "      <td>AVpgNzjwLJeJML43Kpxn</td>\n",
       "      <td>2015-10-30T08:59:32Z</td>\n",
       "      <td>2019-04-25T09:08:16Z</td>\n",
       "      <td>AmazonBasics AAA Performance Alkaline Batterie...</td>\n",
       "      <td>B00QWO9P0O,B00LH3DMUO</td>\n",
       "      <td>Amazonbasics</td>\n",
       "      <td>AA,AAA,Health,Electronics,Health &amp; Household,C...</td>\n",
       "      <td>Health &amp; Beauty</td>\n",
       "      <td>https://images-na.ssl-images-amazon.com/images...</td>\n",
       "      <td>amazonbasics/hl002619,amazonbasicsaaaperforman...</td>\n",
       "      <td>...</td>\n",
       "      <td>NaN</td>\n",
       "      <td>NaN</td>\n",
       "      <td>NaN</td>\n",
       "      <td>NaN</td>\n",
       "      <td>3</td>\n",
       "      <td>https://www.amazon.com/product-reviews/B00QWO9...</td>\n",
       "      <td>I order 3 of them and one of the item is bad q...</td>\n",
       "      <td>... 3 of them and one of the item is bad quali...</td>\n",
       "      <td>Byger yang</td>\n",
       "      <td>https://www.barcodable.com/upc/841710106442,ht...</td>\n",
       "    </tr>\n",
       "    <tr>\n",
       "      <th>1</th>\n",
       "      <td>AVpgNzjwLJeJML43Kpxn</td>\n",
       "      <td>2015-10-30T08:59:32Z</td>\n",
       "      <td>2019-04-25T09:08:16Z</td>\n",
       "      <td>AmazonBasics AAA Performance Alkaline Batterie...</td>\n",
       "      <td>B00QWO9P0O,B00LH3DMUO</td>\n",
       "      <td>Amazonbasics</td>\n",
       "      <td>AA,AAA,Health,Electronics,Health &amp; Household,C...</td>\n",
       "      <td>Health &amp; Beauty</td>\n",
       "      <td>https://images-na.ssl-images-amazon.com/images...</td>\n",
       "      <td>amazonbasics/hl002619,amazonbasicsaaaperforman...</td>\n",
       "      <td>...</td>\n",
       "      <td>NaN</td>\n",
       "      <td>NaN</td>\n",
       "      <td>NaN</td>\n",
       "      <td>NaN</td>\n",
       "      <td>4</td>\n",
       "      <td>https://www.amazon.com/product-reviews/B00QWO9...</td>\n",
       "      <td>Bulk is always the less expensive way to go fo...</td>\n",
       "      <td>... always the less expensive way to go for pr...</td>\n",
       "      <td>ByMG</td>\n",
       "      <td>https://www.barcodable.com/upc/841710106442,ht...</td>\n",
       "    </tr>\n",
       "    <tr>\n",
       "      <th>2</th>\n",
       "      <td>AVpgNzjwLJeJML43Kpxn</td>\n",
       "      <td>2015-10-30T08:59:32Z</td>\n",
       "      <td>2019-04-25T09:08:16Z</td>\n",
       "      <td>AmazonBasics AAA Performance Alkaline Batterie...</td>\n",
       "      <td>B00QWO9P0O,B00LH3DMUO</td>\n",
       "      <td>Amazonbasics</td>\n",
       "      <td>AA,AAA,Health,Electronics,Health &amp; Household,C...</td>\n",
       "      <td>Health &amp; Beauty</td>\n",
       "      <td>https://images-na.ssl-images-amazon.com/images...</td>\n",
       "      <td>amazonbasics/hl002619,amazonbasicsaaaperforman...</td>\n",
       "      <td>...</td>\n",
       "      <td>NaN</td>\n",
       "      <td>NaN</td>\n",
       "      <td>NaN</td>\n",
       "      <td>NaN</td>\n",
       "      <td>5</td>\n",
       "      <td>https://www.amazon.com/product-reviews/B00QWO9...</td>\n",
       "      <td>Well they are not Duracell but for the price i...</td>\n",
       "      <td>... are not Duracell but for the price i am ha...</td>\n",
       "      <td>BySharon Lambert</td>\n",
       "      <td>https://www.barcodable.com/upc/841710106442,ht...</td>\n",
       "    </tr>\n",
       "    <tr>\n",
       "      <th>3</th>\n",
       "      <td>AVpgNzjwLJeJML43Kpxn</td>\n",
       "      <td>2015-10-30T08:59:32Z</td>\n",
       "      <td>2019-04-25T09:08:16Z</td>\n",
       "      <td>AmazonBasics AAA Performance Alkaline Batterie...</td>\n",
       "      <td>B00QWO9P0O,B00LH3DMUO</td>\n",
       "      <td>Amazonbasics</td>\n",
       "      <td>AA,AAA,Health,Electronics,Health &amp; Household,C...</td>\n",
       "      <td>Health &amp; Beauty</td>\n",
       "      <td>https://images-na.ssl-images-amazon.com/images...</td>\n",
       "      <td>amazonbasics/hl002619,amazonbasicsaaaperforman...</td>\n",
       "      <td>...</td>\n",
       "      <td>NaN</td>\n",
       "      <td>NaN</td>\n",
       "      <td>NaN</td>\n",
       "      <td>NaN</td>\n",
       "      <td>5</td>\n",
       "      <td>https://www.amazon.com/product-reviews/B00QWO9...</td>\n",
       "      <td>Seem to work as well as name brand batteries a...</td>\n",
       "      <td>... as well as name brand batteries at a much ...</td>\n",
       "      <td>Bymark sexson</td>\n",
       "      <td>https://www.barcodable.com/upc/841710106442,ht...</td>\n",
       "    </tr>\n",
       "    <tr>\n",
       "      <th>4</th>\n",
       "      <td>AVpgNzjwLJeJML43Kpxn</td>\n",
       "      <td>2015-10-30T08:59:32Z</td>\n",
       "      <td>2019-04-25T09:08:16Z</td>\n",
       "      <td>AmazonBasics AAA Performance Alkaline Batterie...</td>\n",
       "      <td>B00QWO9P0O,B00LH3DMUO</td>\n",
       "      <td>Amazonbasics</td>\n",
       "      <td>AA,AAA,Health,Electronics,Health &amp; Household,C...</td>\n",
       "      <td>Health &amp; Beauty</td>\n",
       "      <td>https://images-na.ssl-images-amazon.com/images...</td>\n",
       "      <td>amazonbasics/hl002619,amazonbasicsaaaperforman...</td>\n",
       "      <td>...</td>\n",
       "      <td>NaN</td>\n",
       "      <td>NaN</td>\n",
       "      <td>NaN</td>\n",
       "      <td>NaN</td>\n",
       "      <td>5</td>\n",
       "      <td>https://www.amazon.com/product-reviews/B00QWO9...</td>\n",
       "      <td>These batteries are very long lasting the pric...</td>\n",
       "      <td>... batteries are very long lasting the price ...</td>\n",
       "      <td>Bylinda</td>\n",
       "      <td>https://www.barcodable.com/upc/841710106442,ht...</td>\n",
       "    </tr>\n",
       "  </tbody>\n",
       "</table>\n",
       "<p>5 rows × 24 columns</p>\n",
       "</div>"
      ],
      "text/plain": [
       "                     id             dateAdded           dateUpdated  \\\n",
       "0  AVpgNzjwLJeJML43Kpxn  2015-10-30T08:59:32Z  2019-04-25T09:08:16Z   \n",
       "1  AVpgNzjwLJeJML43Kpxn  2015-10-30T08:59:32Z  2019-04-25T09:08:16Z   \n",
       "2  AVpgNzjwLJeJML43Kpxn  2015-10-30T08:59:32Z  2019-04-25T09:08:16Z   \n",
       "3  AVpgNzjwLJeJML43Kpxn  2015-10-30T08:59:32Z  2019-04-25T09:08:16Z   \n",
       "4  AVpgNzjwLJeJML43Kpxn  2015-10-30T08:59:32Z  2019-04-25T09:08:16Z   \n",
       "\n",
       "                                                name                  asins  \\\n",
       "0  AmazonBasics AAA Performance Alkaline Batterie...  B00QWO9P0O,B00LH3DMUO   \n",
       "1  AmazonBasics AAA Performance Alkaline Batterie...  B00QWO9P0O,B00LH3DMUO   \n",
       "2  AmazonBasics AAA Performance Alkaline Batterie...  B00QWO9P0O,B00LH3DMUO   \n",
       "3  AmazonBasics AAA Performance Alkaline Batterie...  B00QWO9P0O,B00LH3DMUO   \n",
       "4  AmazonBasics AAA Performance Alkaline Batterie...  B00QWO9P0O,B00LH3DMUO   \n",
       "\n",
       "          brand                                         categories  \\\n",
       "0  Amazonbasics  AA,AAA,Health,Electronics,Health & Household,C...   \n",
       "1  Amazonbasics  AA,AAA,Health,Electronics,Health & Household,C...   \n",
       "2  Amazonbasics  AA,AAA,Health,Electronics,Health & Household,C...   \n",
       "3  Amazonbasics  AA,AAA,Health,Electronics,Health & Household,C...   \n",
       "4  Amazonbasics  AA,AAA,Health,Electronics,Health & Household,C...   \n",
       "\n",
       "  primaryCategories                                          imageURLs  \\\n",
       "0   Health & Beauty  https://images-na.ssl-images-amazon.com/images...   \n",
       "1   Health & Beauty  https://images-na.ssl-images-amazon.com/images...   \n",
       "2   Health & Beauty  https://images-na.ssl-images-amazon.com/images...   \n",
       "3   Health & Beauty  https://images-na.ssl-images-amazon.com/images...   \n",
       "4   Health & Beauty  https://images-na.ssl-images-amazon.com/images...   \n",
       "\n",
       "                                                keys  ... reviews.didPurchase  \\\n",
       "0  amazonbasics/hl002619,amazonbasicsaaaperforman...  ...                 NaN   \n",
       "1  amazonbasics/hl002619,amazonbasicsaaaperforman...  ...                 NaN   \n",
       "2  amazonbasics/hl002619,amazonbasicsaaaperforman...  ...                 NaN   \n",
       "3  amazonbasics/hl002619,amazonbasicsaaaperforman...  ...                 NaN   \n",
       "4  amazonbasics/hl002619,amazonbasicsaaaperforman...  ...                 NaN   \n",
       "\n",
       "  reviews.doRecommend reviews.id reviews.numHelpful reviews.rating  \\\n",
       "0                 NaN        NaN                NaN              3   \n",
       "1                 NaN        NaN                NaN              4   \n",
       "2                 NaN        NaN                NaN              5   \n",
       "3                 NaN        NaN                NaN              5   \n",
       "4                 NaN        NaN                NaN              5   \n",
       "\n",
       "                                  reviews.sourceURLs  \\\n",
       "0  https://www.amazon.com/product-reviews/B00QWO9...   \n",
       "1  https://www.amazon.com/product-reviews/B00QWO9...   \n",
       "2  https://www.amazon.com/product-reviews/B00QWO9...   \n",
       "3  https://www.amazon.com/product-reviews/B00QWO9...   \n",
       "4  https://www.amazon.com/product-reviews/B00QWO9...   \n",
       "\n",
       "                                        reviews.text  \\\n",
       "0  I order 3 of them and one of the item is bad q...   \n",
       "1  Bulk is always the less expensive way to go fo...   \n",
       "2  Well they are not Duracell but for the price i...   \n",
       "3  Seem to work as well as name brand batteries a...   \n",
       "4  These batteries are very long lasting the pric...   \n",
       "\n",
       "                                       reviews.title  reviews.username  \\\n",
       "0  ... 3 of them and one of the item is bad quali...        Byger yang   \n",
       "1  ... always the less expensive way to go for pr...              ByMG   \n",
       "2  ... are not Duracell but for the price i am ha...  BySharon Lambert   \n",
       "3  ... as well as name brand batteries at a much ...     Bymark sexson   \n",
       "4  ... batteries are very long lasting the price ...           Bylinda   \n",
       "\n",
       "                                          sourceURLs  \n",
       "0  https://www.barcodable.com/upc/841710106442,ht...  \n",
       "1  https://www.barcodable.com/upc/841710106442,ht...  \n",
       "2  https://www.barcodable.com/upc/841710106442,ht...  \n",
       "3  https://www.barcodable.com/upc/841710106442,ht...  \n",
       "4  https://www.barcodable.com/upc/841710106442,ht...  \n",
       "\n",
       "[5 rows x 24 columns]"
      ]
     },
     "execution_count": 3,
     "metadata": {},
     "output_type": "execute_result"
    }
   ],
   "source": [
    "df.head()"
   ]
  },
  {
   "cell_type": "code",
   "execution_count": 4,
   "id": "300850f8",
   "metadata": {},
   "outputs": [
    {
     "data": {
      "text/plain": [
       "id                         0\n",
       "dateAdded                  0\n",
       "dateUpdated                0\n",
       "name                       0\n",
       "asins                      0\n",
       "brand                      0\n",
       "categories                 0\n",
       "primaryCategories          0\n",
       "imageURLs                  0\n",
       "keys                       0\n",
       "manufacturer               0\n",
       "manufacturerNumber         0\n",
       "reviews.date               0\n",
       "reviews.dateSeen           0\n",
       "reviews.didPurchase    28323\n",
       "reviews.doRecommend    12246\n",
       "reviews.id             28291\n",
       "reviews.numHelpful     12217\n",
       "reviews.rating             0\n",
       "reviews.sourceURLs         0\n",
       "reviews.text               0\n",
       "reviews.title              0\n",
       "reviews.username           0\n",
       "sourceURLs                 0\n",
       "dtype: int64"
      ]
     },
     "execution_count": 4,
     "metadata": {},
     "output_type": "execute_result"
    }
   ],
   "source": [
    "df.isnull().sum()"
   ]
  },
  {
   "cell_type": "code",
   "execution_count": 5,
   "id": "37f3565a",
   "metadata": {},
   "outputs": [
    {
     "data": {
      "text/plain": [
       "28332"
      ]
     },
     "execution_count": 5,
     "metadata": {},
     "output_type": "execute_result"
    }
   ],
   "source": [
    "df.shape[0]"
   ]
  },
  {
   "cell_type": "code",
   "execution_count": 6,
   "id": "24e36f66",
   "metadata": {},
   "outputs": [
    {
     "data": {
      "text/plain": [
       "array([nan, True, False], dtype=object)"
      ]
     },
     "execution_count": 6,
     "metadata": {},
     "output_type": "execute_result"
    }
   ],
   "source": [
    "df['reviews.didPurchase'].unique()"
   ]
  },
  {
   "cell_type": "code",
   "execution_count": 7,
   "id": "5686acfd",
   "metadata": {},
   "outputs": [
    {
     "data": {
      "text/plain": [
       "array([nan, True, False], dtype=object)"
      ]
     },
     "execution_count": 7,
     "metadata": {},
     "output_type": "execute_result"
    }
   ],
   "source": [
    "df['reviews.doRecommend'].unique()"
   ]
  },
  {
   "cell_type": "code",
   "execution_count": 8,
   "id": "7ca9466a",
   "metadata": {},
   "outputs": [
    {
     "data": {
      "text/plain": [
       "array([           nan, 2.08530447e+08, 2.08142753e+08, 1.36303197e+08,\n",
       "       1.77283626e+08, 1.35864424e+08, 1.11624418e+08, 1.87043823e+08,\n",
       "       1.18703863e+08, 1.84417556e+08, 1.85116510e+08, 1.98609149e+08,\n",
       "       1.99361088e+08, 1.97771038e+08, 1.77538928e+08, 1.88507767e+08,\n",
       "       1.85511553e+08, 1.87916576e+08, 1.62984194e+08, 1.96779034e+08,\n",
       "       1.87836834e+08, 2.01389264e+08, 1.98815979e+08, 1.97149161e+08,\n",
       "       2.02541414e+08, 1.54108495e+08, 2.01509977e+08, 1.87739239e+08,\n",
       "       1.88588526e+08, 1.85522650e+08, 1.86535562e+08, 1.97428761e+08,\n",
       "       1.50064623e+08, 1.89247564e+08, 1.84334422e+08, 1.97972564e+08,\n",
       "       1.83989783e+08, 1.99086279e+08, 2.02364330e+08, 1.98597442e+08,\n",
       "       2.00791738e+08, 2.00646961e+08])"
      ]
     },
     "execution_count": 8,
     "metadata": {},
     "output_type": "execute_result"
    }
   ],
   "source": [
    "df['reviews.id'].unique()"
   ]
  },
  {
   "cell_type": "code",
   "execution_count": 9,
   "id": "c8bc3e25",
   "metadata": {},
   "outputs": [
    {
     "data": {
      "text/plain": [
       "array([ nan,   1.,   0.,   2.,  40.,  21.,  12., 238.,   6.,   3.,   9.,\n",
       "        15.,   5., 434.,   8.,   7.,   4.,  16., 621.,  23., 220.,  19.,\n",
       "        39.,  18.,  72.,  25.,  11.,  27.,  45.,  20.,  10.,  65.,  28.,\n",
       "        68., 105., 103.,  33.,  48.,  14.,  49.,  13.,  44.,  36., 129.,\n",
       "        17.,  26., 130.,  35.,  29.,  30.,  22.,  31.,  41.,  93.,  60.,\n",
       "       292., 345., 525., 288.,  47.,  42.,  55.])"
      ]
     },
     "execution_count": 9,
     "metadata": {},
     "output_type": "execute_result"
    }
   ],
   "source": [
    "df['reviews.numHelpful'].unique()"
   ]
  },
  {
   "cell_type": "code",
   "execution_count": 10,
   "id": "8afccc4d",
   "metadata": {},
   "outputs": [],
   "source": [
    "df = df.drop('reviews.didPurchase',axis=1)"
   ]
  },
  {
   "cell_type": "code",
   "execution_count": 11,
   "id": "39c01f2b",
   "metadata": {},
   "outputs": [],
   "source": [
    "df = df.drop('reviews.id',axis=1)"
   ]
  },
  {
   "cell_type": "code",
   "execution_count": 12,
   "id": "f7139b1f",
   "metadata": {},
   "outputs": [],
   "source": [
    "df = df.drop('id',axis=1)"
   ]
  },
  {
   "cell_type": "code",
   "execution_count": 13,
   "id": "747cdf22",
   "metadata": {},
   "outputs": [],
   "source": [
    "df = df.drop('imageURLs',axis=1)"
   ]
  },
  {
   "cell_type": "code",
   "execution_count": 58,
   "id": "939bad1b",
   "metadata": {},
   "outputs": [],
   "source": [
    "df = df.drop('sourceURLs',axis=1)"
   ]
  },
  {
   "cell_type": "code",
   "execution_count": 15,
   "id": "12e6ba7d",
   "metadata": {},
   "outputs": [],
   "source": [
    "df = df.drop('reviews.title',axis=1)"
   ]
  },
  {
   "cell_type": "code",
   "execution_count": 16,
   "id": "ee942b5b",
   "metadata": {},
   "outputs": [
    {
     "name": "stdout",
     "output_type": "stream",
     "text": [
      "65\n",
      "65\n"
     ]
    }
   ],
   "source": [
    "# Asins are same as names\n",
    "print(len(df['name'].unique()))\n",
    "print(len(df['asins'].unique()))"
   ]
  },
  {
   "cell_type": "code",
   "execution_count": 17,
   "id": "0a1f6292",
   "metadata": {},
   "outputs": [],
   "source": [
    "df = df.drop('asins',axis=1)"
   ]
  },
  {
   "cell_type": "code",
   "execution_count": 18,
   "id": "10e07476",
   "metadata": {},
   "outputs": [],
   "source": [
    "df = df.drop('keys',axis=1)"
   ]
  },
  {
   "cell_type": "code",
   "execution_count": 19,
   "id": "dda310c0",
   "metadata": {},
   "outputs": [
    {
     "data": {
      "text/html": [
       "<div>\n",
       "<style scoped>\n",
       "    .dataframe tbody tr th:only-of-type {\n",
       "        vertical-align: middle;\n",
       "    }\n",
       "\n",
       "    .dataframe tbody tr th {\n",
       "        vertical-align: top;\n",
       "    }\n",
       "\n",
       "    .dataframe thead th {\n",
       "        text-align: right;\n",
       "    }\n",
       "</style>\n",
       "<table border=\"1\" class=\"dataframe\">\n",
       "  <thead>\n",
       "    <tr style=\"text-align: right;\">\n",
       "      <th></th>\n",
       "      <th>dateAdded</th>\n",
       "      <th>dateUpdated</th>\n",
       "      <th>name</th>\n",
       "      <th>brand</th>\n",
       "      <th>categories</th>\n",
       "      <th>primaryCategories</th>\n",
       "      <th>manufacturer</th>\n",
       "      <th>manufacturerNumber</th>\n",
       "      <th>reviews.date</th>\n",
       "      <th>reviews.dateSeen</th>\n",
       "      <th>reviews.doRecommend</th>\n",
       "      <th>reviews.numHelpful</th>\n",
       "      <th>reviews.rating</th>\n",
       "      <th>reviews.text</th>\n",
       "      <th>reviews.username</th>\n",
       "      <th>sourceURLs</th>\n",
       "    </tr>\n",
       "  </thead>\n",
       "  <tbody>\n",
       "    <tr>\n",
       "      <th>0</th>\n",
       "      <td>2015-10-30T08:59:32Z</td>\n",
       "      <td>2019-04-25T09:08:16Z</td>\n",
       "      <td>AmazonBasics AAA Performance Alkaline Batterie...</td>\n",
       "      <td>Amazonbasics</td>\n",
       "      <td>AA,AAA,Health,Electronics,Health &amp; Household,C...</td>\n",
       "      <td>Health &amp; Beauty</td>\n",
       "      <td>AmazonBasics</td>\n",
       "      <td>HL-002619</td>\n",
       "      <td>2017-03-02T00:00:00.000Z</td>\n",
       "      <td>2017-08-28T00:00:00Z</td>\n",
       "      <td>NaN</td>\n",
       "      <td>NaN</td>\n",
       "      <td>3</td>\n",
       "      <td>I order 3 of them and one of the item is bad q...</td>\n",
       "      <td>Byger yang</td>\n",
       "      <td>https://www.barcodable.com/upc/841710106442,ht...</td>\n",
       "    </tr>\n",
       "    <tr>\n",
       "      <th>1</th>\n",
       "      <td>2015-10-30T08:59:32Z</td>\n",
       "      <td>2019-04-25T09:08:16Z</td>\n",
       "      <td>AmazonBasics AAA Performance Alkaline Batterie...</td>\n",
       "      <td>Amazonbasics</td>\n",
       "      <td>AA,AAA,Health,Electronics,Health &amp; Household,C...</td>\n",
       "      <td>Health &amp; Beauty</td>\n",
       "      <td>AmazonBasics</td>\n",
       "      <td>HL-002619</td>\n",
       "      <td>2016-08-31T00:00:00.000Z</td>\n",
       "      <td>2017-08-28T00:00:00Z</td>\n",
       "      <td>NaN</td>\n",
       "      <td>NaN</td>\n",
       "      <td>4</td>\n",
       "      <td>Bulk is always the less expensive way to go fo...</td>\n",
       "      <td>ByMG</td>\n",
       "      <td>https://www.barcodable.com/upc/841710106442,ht...</td>\n",
       "    </tr>\n",
       "    <tr>\n",
       "      <th>2</th>\n",
       "      <td>2015-10-30T08:59:32Z</td>\n",
       "      <td>2019-04-25T09:08:16Z</td>\n",
       "      <td>AmazonBasics AAA Performance Alkaline Batterie...</td>\n",
       "      <td>Amazonbasics</td>\n",
       "      <td>AA,AAA,Health,Electronics,Health &amp; Household,C...</td>\n",
       "      <td>Health &amp; Beauty</td>\n",
       "      <td>AmazonBasics</td>\n",
       "      <td>HL-002619</td>\n",
       "      <td>2016-12-06T00:00:00.000Z</td>\n",
       "      <td>2017-08-28T00:00:00Z</td>\n",
       "      <td>NaN</td>\n",
       "      <td>NaN</td>\n",
       "      <td>5</td>\n",
       "      <td>Well they are not Duracell but for the price i...</td>\n",
       "      <td>BySharon Lambert</td>\n",
       "      <td>https://www.barcodable.com/upc/841710106442,ht...</td>\n",
       "    </tr>\n",
       "    <tr>\n",
       "      <th>3</th>\n",
       "      <td>2015-10-30T08:59:32Z</td>\n",
       "      <td>2019-04-25T09:08:16Z</td>\n",
       "      <td>AmazonBasics AAA Performance Alkaline Batterie...</td>\n",
       "      <td>Amazonbasics</td>\n",
       "      <td>AA,AAA,Health,Electronics,Health &amp; Household,C...</td>\n",
       "      <td>Health &amp; Beauty</td>\n",
       "      <td>AmazonBasics</td>\n",
       "      <td>HL-002619</td>\n",
       "      <td>2016-03-28T00:00:00.000Z</td>\n",
       "      <td>2017-08-28T00:00:00Z</td>\n",
       "      <td>NaN</td>\n",
       "      <td>NaN</td>\n",
       "      <td>5</td>\n",
       "      <td>Seem to work as well as name brand batteries a...</td>\n",
       "      <td>Bymark sexson</td>\n",
       "      <td>https://www.barcodable.com/upc/841710106442,ht...</td>\n",
       "    </tr>\n",
       "    <tr>\n",
       "      <th>4</th>\n",
       "      <td>2015-10-30T08:59:32Z</td>\n",
       "      <td>2019-04-25T09:08:16Z</td>\n",
       "      <td>AmazonBasics AAA Performance Alkaline Batterie...</td>\n",
       "      <td>Amazonbasics</td>\n",
       "      <td>AA,AAA,Health,Electronics,Health &amp; Household,C...</td>\n",
       "      <td>Health &amp; Beauty</td>\n",
       "      <td>AmazonBasics</td>\n",
       "      <td>HL-002619</td>\n",
       "      <td>2017-04-22T00:00:00.000Z</td>\n",
       "      <td>2017-08-28T00:00:00Z</td>\n",
       "      <td>NaN</td>\n",
       "      <td>NaN</td>\n",
       "      <td>5</td>\n",
       "      <td>These batteries are very long lasting the pric...</td>\n",
       "      <td>Bylinda</td>\n",
       "      <td>https://www.barcodable.com/upc/841710106442,ht...</td>\n",
       "    </tr>\n",
       "  </tbody>\n",
       "</table>\n",
       "</div>"
      ],
      "text/plain": [
       "              dateAdded           dateUpdated  \\\n",
       "0  2015-10-30T08:59:32Z  2019-04-25T09:08:16Z   \n",
       "1  2015-10-30T08:59:32Z  2019-04-25T09:08:16Z   \n",
       "2  2015-10-30T08:59:32Z  2019-04-25T09:08:16Z   \n",
       "3  2015-10-30T08:59:32Z  2019-04-25T09:08:16Z   \n",
       "4  2015-10-30T08:59:32Z  2019-04-25T09:08:16Z   \n",
       "\n",
       "                                                name         brand  \\\n",
       "0  AmazonBasics AAA Performance Alkaline Batterie...  Amazonbasics   \n",
       "1  AmazonBasics AAA Performance Alkaline Batterie...  Amazonbasics   \n",
       "2  AmazonBasics AAA Performance Alkaline Batterie...  Amazonbasics   \n",
       "3  AmazonBasics AAA Performance Alkaline Batterie...  Amazonbasics   \n",
       "4  AmazonBasics AAA Performance Alkaline Batterie...  Amazonbasics   \n",
       "\n",
       "                                          categories primaryCategories  \\\n",
       "0  AA,AAA,Health,Electronics,Health & Household,C...   Health & Beauty   \n",
       "1  AA,AAA,Health,Electronics,Health & Household,C...   Health & Beauty   \n",
       "2  AA,AAA,Health,Electronics,Health & Household,C...   Health & Beauty   \n",
       "3  AA,AAA,Health,Electronics,Health & Household,C...   Health & Beauty   \n",
       "4  AA,AAA,Health,Electronics,Health & Household,C...   Health & Beauty   \n",
       "\n",
       "   manufacturer manufacturerNumber              reviews.date  \\\n",
       "0  AmazonBasics          HL-002619  2017-03-02T00:00:00.000Z   \n",
       "1  AmazonBasics          HL-002619  2016-08-31T00:00:00.000Z   \n",
       "2  AmazonBasics          HL-002619  2016-12-06T00:00:00.000Z   \n",
       "3  AmazonBasics          HL-002619  2016-03-28T00:00:00.000Z   \n",
       "4  AmazonBasics          HL-002619  2017-04-22T00:00:00.000Z   \n",
       "\n",
       "       reviews.dateSeen reviews.doRecommend  reviews.numHelpful  \\\n",
       "0  2017-08-28T00:00:00Z                 NaN                 NaN   \n",
       "1  2017-08-28T00:00:00Z                 NaN                 NaN   \n",
       "2  2017-08-28T00:00:00Z                 NaN                 NaN   \n",
       "3  2017-08-28T00:00:00Z                 NaN                 NaN   \n",
       "4  2017-08-28T00:00:00Z                 NaN                 NaN   \n",
       "\n",
       "   reviews.rating                                       reviews.text  \\\n",
       "0               3  I order 3 of them and one of the item is bad q...   \n",
       "1               4  Bulk is always the less expensive way to go fo...   \n",
       "2               5  Well they are not Duracell but for the price i...   \n",
       "3               5  Seem to work as well as name brand batteries a...   \n",
       "4               5  These batteries are very long lasting the pric...   \n",
       "\n",
       "   reviews.username                                         sourceURLs  \n",
       "0        Byger yang  https://www.barcodable.com/upc/841710106442,ht...  \n",
       "1              ByMG  https://www.barcodable.com/upc/841710106442,ht...  \n",
       "2  BySharon Lambert  https://www.barcodable.com/upc/841710106442,ht...  \n",
       "3     Bymark sexson  https://www.barcodable.com/upc/841710106442,ht...  \n",
       "4           Bylinda  https://www.barcodable.com/upc/841710106442,ht...  "
      ]
     },
     "execution_count": 19,
     "metadata": {},
     "output_type": "execute_result"
    }
   ],
   "source": [
    "df.head()"
   ]
  },
  {
   "cell_type": "code",
   "execution_count": 20,
   "id": "ccff81b7",
   "metadata": {},
   "outputs": [],
   "source": [
    "df['reviews.date'] = df['reviews.date'].str.split(',').str[0]\n",
    "df['reviews.dateSeen'] = df['reviews.dateSeen'].str.split(',').str[0]"
   ]
  },
  {
   "cell_type": "code",
   "execution_count": 21,
   "id": "b05f522f",
   "metadata": {},
   "outputs": [],
   "source": [
    "df['dateAdded'] = pd.to_datetime(df['dateAdded'])\n",
    "df['dateUpdated'] = pd.to_datetime(df['dateUpdated'])\n",
    "df['reviews.date'] = pd.to_datetime(df['reviews.date'])\n",
    "df['reviews.dateSeen'] = pd.to_datetime(df['reviews.dateSeen'])"
   ]
  },
  {
   "cell_type": "code",
   "execution_count": 22,
   "id": "2d8c3ecc",
   "metadata": {},
   "outputs": [],
   "source": [
    "df['monthAdded'] = df['dateAdded'].apply(lambda date:date.month)\n",
    "df['yearAdded'] = df['dateAdded'].apply(lambda date:date.year)"
   ]
  },
  {
   "cell_type": "code",
   "execution_count": 23,
   "id": "c91620bc",
   "metadata": {},
   "outputs": [],
   "source": [
    "df = df.drop('dateAdded',axis=1)"
   ]
  },
  {
   "cell_type": "code",
   "execution_count": 24,
   "id": "322ffb1f",
   "metadata": {},
   "outputs": [],
   "source": [
    "df['monthUpdated'] = df['dateUpdated'].apply(lambda date:date.month)\n",
    "df['yearUpdated'] = df['dateUpdated'].apply(lambda date:date.year)"
   ]
  },
  {
   "cell_type": "code",
   "execution_count": 25,
   "id": "38741188",
   "metadata": {},
   "outputs": [],
   "source": [
    "df = df.drop('dateUpdated',axis=1)"
   ]
  },
  {
   "cell_type": "code",
   "execution_count": 26,
   "id": "2be58200",
   "metadata": {},
   "outputs": [],
   "source": [
    "df['month'] = df['reviews.date'].apply(lambda date:date.month)\n",
    "df['year'] = df['reviews.date'].apply(lambda date:date.year)"
   ]
  },
  {
   "cell_type": "code",
   "execution_count": 27,
   "id": "96a196b7",
   "metadata": {},
   "outputs": [],
   "source": [
    "df = df.drop('reviews.date',axis=1)"
   ]
  },
  {
   "cell_type": "code",
   "execution_count": 28,
   "id": "5da0dec5",
   "metadata": {},
   "outputs": [],
   "source": [
    "df['monthSeen'] = df['reviews.dateSeen'].apply(lambda date:date.month)\n",
    "df['yearSeen'] = df['reviews.dateSeen'].apply(lambda date:date.year)"
   ]
  },
  {
   "cell_type": "code",
   "execution_count": 29,
   "id": "d01e29d0",
   "metadata": {},
   "outputs": [],
   "source": [
    "df = df.drop('reviews.dateSeen',axis=1)"
   ]
  },
  {
   "cell_type": "code",
   "execution_count": 30,
   "id": "dfdd6700",
   "metadata": {},
   "outputs": [],
   "source": [
    "df['reviewLength'] = df['reviews.text'].apply(lambda review:len(review))"
   ]
  },
  {
   "cell_type": "code",
   "execution_count": 31,
   "id": "4ba3baff",
   "metadata": {},
   "outputs": [],
   "source": [
    "df = df.drop('reviews.text',axis=1)"
   ]
  },
  {
   "cell_type": "code",
   "execution_count": 32,
   "id": "b95f6b66",
   "metadata": {},
   "outputs": [
    {
     "data": {
      "text/html": [
       "<div>\n",
       "<style scoped>\n",
       "    .dataframe tbody tr th:only-of-type {\n",
       "        vertical-align: middle;\n",
       "    }\n",
       "\n",
       "    .dataframe tbody tr th {\n",
       "        vertical-align: top;\n",
       "    }\n",
       "\n",
       "    .dataframe thead th {\n",
       "        text-align: right;\n",
       "    }\n",
       "</style>\n",
       "<table border=\"1\" class=\"dataframe\">\n",
       "  <thead>\n",
       "    <tr style=\"text-align: right;\">\n",
       "      <th></th>\n",
       "      <th>name</th>\n",
       "      <th>brand</th>\n",
       "      <th>categories</th>\n",
       "      <th>primaryCategories</th>\n",
       "      <th>manufacturer</th>\n",
       "      <th>manufacturerNumber</th>\n",
       "      <th>reviews.doRecommend</th>\n",
       "      <th>reviews.numHelpful</th>\n",
       "      <th>reviews.rating</th>\n",
       "      <th>reviews.username</th>\n",
       "      <th>sourceURLs</th>\n",
       "      <th>monthAdded</th>\n",
       "      <th>yearAdded</th>\n",
       "      <th>monthUpdated</th>\n",
       "      <th>yearUpdated</th>\n",
       "      <th>month</th>\n",
       "      <th>year</th>\n",
       "      <th>monthSeen</th>\n",
       "      <th>yearSeen</th>\n",
       "      <th>reviewLength</th>\n",
       "    </tr>\n",
       "  </thead>\n",
       "  <tbody>\n",
       "    <tr>\n",
       "      <th>0</th>\n",
       "      <td>AmazonBasics AAA Performance Alkaline Batterie...</td>\n",
       "      <td>Amazonbasics</td>\n",
       "      <td>AA,AAA,Health,Electronics,Health &amp; Household,C...</td>\n",
       "      <td>Health &amp; Beauty</td>\n",
       "      <td>AmazonBasics</td>\n",
       "      <td>HL-002619</td>\n",
       "      <td>NaN</td>\n",
       "      <td>NaN</td>\n",
       "      <td>3</td>\n",
       "      <td>Byger yang</td>\n",
       "      <td>https://www.barcodable.com/upc/841710106442,ht...</td>\n",
       "      <td>10</td>\n",
       "      <td>2015</td>\n",
       "      <td>4</td>\n",
       "      <td>2019</td>\n",
       "      <td>3</td>\n",
       "      <td>2017</td>\n",
       "      <td>8</td>\n",
       "      <td>2017</td>\n",
       "      <td>139</td>\n",
       "    </tr>\n",
       "    <tr>\n",
       "      <th>1</th>\n",
       "      <td>AmazonBasics AAA Performance Alkaline Batterie...</td>\n",
       "      <td>Amazonbasics</td>\n",
       "      <td>AA,AAA,Health,Electronics,Health &amp; Household,C...</td>\n",
       "      <td>Health &amp; Beauty</td>\n",
       "      <td>AmazonBasics</td>\n",
       "      <td>HL-002619</td>\n",
       "      <td>NaN</td>\n",
       "      <td>NaN</td>\n",
       "      <td>4</td>\n",
       "      <td>ByMG</td>\n",
       "      <td>https://www.barcodable.com/upc/841710106442,ht...</td>\n",
       "      <td>10</td>\n",
       "      <td>2015</td>\n",
       "      <td>4</td>\n",
       "      <td>2019</td>\n",
       "      <td>8</td>\n",
       "      <td>2016</td>\n",
       "      <td>8</td>\n",
       "      <td>2017</td>\n",
       "      <td>67</td>\n",
       "    </tr>\n",
       "    <tr>\n",
       "      <th>2</th>\n",
       "      <td>AmazonBasics AAA Performance Alkaline Batterie...</td>\n",
       "      <td>Amazonbasics</td>\n",
       "      <td>AA,AAA,Health,Electronics,Health &amp; Household,C...</td>\n",
       "      <td>Health &amp; Beauty</td>\n",
       "      <td>AmazonBasics</td>\n",
       "      <td>HL-002619</td>\n",
       "      <td>NaN</td>\n",
       "      <td>NaN</td>\n",
       "      <td>5</td>\n",
       "      <td>BySharon Lambert</td>\n",
       "      <td>https://www.barcodable.com/upc/841710106442,ht...</td>\n",
       "      <td>10</td>\n",
       "      <td>2015</td>\n",
       "      <td>4</td>\n",
       "      <td>2019</td>\n",
       "      <td>12</td>\n",
       "      <td>2016</td>\n",
       "      <td>8</td>\n",
       "      <td>2017</td>\n",
       "      <td>56</td>\n",
       "    </tr>\n",
       "    <tr>\n",
       "      <th>3</th>\n",
       "      <td>AmazonBasics AAA Performance Alkaline Batterie...</td>\n",
       "      <td>Amazonbasics</td>\n",
       "      <td>AA,AAA,Health,Electronics,Health &amp; Household,C...</td>\n",
       "      <td>Health &amp; Beauty</td>\n",
       "      <td>AmazonBasics</td>\n",
       "      <td>HL-002619</td>\n",
       "      <td>NaN</td>\n",
       "      <td>NaN</td>\n",
       "      <td>5</td>\n",
       "      <td>Bymark sexson</td>\n",
       "      <td>https://www.barcodable.com/upc/841710106442,ht...</td>\n",
       "      <td>10</td>\n",
       "      <td>2015</td>\n",
       "      <td>4</td>\n",
       "      <td>2019</td>\n",
       "      <td>3</td>\n",
       "      <td>2016</td>\n",
       "      <td>8</td>\n",
       "      <td>2017</td>\n",
       "      <td>67</td>\n",
       "    </tr>\n",
       "    <tr>\n",
       "      <th>4</th>\n",
       "      <td>AmazonBasics AAA Performance Alkaline Batterie...</td>\n",
       "      <td>Amazonbasics</td>\n",
       "      <td>AA,AAA,Health,Electronics,Health &amp; Household,C...</td>\n",
       "      <td>Health &amp; Beauty</td>\n",
       "      <td>AmazonBasics</td>\n",
       "      <td>HL-002619</td>\n",
       "      <td>NaN</td>\n",
       "      <td>NaN</td>\n",
       "      <td>5</td>\n",
       "      <td>Bylinda</td>\n",
       "      <td>https://www.barcodable.com/upc/841710106442,ht...</td>\n",
       "      <td>10</td>\n",
       "      <td>2015</td>\n",
       "      <td>4</td>\n",
       "      <td>2019</td>\n",
       "      <td>4</td>\n",
       "      <td>2017</td>\n",
       "      <td>8</td>\n",
       "      <td>2017</td>\n",
       "      <td>57</td>\n",
       "    </tr>\n",
       "  </tbody>\n",
       "</table>\n",
       "</div>"
      ],
      "text/plain": [
       "                                                name         brand  \\\n",
       "0  AmazonBasics AAA Performance Alkaline Batterie...  Amazonbasics   \n",
       "1  AmazonBasics AAA Performance Alkaline Batterie...  Amazonbasics   \n",
       "2  AmazonBasics AAA Performance Alkaline Batterie...  Amazonbasics   \n",
       "3  AmazonBasics AAA Performance Alkaline Batterie...  Amazonbasics   \n",
       "4  AmazonBasics AAA Performance Alkaline Batterie...  Amazonbasics   \n",
       "\n",
       "                                          categories primaryCategories  \\\n",
       "0  AA,AAA,Health,Electronics,Health & Household,C...   Health & Beauty   \n",
       "1  AA,AAA,Health,Electronics,Health & Household,C...   Health & Beauty   \n",
       "2  AA,AAA,Health,Electronics,Health & Household,C...   Health & Beauty   \n",
       "3  AA,AAA,Health,Electronics,Health & Household,C...   Health & Beauty   \n",
       "4  AA,AAA,Health,Electronics,Health & Household,C...   Health & Beauty   \n",
       "\n",
       "   manufacturer manufacturerNumber reviews.doRecommend  reviews.numHelpful  \\\n",
       "0  AmazonBasics          HL-002619                 NaN                 NaN   \n",
       "1  AmazonBasics          HL-002619                 NaN                 NaN   \n",
       "2  AmazonBasics          HL-002619                 NaN                 NaN   \n",
       "3  AmazonBasics          HL-002619                 NaN                 NaN   \n",
       "4  AmazonBasics          HL-002619                 NaN                 NaN   \n",
       "\n",
       "   reviews.rating  reviews.username  \\\n",
       "0               3        Byger yang   \n",
       "1               4              ByMG   \n",
       "2               5  BySharon Lambert   \n",
       "3               5     Bymark sexson   \n",
       "4               5           Bylinda   \n",
       "\n",
       "                                          sourceURLs  monthAdded  yearAdded  \\\n",
       "0  https://www.barcodable.com/upc/841710106442,ht...          10       2015   \n",
       "1  https://www.barcodable.com/upc/841710106442,ht...          10       2015   \n",
       "2  https://www.barcodable.com/upc/841710106442,ht...          10       2015   \n",
       "3  https://www.barcodable.com/upc/841710106442,ht...          10       2015   \n",
       "4  https://www.barcodable.com/upc/841710106442,ht...          10       2015   \n",
       "\n",
       "   monthUpdated  yearUpdated  month  year  monthSeen  yearSeen  reviewLength  \n",
       "0             4         2019      3  2017          8      2017           139  \n",
       "1             4         2019      8  2016          8      2017            67  \n",
       "2             4         2019     12  2016          8      2017            56  \n",
       "3             4         2019      3  2016          8      2017            67  \n",
       "4             4         2019      4  2017          8      2017            57  "
      ]
     },
     "execution_count": 32,
     "metadata": {},
     "output_type": "execute_result"
    }
   ],
   "source": [
    "df.head()"
   ]
  },
  {
   "cell_type": "code",
   "execution_count": 33,
   "id": "c341b162",
   "metadata": {},
   "outputs": [],
   "source": [
    "from sklearn.preprocessing import LabelEncoder"
   ]
  },
  {
   "cell_type": "code",
   "execution_count": 34,
   "id": "a0db169b",
   "metadata": {},
   "outputs": [],
   "source": [
    "le = LabelEncoder()\n",
    "df['name'] = le.fit_transform(df['name'])"
   ]
  },
  {
   "cell_type": "code",
   "execution_count": 35,
   "id": "b933fcd5",
   "metadata": {},
   "outputs": [],
   "source": [
    "le = LabelEncoder()\n",
    "df['brand'] = le.fit_transform(df['brand'])"
   ]
  },
  {
   "cell_type": "code",
   "execution_count": 36,
   "id": "f945c23d",
   "metadata": {},
   "outputs": [],
   "source": [
    "le = LabelEncoder()\n",
    "df['categories'] = le.fit_transform(df['categories'])"
   ]
  },
  {
   "cell_type": "code",
   "execution_count": 37,
   "id": "f7895b78",
   "metadata": {},
   "outputs": [],
   "source": [
    "le = LabelEncoder()\n",
    "df['primaryCategories'] = le.fit_transform(df['primaryCategories'])"
   ]
  },
  {
   "cell_type": "code",
   "execution_count": 38,
   "id": "a08b7528",
   "metadata": {},
   "outputs": [],
   "source": [
    "le = LabelEncoder()\n",
    "df['manufacturer'] = le.fit_transform(df['manufacturer'])"
   ]
  },
  {
   "cell_type": "code",
   "execution_count": 39,
   "id": "2e268031",
   "metadata": {},
   "outputs": [],
   "source": [
    "le = LabelEncoder()\n",
    "df['manufacturerNumber'] = le.fit_transform(df['manufacturerNumber'])"
   ]
  },
  {
   "cell_type": "code",
   "execution_count": 40,
   "id": "5719273a",
   "metadata": {},
   "outputs": [],
   "source": [
    "# Treating NAN as a seperate category\n",
    "le = LabelEncoder()\n",
    "df['reviews.doRecommend'] = le.fit_transform(df['reviews.doRecommend'])"
   ]
  },
  {
   "cell_type": "code",
   "execution_count": 41,
   "id": "6597c709",
   "metadata": {},
   "outputs": [],
   "source": [
    "le = LabelEncoder()\n",
    "df['reviews.numHelpful'] = le.fit_transform(df['reviews.numHelpful'])"
   ]
  },
  {
   "cell_type": "code",
   "execution_count": 42,
   "id": "98a47ed4",
   "metadata": {},
   "outputs": [],
   "source": [
    "le = LabelEncoder()\n",
    "df['reviews.username'] = le.fit_transform(df['reviews.username'])"
   ]
  },
  {
   "cell_type": "code",
   "execution_count": 43,
   "id": "458cca0d",
   "metadata": {},
   "outputs": [
    {
     "data": {
      "text/html": [
       "<div>\n",
       "<style scoped>\n",
       "    .dataframe tbody tr th:only-of-type {\n",
       "        vertical-align: middle;\n",
       "    }\n",
       "\n",
       "    .dataframe tbody tr th {\n",
       "        vertical-align: top;\n",
       "    }\n",
       "\n",
       "    .dataframe thead th {\n",
       "        text-align: right;\n",
       "    }\n",
       "</style>\n",
       "<table border=\"1\" class=\"dataframe\">\n",
       "  <thead>\n",
       "    <tr style=\"text-align: right;\">\n",
       "      <th></th>\n",
       "      <th>name</th>\n",
       "      <th>brand</th>\n",
       "      <th>categories</th>\n",
       "      <th>primaryCategories</th>\n",
       "      <th>manufacturer</th>\n",
       "      <th>manufacturerNumber</th>\n",
       "      <th>reviews.doRecommend</th>\n",
       "      <th>reviews.numHelpful</th>\n",
       "      <th>reviews.rating</th>\n",
       "      <th>reviews.username</th>\n",
       "      <th>sourceURLs</th>\n",
       "      <th>monthAdded</th>\n",
       "      <th>yearAdded</th>\n",
       "      <th>monthUpdated</th>\n",
       "      <th>yearUpdated</th>\n",
       "      <th>month</th>\n",
       "      <th>year</th>\n",
       "      <th>monthSeen</th>\n",
       "      <th>yearSeen</th>\n",
       "      <th>reviewLength</th>\n",
       "    </tr>\n",
       "  </thead>\n",
       "  <tbody>\n",
       "    <tr>\n",
       "      <th>0</th>\n",
       "      <td>29</td>\n",
       "      <td>2</td>\n",
       "      <td>1</td>\n",
       "      <td>4</td>\n",
       "      <td>3</td>\n",
       "      <td>55</td>\n",
       "      <td>2</td>\n",
       "      <td>61</td>\n",
       "      <td>3</td>\n",
       "      <td>8417</td>\n",
       "      <td>https://www.barcodable.com/upc/841710106442,ht...</td>\n",
       "      <td>10</td>\n",
       "      <td>2015</td>\n",
       "      <td>4</td>\n",
       "      <td>2019</td>\n",
       "      <td>3</td>\n",
       "      <td>2017</td>\n",
       "      <td>8</td>\n",
       "      <td>2017</td>\n",
       "      <td>139</td>\n",
       "    </tr>\n",
       "    <tr>\n",
       "      <th>1</th>\n",
       "      <td>29</td>\n",
       "      <td>2</td>\n",
       "      <td>1</td>\n",
       "      <td>4</td>\n",
       "      <td>3</td>\n",
       "      <td>55</td>\n",
       "      <td>2</td>\n",
       "      <td>61</td>\n",
       "      <td>4</td>\n",
       "      <td>5201</td>\n",
       "      <td>https://www.barcodable.com/upc/841710106442,ht...</td>\n",
       "      <td>10</td>\n",
       "      <td>2015</td>\n",
       "      <td>4</td>\n",
       "      <td>2019</td>\n",
       "      <td>8</td>\n",
       "      <td>2016</td>\n",
       "      <td>8</td>\n",
       "      <td>2017</td>\n",
       "      <td>67</td>\n",
       "    </tr>\n",
       "    <tr>\n",
       "      <th>2</th>\n",
       "      <td>29</td>\n",
       "      <td>2</td>\n",
       "      <td>1</td>\n",
       "      <td>4</td>\n",
       "      <td>3</td>\n",
       "      <td>55</td>\n",
       "      <td>2</td>\n",
       "      <td>61</td>\n",
       "      <td>5</td>\n",
       "      <td>6994</td>\n",
       "      <td>https://www.barcodable.com/upc/841710106442,ht...</td>\n",
       "      <td>10</td>\n",
       "      <td>2015</td>\n",
       "      <td>4</td>\n",
       "      <td>2019</td>\n",
       "      <td>12</td>\n",
       "      <td>2016</td>\n",
       "      <td>8</td>\n",
       "      <td>2017</td>\n",
       "      <td>56</td>\n",
       "    </tr>\n",
       "    <tr>\n",
       "      <th>3</th>\n",
       "      <td>29</td>\n",
       "      <td>2</td>\n",
       "      <td>1</td>\n",
       "      <td>4</td>\n",
       "      <td>3</td>\n",
       "      <td>55</td>\n",
       "      <td>2</td>\n",
       "      <td>61</td>\n",
       "      <td>5</td>\n",
       "      <td>8769</td>\n",
       "      <td>https://www.barcodable.com/upc/841710106442,ht...</td>\n",
       "      <td>10</td>\n",
       "      <td>2015</td>\n",
       "      <td>4</td>\n",
       "      <td>2019</td>\n",
       "      <td>3</td>\n",
       "      <td>2016</td>\n",
       "      <td>8</td>\n",
       "      <td>2017</td>\n",
       "      <td>67</td>\n",
       "    </tr>\n",
       "    <tr>\n",
       "      <th>4</th>\n",
       "      <td>29</td>\n",
       "      <td>2</td>\n",
       "      <td>1</td>\n",
       "      <td>4</td>\n",
       "      <td>3</td>\n",
       "      <td>55</td>\n",
       "      <td>2</td>\n",
       "      <td>61</td>\n",
       "      <td>5</td>\n",
       "      <td>8713</td>\n",
       "      <td>https://www.barcodable.com/upc/841710106442,ht...</td>\n",
       "      <td>10</td>\n",
       "      <td>2015</td>\n",
       "      <td>4</td>\n",
       "      <td>2019</td>\n",
       "      <td>4</td>\n",
       "      <td>2017</td>\n",
       "      <td>8</td>\n",
       "      <td>2017</td>\n",
       "      <td>57</td>\n",
       "    </tr>\n",
       "  </tbody>\n",
       "</table>\n",
       "</div>"
      ],
      "text/plain": [
       "   name  brand  categories  primaryCategories  manufacturer  \\\n",
       "0    29      2           1                  4             3   \n",
       "1    29      2           1                  4             3   \n",
       "2    29      2           1                  4             3   \n",
       "3    29      2           1                  4             3   \n",
       "4    29      2           1                  4             3   \n",
       "\n",
       "   manufacturerNumber  reviews.doRecommend  reviews.numHelpful  \\\n",
       "0                  55                    2                  61   \n",
       "1                  55                    2                  61   \n",
       "2                  55                    2                  61   \n",
       "3                  55                    2                  61   \n",
       "4                  55                    2                  61   \n",
       "\n",
       "   reviews.rating  reviews.username  \\\n",
       "0               3              8417   \n",
       "1               4              5201   \n",
       "2               5              6994   \n",
       "3               5              8769   \n",
       "4               5              8713   \n",
       "\n",
       "                                          sourceURLs  monthAdded  yearAdded  \\\n",
       "0  https://www.barcodable.com/upc/841710106442,ht...          10       2015   \n",
       "1  https://www.barcodable.com/upc/841710106442,ht...          10       2015   \n",
       "2  https://www.barcodable.com/upc/841710106442,ht...          10       2015   \n",
       "3  https://www.barcodable.com/upc/841710106442,ht...          10       2015   \n",
       "4  https://www.barcodable.com/upc/841710106442,ht...          10       2015   \n",
       "\n",
       "   monthUpdated  yearUpdated  month  year  monthSeen  yearSeen  reviewLength  \n",
       "0             4         2019      3  2017          8      2017           139  \n",
       "1             4         2019      8  2016          8      2017            67  \n",
       "2             4         2019     12  2016          8      2017            56  \n",
       "3             4         2019      3  2016          8      2017            67  \n",
       "4             4         2019      4  2017          8      2017            57  "
      ]
     },
     "execution_count": 43,
     "metadata": {},
     "output_type": "execute_result"
    }
   ],
   "source": [
    "df.head()"
   ]
  },
  {
   "cell_type": "code",
   "execution_count": 44,
   "id": "862b5087",
   "metadata": {},
   "outputs": [
    {
     "data": {
      "text/plain": [
       "reviewLength          -0.120010\n",
       "reviews.numHelpful    -0.061476\n",
       "manufacturer          -0.060569\n",
       "brand                 -0.059763\n",
       "manufacturerNumber    -0.058132\n",
       "monthAdded            -0.052539\n",
       "monthUpdated          -0.050845\n",
       "monthSeen             -0.039898\n",
       "primaryCategories     -0.036668\n",
       "month                 -0.002281\n",
       "year                  -0.000451\n",
       "name                   0.003624\n",
       "yearSeen               0.029577\n",
       "reviews.username       0.041562\n",
       "reviews.doRecommend    0.054526\n",
       "yearAdded              0.057732\n",
       "categories             0.060581\n",
       "reviews.rating         1.000000\n",
       "yearUpdated                 NaN\n",
       "Name: reviews.rating, dtype: float64"
      ]
     },
     "execution_count": 44,
     "metadata": {},
     "output_type": "execute_result"
    }
   ],
   "source": [
    "# Low correlation\n",
    "df.corr()['reviews.rating'].sort_values()"
   ]
  },
  {
   "cell_type": "code",
   "execution_count": 45,
   "id": "4ed25800",
   "metadata": {},
   "outputs": [],
   "source": [
    "df = df.drop('yearUpdated',axis=1)"
   ]
  },
  {
   "cell_type": "code",
   "execution_count": 46,
   "id": "b69385a7",
   "metadata": {},
   "outputs": [],
   "source": [
    "df = df.drop('month',axis=1)\n",
    "df = df.drop('year',axis=1)\n",
    "df = df.drop('name',axis=1)\n",
    "df = df.drop('yearSeen',axis=1)\n",
    "df = df.drop('primaryCategories',axis=1)\n",
    "df = df.drop('monthSeen',axis=1)"
   ]
  },
  {
   "cell_type": "code",
   "execution_count": 47,
   "id": "d30349cf",
   "metadata": {},
   "outputs": [],
   "source": [
    "import seaborn as sns\n",
    "import matplotlib.pyplot as plt"
   ]
  },
  {
   "cell_type": "code",
   "execution_count": 48,
   "id": "4e41ae70",
   "metadata": {},
   "outputs": [
    {
     "data": {
      "text/plain": [
       "<AxesSubplot:>"
      ]
     },
     "execution_count": 48,
     "metadata": {},
     "output_type": "execute_result"
    },
    {
     "data": {
      "image/png": "[encoded data removed]",
      "text/plain": [
       "<Figure size 432x288 with 2 Axes>"
      ]
     },
     "metadata": {
      "needs_background": "light"
     },
     "output_type": "display_data"
    }
   ],
   "source": [
    "sns.heatmap(df.corr())"
   ]
  },
  {
   "cell_type": "markdown",
   "id": "08e91bf0",
   "metadata": {},
   "source": [
    "## Train Test Split"
   ]
  },
  {
   "cell_type": "code",
   "execution_count": 62,
   "id": "3123f486",
   "metadata": {},
   "outputs": [],
   "source": [
    "X = df.drop('reviews.rating',axis=1).values\n",
    "y = df['reviews.rating'].values"
   ]
  },
  {
   "cell_type": "code",
   "execution_count": 63,
   "id": "fda15a07",
   "metadata": {},
   "outputs": [],
   "source": [
    "from sklearn.model_selection import train_test_split"
   ]
  },
  {
   "cell_type": "code",
   "execution_count": 64,
   "id": "e2d977d4",
   "metadata": {},
   "outputs": [],
   "source": [
    "X_train, X_test, y_train, y_test = train_test_split(X,y,test_size=0.3,random_state=42)"
   ]
  },
  {
   "cell_type": "markdown",
   "id": "d327effd",
   "metadata": {},
   "source": [
    "## Scaling"
   ]
  },
  {
   "cell_type": "code",
   "execution_count": 65,
   "id": "d34347d5",
   "metadata": {},
   "outputs": [],
   "source": [
    "from sklearn.preprocessing import MinMaxScaler\n",
    "from sklearn.preprocessing import StandardScaler"
   ]
  },
  {
   "cell_type": "code",
   "execution_count": 66,
   "id": "db585923",
   "metadata": {},
   "outputs": [],
   "source": [
    "minMaxScaler = MinMaxScaler()\n",
    "standardScaler = StandardScaler()"
   ]
  },
  {
   "cell_type": "code",
   "execution_count": 67,
   "id": "b70f3423",
   "metadata": {},
   "outputs": [
    {
     "data": {
      "text/plain": [
       "StandardScaler()"
      ]
     },
     "execution_count": 67,
     "metadata": {},
     "output_type": "execute_result"
    }
   ],
   "source": [
    "standardScaler.fit(X_train)"
   ]
  },
  {
   "cell_type": "code",
   "execution_count": 68,
   "id": "06b0da2f",
   "metadata": {},
   "outputs": [],
   "source": [
    "X_train = standardScaler.transform(X_train)\n",
    "X_test = standardScaler.transform(X_test)"
   ]
  },
  {
   "cell_type": "code",
   "execution_count": 69,
   "id": "2cf84bd8",
   "metadata": {},
   "outputs": [
    {
     "data": {
      "text/plain": [
       "array([-0.86801714,  0.91957105, -0.86885348, -0.10999994, -0.75268001,\n",
       "       -0.87993006,  0.8110086 , -0.34866393,  1.0041713 , -1.30512585,\n",
       "       -0.27717307])"
      ]
     },
     "execution_count": 69,
     "metadata": {},
     "output_type": "execute_result"
    }
   ],
   "source": [
    "X_test[0]"
   ]
  },
  {
   "cell_type": "code",
   "execution_count": 70,
   "id": "d539a1eb",
   "metadata": {},
   "outputs": [],
   "source": [
    "from tensorflow.keras.utils import to_categorical "
   ]
  },
  {
   "cell_type": "code",
   "execution_count": 71,
   "id": "02b03a67",
   "metadata": {},
   "outputs": [],
   "source": [
    "y_train_categorical = to_categorical(y_train)\n",
    "y_test_categorical = to_categorical(y_test)"
   ]
  },
  {
   "cell_type": "code",
   "execution_count": 72,
   "id": "a4865f27",
   "metadata": {},
   "outputs": [
    {
     "name": "stdout",
     "output_type": "stream",
     "text": [
      "6\n",
      "6\n"
     ]
    }
   ],
   "source": [
    "print(y_train_categorical.shape[1])\n",
    "print(y_test_categorical.shape[1])"
   ]
  },
  {
   "cell_type": "markdown",
   "id": "0c47378f",
   "metadata": {},
   "source": [
    "## Model"
   ]
  },
  {
   "cell_type": "code",
   "execution_count": 73,
   "id": "06e82cc4",
   "metadata": {},
   "outputs": [],
   "source": [
    "import tensorflow as tf\n",
    "from tensorflow.keras.models import Sequential\n",
    "from tensorflow.keras.layers import Dense, Activation,Dropout"
   ]
  },
  {
   "cell_type": "code",
   "execution_count": 74,
   "id": "ff43baff",
   "metadata": {},
   "outputs": [
    {
     "data": {
      "text/plain": [
       "(19832, 11)"
      ]
     },
     "execution_count": 74,
     "metadata": {},
     "output_type": "execute_result"
    }
   ],
   "source": [
    "X_train.shape"
   ]
  },
  {
   "cell_type": "code",
   "execution_count": 75,
   "id": "57145434",
   "metadata": {},
   "outputs": [
    {
     "name": "stderr",
     "output_type": "stream",
     "text": [
      "2022-01-18 00:25:39.908772: I tensorflow/core/platform/cpu_feature_guard.cc:151] This TensorFlow binary is optimized with oneAPI Deep Neural Network Library (oneDNN) to use the following CPU instructions in performance-critical operations:  AVX2 FMA\n",
      "To enable them in other operations, rebuild TensorFlow with the appropriate compiler flags.\n"
     ]
    }
   ],
   "source": [
    "model = Sequential()\n",
    "\n",
    "# https://stats.stackexchange.com/questions/181/how-to-choose-the-number-of-hidden-layers-and-nodes-in-a-feedforward-neural-netw\n",
    "\n",
    "model.add(Dense(units=11,activation='relu'))\n",
    "\n",
    "model.add(Dense(units=10,activation='relu'))\n",
    "\n",
    "model.add(Dense(units=8,activation='relu'))\n",
    "\n",
    "model.add(Dense(units=6,activation='softmax'))\n",
    "\n",
    "# For a binary classification problem\n",
    "model.compile(loss='categorical_crossentropy', optimizer='adam')"
   ]
  },
  {
   "cell_type": "markdown",
   "id": "6564e1c7",
   "metadata": {},
   "source": [
    "## Training the Model"
   ]
  },
  {
   "cell_type": "code",
   "execution_count": 76,
   "id": "c8da31a3",
   "metadata": {},
   "outputs": [],
   "source": [
    "from tensorflow.keras.callbacks import EarlyStopping"
   ]
  },
  {
   "cell_type": "code",
   "execution_count": 77,
   "id": "15f77590",
   "metadata": {},
   "outputs": [],
   "source": [
    "early_stop = EarlyStopping(monitor='val_loss', mode='min', verbose=1, patience=25)"
   ]
  },
  {
   "cell_type": "code",
   "execution_count": 78,
   "id": "14895cf8",
   "metadata": {},
   "outputs": [
    {
     "name": "stdout",
     "output_type": "stream",
     "text": [
      "Epoch 1/600\n",
      "620/620 [==============================] - 1s 1ms/step - loss: 0.9898 - val_loss: 0.8655\n",
      "Epoch 2/600\n",
      "620/620 [==============================] - 1s 1ms/step - loss: 0.8349 - val_loss: 0.8165\n",
      "Epoch 3/600\n",
      "620/620 [==============================] - 1s 1ms/step - loss: 0.8136 - val_loss: 0.8088\n",
      "Epoch 4/600\n",
      "620/620 [==============================] - 1s 1ms/step - loss: 0.8083 - val_loss: 0.8036\n",
      "Epoch 5/600\n",
      "620/620 [==============================] - 1s 1ms/step - loss: 0.8048 - val_loss: 0.8003\n",
      "Epoch 6/600\n",
      "620/620 [==============================] - 1s 1ms/step - loss: 0.8031 - val_loss: 0.7989\n",
      "Epoch 7/600\n",
      "620/620 [==============================] - 1s 1ms/step - loss: 0.8017 - val_loss: 0.7981\n",
      "Epoch 8/600\n",
      "620/620 [==============================] - 1s 1ms/step - loss: 0.8009 - val_loss: 0.7958\n",
      "Epoch 9/600\n",
      "620/620 [==============================] - 1s 1ms/step - loss: 0.7999 - val_loss: 0.7961\n",
      "Epoch 10/600\n",
      "620/620 [==============================] - 1s 1ms/step - loss: 0.7990 - val_loss: 0.7947\n",
      "Epoch 11/600\n",
      "620/620 [==============================] - 1s 1ms/step - loss: 0.7984 - val_loss: 0.7953\n",
      "Epoch 12/600\n",
      "620/620 [==============================] - 1s 1ms/step - loss: 0.7981 - val_loss: 0.7950\n",
      "Epoch 13/600\n",
      "620/620 [==============================] - 1s 1ms/step - loss: 0.7976 - val_loss: 0.7947\n",
      "Epoch 14/600\n",
      "620/620 [==============================] - 1s 1ms/step - loss: 0.7974 - val_loss: 0.7943\n",
      "Epoch 15/600\n",
      "620/620 [==============================] - 1s 1ms/step - loss: 0.7972 - val_loss: 0.7936\n",
      "Epoch 16/600\n",
      "620/620 [==============================] - 1s 1ms/step - loss: 0.7968 - val_loss: 0.7927\n",
      "Epoch 17/600\n",
      "620/620 [==============================] - 1s 1ms/step - loss: 0.7961 - val_loss: 0.7924\n",
      "Epoch 18/600\n",
      "620/620 [==============================] - 1s 1ms/step - loss: 0.7967 - val_loss: 0.7925\n",
      "Epoch 19/600\n",
      "620/620 [==============================] - 1s 1ms/step - loss: 0.7961 - val_loss: 0.7942\n",
      "Epoch 20/600\n",
      "620/620 [==============================] - 1s 1ms/step - loss: 0.7951 - val_loss: 0.7939\n",
      "Epoch 21/600\n",
      "620/620 [==============================] - 1s 1ms/step - loss: 0.7953 - val_loss: 0.7915\n",
      "Epoch 22/600\n",
      "620/620 [==============================] - 1s 1ms/step - loss: 0.7949 - val_loss: 0.7932\n",
      "Epoch 23/600\n",
      "620/620 [==============================] - 1s 1ms/step - loss: 0.7955 - val_loss: 0.7909\n",
      "Epoch 24/600\n",
      "620/620 [==============================] - 1s 1ms/step - loss: 0.7946 - val_loss: 0.7936\n",
      "Epoch 25/600\n",
      "620/620 [==============================] - 1s 1ms/step - loss: 0.7943 - val_loss: 0.7945\n",
      "Epoch 26/600\n",
      "620/620 [==============================] - 1s 1ms/step - loss: 0.7941 - val_loss: 0.7928\n",
      "Epoch 27/600\n",
      "620/620 [==============================] - 1s 1ms/step - loss: 0.7940 - val_loss: 0.7912\n",
      "Epoch 28/600\n",
      "620/620 [==============================] - 1s 1ms/step - loss: 0.7941 - val_loss: 0.7906\n",
      "Epoch 29/600\n",
      "620/620 [==============================] - 1s 1ms/step - loss: 0.7940 - val_loss: 0.7899\n",
      "Epoch 30/600\n",
      "620/620 [==============================] - 1s 1ms/step - loss: 0.7938 - val_loss: 0.7903\n",
      "Epoch 31/600\n",
      "620/620 [==============================] - 1s 1ms/step - loss: 0.7935 - val_loss: 0.7902\n",
      "Epoch 32/600\n",
      "620/620 [==============================] - 1s 1ms/step - loss: 0.7928 - val_loss: 0.7951\n",
      "Epoch 33/600\n",
      "620/620 [==============================] - 1s 1ms/step - loss: 0.7933 - val_loss: 0.7920\n",
      "Epoch 34/600\n",
      "620/620 [==============================] - 1s 1ms/step - loss: 0.7930 - val_loss: 0.7911\n",
      "Epoch 35/600\n",
      "620/620 [==============================] - 1s 1ms/step - loss: 0.7932 - val_loss: 0.7922\n",
      "Epoch 36/600\n",
      "620/620 [==============================] - 1s 1ms/step - loss: 0.7927 - val_loss: 0.7929\n",
      "Epoch 37/600\n",
      "620/620 [==============================] - 1s 1ms/step - loss: 0.7927 - val_loss: 0.7918\n",
      "Epoch 38/600\n",
      "620/620 [==============================] - 1s 1ms/step - loss: 0.7918 - val_loss: 0.7904\n",
      "Epoch 39/600\n",
      "620/620 [==============================] - 1s 1ms/step - loss: 0.7924 - val_loss: 0.7913\n",
      "Epoch 40/600\n",
      "620/620 [==============================] - 1s 1ms/step - loss: 0.7919 - val_loss: 0.7907\n",
      "Epoch 41/600\n",
      "620/620 [==============================] - 1s 1ms/step - loss: 0.7922 - val_loss: 0.7903\n",
      "Epoch 42/600\n",
      "620/620 [==============================] - 1s 1ms/step - loss: 0.7922 - val_loss: 0.7905\n",
      "Epoch 43/600\n",
      "620/620 [==============================] - 1s 1ms/step - loss: 0.7915 - val_loss: 0.7926\n",
      "Epoch 44/600\n",
      "620/620 [==============================] - 1s 1ms/step - loss: 0.7917 - val_loss: 0.7902\n",
      "Epoch 45/600\n",
      "620/620 [==============================] - 1s 1ms/step - loss: 0.7918 - val_loss: 0.7904\n",
      "Epoch 46/600\n",
      "620/620 [==============================] - 1s 1ms/step - loss: 0.7917 - val_loss: 0.7924\n",
      "Epoch 47/600\n",
      "620/620 [==============================] - 1s 1ms/step - loss: 0.7915 - val_loss: 0.7929\n",
      "Epoch 48/600\n",
      "620/620 [==============================] - 1s 1ms/step - loss: 0.7916 - val_loss: 0.7901\n",
      "Epoch 49/600\n",
      "620/620 [==============================] - 1s 1ms/step - loss: 0.7911 - val_loss: 0.7893\n",
      "Epoch 50/600\n",
      "620/620 [==============================] - 1s 1ms/step - loss: 0.7912 - val_loss: 0.7909\n",
      "Epoch 51/600\n",
      "620/620 [==============================] - 1s 1ms/step - loss: 0.7910 - val_loss: 0.7903\n",
      "Epoch 52/600\n",
      "620/620 [==============================] - 1s 1ms/step - loss: 0.7911 - val_loss: 0.7899\n",
      "Epoch 53/600\n",
      "620/620 [==============================] - 1s 1ms/step - loss: 0.7906 - val_loss: 0.7914\n",
      "Epoch 54/600\n",
      "620/620 [==============================] - 1s 1ms/step - loss: 0.7912 - val_loss: 0.7912\n",
      "Epoch 55/600\n",
      "620/620 [==============================] - 1s 1ms/step - loss: 0.7906 - val_loss: 0.7899\n",
      "Epoch 56/600\n",
      "620/620 [==============================] - 1s 1ms/step - loss: 0.7912 - val_loss: 0.7894\n",
      "Epoch 57/600\n",
      "620/620 [==============================] - 1s 1ms/step - loss: 0.7902 - val_loss: 0.7903\n",
      "Epoch 58/600\n",
      "620/620 [==============================] - 1s 1ms/step - loss: 0.7910 - val_loss: 0.7904\n",
      "Epoch 59/600\n",
      "620/620 [==============================] - 1s 1ms/step - loss: 0.7905 - val_loss: 0.7903\n",
      "Epoch 60/600\n",
      "620/620 [==============================] - 1s 1ms/step - loss: 0.7902 - val_loss: 0.7910\n",
      "Epoch 61/600\n",
      "620/620 [==============================] - 1s 1ms/step - loss: 0.7901 - val_loss: 0.7906\n",
      "Epoch 62/600\n",
      "620/620 [==============================] - 1s 1ms/step - loss: 0.7902 - val_loss: 0.7887\n",
      "Epoch 63/600\n",
      "620/620 [==============================] - 1s 1ms/step - loss: 0.7895 - val_loss: 0.7918\n",
      "Epoch 64/600\n",
      "620/620 [==============================] - 1s 1ms/step - loss: 0.7908 - val_loss: 0.7900\n",
      "Epoch 65/600\n",
      "620/620 [==============================] - 1s 1ms/step - loss: 0.7901 - val_loss: 0.7906\n",
      "Epoch 66/600\n",
      "620/620 [==============================] - 1s 1ms/step - loss: 0.7899 - val_loss: 0.7923\n",
      "Epoch 67/600\n",
      "620/620 [==============================] - 1s 1ms/step - loss: 0.7900 - val_loss: 0.7918\n",
      "Epoch 68/600\n",
      "620/620 [==============================] - 1s 1ms/step - loss: 0.7903 - val_loss: 0.7909\n",
      "Epoch 69/600\n",
      "620/620 [==============================] - 1s 1ms/step - loss: 0.7896 - val_loss: 0.7911\n",
      "Epoch 70/600\n",
      "620/620 [==============================] - 1s 1ms/step - loss: 0.7901 - val_loss: 0.7911\n",
      "Epoch 71/600\n",
      "620/620 [==============================] - 1s 1ms/step - loss: 0.7899 - val_loss: 0.7902\n",
      "Epoch 72/600\n",
      "620/620 [==============================] - 1s 1ms/step - loss: 0.7893 - val_loss: 0.7904\n",
      "Epoch 73/600\n",
      "620/620 [==============================] - 1s 1ms/step - loss: 0.7895 - val_loss: 0.7900\n",
      "Epoch 74/600\n",
      "620/620 [==============================] - 1s 1ms/step - loss: 0.7893 - val_loss: 0.7905\n",
      "Epoch 75/600\n",
      "620/620 [==============================] - 1s 1ms/step - loss: 0.7896 - val_loss: 0.7920\n",
      "Epoch 76/600\n",
      "620/620 [==============================] - 1s 1ms/step - loss: 0.7897 - val_loss: 0.7928\n",
      "Epoch 77/600\n",
      "620/620 [==============================] - 1s 1ms/step - loss: 0.7893 - val_loss: 0.7913\n",
      "Epoch 78/600\n",
      "620/620 [==============================] - 1s 1ms/step - loss: 0.7887 - val_loss: 0.7972\n",
      "Epoch 79/600\n",
      "620/620 [==============================] - 1s 1ms/step - loss: 0.7899 - val_loss: 0.7900\n",
      "Epoch 80/600\n",
      "620/620 [==============================] - 1s 1ms/step - loss: 0.7894 - val_loss: 0.7915\n",
      "Epoch 81/600\n"
     ]
    },
    {
     "name": "stdout",
     "output_type": "stream",
     "text": [
      "620/620 [==============================] - 1s 1ms/step - loss: 0.7893 - val_loss: 0.7903\n",
      "Epoch 82/600\n",
      "620/620 [==============================] - 1s 1ms/step - loss: 0.7890 - val_loss: 0.7913\n",
      "Epoch 83/600\n",
      "620/620 [==============================] - 1s 1ms/step - loss: 0.7890 - val_loss: 0.7898\n",
      "Epoch 84/600\n",
      "620/620 [==============================] - 1s 1ms/step - loss: 0.7884 - val_loss: 0.7930\n",
      "Epoch 85/600\n",
      "620/620 [==============================] - 1s 1ms/step - loss: 0.7894 - val_loss: 0.7908\n",
      "Epoch 86/600\n",
      "620/620 [==============================] - 1s 1ms/step - loss: 0.7887 - val_loss: 0.7935\n",
      "Epoch 87/600\n",
      "620/620 [==============================] - 1s 1ms/step - loss: 0.7891 - val_loss: 0.7918\n",
      "Epoch 00087: early stopping\n"
     ]
    },
    {
     "data": {
      "text/plain": [
       "<keras.callbacks.History at 0x7fda80d70a60>"
      ]
     },
     "execution_count": 78,
     "metadata": {},
     "output_type": "execute_result"
    }
   ],
   "source": [
    "model.fit(x=X_train, \n",
    "          y=y_train_categorical, \n",
    "          epochs=600,\n",
    "          validation_data=(X_test, y_test_categorical), verbose=1,\n",
    "          callbacks=[early_stop]\n",
    "          )"
   ]
  },
  {
   "cell_type": "code",
   "execution_count": 79,
   "id": "975bd84d",
   "metadata": {},
   "outputs": [],
   "source": [
    "losses = pd.DataFrame(model.history.history)"
   ]
  },
  {
   "cell_type": "code",
   "execution_count": 80,
   "id": "d335acc7",
   "metadata": {},
   "outputs": [
    {
     "data": {
      "text/plain": [
       "<AxesSubplot:>"
      ]
     },
     "execution_count": 80,
     "metadata": {},
     "output_type": "execute_result"
    },
    {
     "data": {
      "image/png": "[encoded data removed]",
      "text/plain": [
       "<Figure size 432x288 with 1 Axes>"
      ]
     },
     "metadata": {
      "needs_background": "light"
     },
     "output_type": "display_data"
    }
   ],
   "source": [
    "losses.plot()"
   ]
  },
  {
   "cell_type": "markdown",
   "id": "81bf5927",
   "metadata": {},
   "source": [
    "## Model Evaluation"
   ]
  },
  {
   "cell_type": "code",
   "execution_count": 81,
   "id": "8b76203d",
   "metadata": {},
   "outputs": [],
   "source": [
    "from sklearn.metrics import classification_report,confusion_matrix, accuracy_score"
   ]
  },
  {
   "cell_type": "code",
   "execution_count": 82,
   "id": "169afe67",
   "metadata": {},
   "outputs": [],
   "source": [
    "predictions = model.predict(X_test)"
   ]
  },
  {
   "cell_type": "code",
   "execution_count": 85,
   "id": "3a708f76",
   "metadata": {},
   "outputs": [],
   "source": [
    "# Multi-class classification\n",
    "predictions = np.argmax(predictions, axis=1)"
   ]
  },
  {
   "cell_type": "code",
   "execution_count": 86,
   "id": "72539917",
   "metadata": {},
   "outputs": [
    {
     "name": "stdout",
     "output_type": "stream",
     "text": [
      "              precision    recall  f1-score   support\n",
      "\n",
      "           1       0.33      0.07      0.12       280\n",
      "           2       0.58      0.04      0.07       198\n",
      "           3       0.39      0.17      0.24       359\n",
      "           4       0.43      0.01      0.03      1678\n",
      "           5       0.72      0.99      0.84      5985\n",
      "\n",
      "    accuracy                           0.71      8500\n",
      "   macro avg       0.49      0.26      0.26      8500\n",
      "weighted avg       0.64      0.71      0.61      8500\n",
      "\n"
     ]
    }
   ],
   "source": [
    "print(classification_report(y_test,predictions))"
   ]
  },
  {
   "cell_type": "code",
   "execution_count": 87,
   "id": "66dd48f2",
   "metadata": {},
   "outputs": [
    {
     "name": "stdout",
     "output_type": "stream",
     "text": [
      "[[  20    4   34    1  221]\n",
      " [  22    7   41    0  128]\n",
      " [  16    1   61    1  280]\n",
      " [   1    0   14   22 1641]\n",
      " [   1    0    6   27 5951]]\n"
     ]
    }
   ],
   "source": [
    "print(confusion_matrix(y_test,predictions))"
   ]
  },
  {
   "cell_type": "code",
   "execution_count": 88,
   "id": "6691ae1e",
   "metadata": {},
   "outputs": [
    {
     "name": "stdout",
     "output_type": "stream",
     "text": [
      "0.7130588235294117\n"
     ]
    }
   ],
   "source": [
    "print(accuracy_score(y_test, predictions))"
   ]
  },
  {
   "cell_type": "markdown",
   "id": "7e728d39",
   "metadata": {},
   "source": [
    "## Conclusion"
   ]
  },
  {
   "cell_type": "markdown",
   "id": "d34cca9e",
   "metadata": {},
   "source": [
    "Using TensorFlow Keras, the accuracy is similar to just using Machine Learning models with just review length, which has the highest correlation among the features. This is in some way expected as the features used below have low correlation with review rating."
   ]
  },
  {
   "cell_type": "code",
   "execution_count": 90,
   "id": "93fa4f8b",
   "metadata": {},
   "outputs": [
    {
     "data": {
      "text/plain": [
       "reviewLength          -0.120010\n",
       "reviews.numHelpful    -0.061476\n",
       "manufacturer          -0.060569\n",
       "brand                 -0.059763\n",
       "manufacturerNumber    -0.058132\n",
       "monthAdded            -0.052539\n",
       "monthUpdated          -0.050845\n",
       "reviews.username       0.041562\n",
       "reviews.doRecommend    0.054526\n",
       "yearAdded              0.057732\n",
       "categories             0.060581\n",
       "reviews.rating         1.000000\n",
       "Name: reviews.rating, dtype: float64"
      ]
     },
     "execution_count": 90,
     "metadata": {},
     "output_type": "execute_result"
    }
   ],
   "source": [
    "# Low correlation\n",
    "df.corr()['reviews.rating'].sort_values()"
   ]
  },
  {
   "cell_type": "code",
   "execution_count": null,
   "id": "e1b57465",
   "metadata": {},
   "outputs": [],
   "source": []
  }
 ],
 "metadata": {
  "kernelspec": {
   "display_name": "Python 3 (ipykernel)",
   "language": "python",
   "name": "python3"
  },
  "language_info": {
   "codemirror_mode": {
    "name": "ipython",
    "version": 3
   },
   "file_extension": ".py",
   "mimetype": "text/x-python",
   "name": "python",
   "nbconvert_exporter": "python",
   "pygments_lexer": "ipython3",
   "version": "3.8.12"
  }
 },
 "nbformat": 4,
 "nbformat_minor": 5
}
