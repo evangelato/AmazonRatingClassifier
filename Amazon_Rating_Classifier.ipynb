{
 "cells": [
  {
   "cell_type": "markdown",
   "id": "b557cb2a",
   "metadata": {},
   "source": [
    "# Amazon Reviews Rating Prediction Model"
   ]
  },
  {
   "cell_type": "markdown",
   "id": "d982ca8b",
   "metadata": {},
   "source": [
    "## Importing the Libraries"
   ]
  },
  {
   "cell_type": "code",
   "execution_count": 1,
   "id": "73a71332",
   "metadata": {},
   "outputs": [],
   "source": [
    "import numpy as np\n",
    "import matplotlib.pyplot as plt\n",
    "import pandas as pd"
   ]
  },
  {
   "cell_type": "markdown",
   "id": "5a36ac04",
   "metadata": {},
   "source": [
    "## Importing Datasets"
   ]
  },
  {
   "cell_type": "code",
   "execution_count": 2,
   "id": "00472176",
   "metadata": {},
   "outputs": [],
   "source": [
    "dataframe_pure = pd.read_csv('Datafiniti_Amazon_Consumer_Reviews_of_Amazon_Products_May19.csv.gz', compression='gzip')"
   ]
  },
  {
   "cell_type": "code",
   "execution_count": 3,
   "id": "63fd1040",
   "metadata": {},
   "outputs": [
    {
     "data": {
      "text/html": [
       "<style  type=\"text/css\" >\n",
       "</style><table id=\"T_d533f_\" ><thead>    <tr>        <th class=\"blank level0\" ></th>        <th class=\"col_heading level0 col0\" >id</th>        <th class=\"col_heading level0 col1\" >dateAdded</th>        <th class=\"col_heading level0 col2\" >dateUpdated</th>        <th class=\"col_heading level0 col3\" >name</th>        <th class=\"col_heading level0 col4\" >asins</th>        <th class=\"col_heading level0 col5\" >brand</th>        <th class=\"col_heading level0 col6\" >categories</th>        <th class=\"col_heading level0 col7\" >primaryCategories</th>        <th class=\"col_heading level0 col8\" >imageURLs</th>        <th class=\"col_heading level0 col9\" >keys</th>        <th class=\"col_heading level0 col10\" >manufacturer</th>        <th class=\"col_heading level0 col11\" >manufacturerNumber</th>        <th class=\"col_heading level0 col12\" >reviews.date</th>        <th class=\"col_heading level0 col13\" >reviews.dateSeen</th>        <th class=\"col_heading level0 col14\" >reviews.didPurchase</th>        <th class=\"col_heading level0 col15\" >reviews.doRecommend</th>        <th class=\"col_heading level0 col16\" >reviews.id</th>        <th class=\"col_heading level0 col17\" >reviews.numHelpful</th>        <th class=\"col_heading level0 col18\" >reviews.rating</th>        <th class=\"col_heading level0 col19\" >reviews.sourceURLs</th>        <th class=\"col_heading level0 col20\" >reviews.text</th>        <th class=\"col_heading level0 col21\" >reviews.title</th>        <th class=\"col_heading level0 col22\" >reviews.username</th>        <th class=\"col_heading level0 col23\" >sourceURLs</th>    </tr></thead><tbody>\n",
       "                <tr>\n",
       "                        <th id=\"T_d533f_level0_row0\" class=\"row_heading level0 row0\" >0</th>\n",
       "                        <td id=\"T_d533f_row0_col0\" class=\"data row0 col0\" >AVpgNzjwLJeJML43Kpxn</td>\n",
       "                        <td id=\"T_d533f_row0_col1\" class=\"data row0 col1\" >2015-10-30T08:59:32Z</td>\n",
       "                        <td id=\"T_d533f_row0_col2\" class=\"data row0 col2\" >2019-04-25T09:08:16Z</td>\n",
       "                        <td id=\"T_d533f_row0_col3\" class=\"data row0 col3\" >AmazonBasics AAA Performance Alkaline Batteries (36 Count)</td>\n",
       "                        <td id=\"T_d533f_row0_col4\" class=\"data row0 col4\" >B00QWO9P0O,B00LH3DMUO</td>\n",
       "                        <td id=\"T_d533f_row0_col5\" class=\"data row0 col5\" >Amazonbasics</td>\n",
       "                        <td id=\"T_d533f_row0_col6\" class=\"data row0 col6\" >AA,AAA,Health,Electronics,Health & Household,Camcorder Batteries,Camera & Photo,Batteries,Household Batteries,Robot Check,Accessories,Camera Batteries,Health and Beauty,Household Supplies,Batteries & Chargers,Health, Household & Baby Care,Health Personal Care</td>\n",
       "                        <td id=\"T_d533f_row0_col7\" class=\"data row0 col7\" >Health & Beauty</td>\n",
       "                        <td id=\"T_d533f_row0_col8\" class=\"data row0 col8\" >https://images-na.ssl-images-amazon.com/images/I/81qmNyJo%2BkL._SL1500_.jpg,https://images-na.ssl-images-amazon.com/images/I/81ZTa1BrkzL._SL1500_.jpg,http://ecx.images-amazon.com/images/I/41pSoRu7UlL._SS40_.jpg,https://www.upccodesearch.com/images/barcode/0841710106442.png,https://images-na.ssl-images-amazon.com/images/I/81qmNyJo%252525252BkL._SL1500_.jpg,https://images-na.ssl-images-amazon.com/images/I/51DfBuqy4qL._SL1189_.jpg,https://images-na.ssl-images-amazon.com/images/I/51TshsEJTIL.jpg,https://images-na.ssl-images-amazon.com/images/I/81qmNyJo%2525252525252BkL._SL1500_.jpg,https://images-na.ssl-images-amazon.com/images/I/81qmNyJo%25252BkL._SL1500_.jpg,https://images-na.ssl-images-amazon.com/images/I/81qmNyJo%2525252BkL._SL1500_.jpg,https://images-na.ssl-images-amazon.com/images/I/51g3uIwzOIL._SL1050_.jpg,http://ecx.images-amazon.com/images/I/613LUdOc1eL._SS40_.jpg</td>\n",
       "                        <td id=\"T_d533f_row0_col9\" class=\"data row0 col9\" >amazonbasics/hl002619,amazonbasicsaaaperformancealkalinebatteries36count/b00lh3dmuo,0841710106442,841710106442,amazonbasicsaaaperformancealkalinebatteries36count/b00qwo9p0o</td>\n",
       "                        <td id=\"T_d533f_row0_col10\" class=\"data row0 col10\" >AmazonBasics</td>\n",
       "                        <td id=\"T_d533f_row0_col11\" class=\"data row0 col11\" >HL-002619</td>\n",
       "                        <td id=\"T_d533f_row0_col12\" class=\"data row0 col12\" >2017-03-02T00:00:00.000Z</td>\n",
       "                        <td id=\"T_d533f_row0_col13\" class=\"data row0 col13\" >2017-08-28T00:00:00Z</td>\n",
       "                        <td id=\"T_d533f_row0_col14\" class=\"data row0 col14\" >nan</td>\n",
       "                        <td id=\"T_d533f_row0_col15\" class=\"data row0 col15\" >nan</td>\n",
       "                        <td id=\"T_d533f_row0_col16\" class=\"data row0 col16\" >nan</td>\n",
       "                        <td id=\"T_d533f_row0_col17\" class=\"data row0 col17\" >nan</td>\n",
       "                        <td id=\"T_d533f_row0_col18\" class=\"data row0 col18\" >3</td>\n",
       "                        <td id=\"T_d533f_row0_col19\" class=\"data row0 col19\" >https://www.amazon.com/product-reviews/B00QWO9P0O/</td>\n",
       "                        <td id=\"T_d533f_row0_col20\" class=\"data row0 col20\" >I order 3 of them and one of the item is bad quality. Is missing backup spring so I have to put a pcs of aluminum to make the battery work.</td>\n",
       "                        <td id=\"T_d533f_row0_col21\" class=\"data row0 col21\" >... 3 of them and one of the item is bad quality. Is missing backup spring so I have ...</td>\n",
       "                        <td id=\"T_d533f_row0_col22\" class=\"data row0 col22\" >Byger yang</td>\n",
       "                        <td id=\"T_d533f_row0_col23\" class=\"data row0 col23\" >https://www.barcodable.com/upc/841710106442,https://www.amazon.com/AmazonBasics-Performance-Alkaline-Batteries-Count/dp/B00LH3DMUO/,https://www.amazon.com/AmazonBasics-Performance-Alkaline-Batteries-Count/dp/B00LH3DMUO,https://www.amazon.com/AmazonBasics-Performance-Alkaline-Batteries-36-Pack/dp/B00LH3DMUO/,http://www.amazon.com/AmazonBasics-Performance-Alkaline-Batteries-36-Pack/dp/B00LH3DMUO</td>\n",
       "            </tr>\n",
       "            <tr>\n",
       "                        <th id=\"T_d533f_level0_row1\" class=\"row_heading level0 row1\" >1</th>\n",
       "                        <td id=\"T_d533f_row1_col0\" class=\"data row1 col0\" >AVpgNzjwLJeJML43Kpxn</td>\n",
       "                        <td id=\"T_d533f_row1_col1\" class=\"data row1 col1\" >2015-10-30T08:59:32Z</td>\n",
       "                        <td id=\"T_d533f_row1_col2\" class=\"data row1 col2\" >2019-04-25T09:08:16Z</td>\n",
       "                        <td id=\"T_d533f_row1_col3\" class=\"data row1 col3\" >AmazonBasics AAA Performance Alkaline Batteries (36 Count)</td>\n",
       "                        <td id=\"T_d533f_row1_col4\" class=\"data row1 col4\" >B00QWO9P0O,B00LH3DMUO</td>\n",
       "                        <td id=\"T_d533f_row1_col5\" class=\"data row1 col5\" >Amazonbasics</td>\n",
       "                        <td id=\"T_d533f_row1_col6\" class=\"data row1 col6\" >AA,AAA,Health,Electronics,Health & Household,Camcorder Batteries,Camera & Photo,Batteries,Household Batteries,Robot Check,Accessories,Camera Batteries,Health and Beauty,Household Supplies,Batteries & Chargers,Health, Household & Baby Care,Health Personal Care</td>\n",
       "                        <td id=\"T_d533f_row1_col7\" class=\"data row1 col7\" >Health & Beauty</td>\n",
       "                        <td id=\"T_d533f_row1_col8\" class=\"data row1 col8\" >https://images-na.ssl-images-amazon.com/images/I/81qmNyJo%2BkL._SL1500_.jpg,https://images-na.ssl-images-amazon.com/images/I/81ZTa1BrkzL._SL1500_.jpg,http://ecx.images-amazon.com/images/I/41pSoRu7UlL._SS40_.jpg,https://www.upccodesearch.com/images/barcode/0841710106442.png,https://images-na.ssl-images-amazon.com/images/I/81qmNyJo%252525252BkL._SL1500_.jpg,https://images-na.ssl-images-amazon.com/images/I/51DfBuqy4qL._SL1189_.jpg,https://images-na.ssl-images-amazon.com/images/I/51TshsEJTIL.jpg,https://images-na.ssl-images-amazon.com/images/I/81qmNyJo%2525252525252BkL._SL1500_.jpg,https://images-na.ssl-images-amazon.com/images/I/81qmNyJo%25252BkL._SL1500_.jpg,https://images-na.ssl-images-amazon.com/images/I/81qmNyJo%2525252BkL._SL1500_.jpg,https://images-na.ssl-images-amazon.com/images/I/51g3uIwzOIL._SL1050_.jpg,http://ecx.images-amazon.com/images/I/613LUdOc1eL._SS40_.jpg</td>\n",
       "                        <td id=\"T_d533f_row1_col9\" class=\"data row1 col9\" >amazonbasics/hl002619,amazonbasicsaaaperformancealkalinebatteries36count/b00lh3dmuo,0841710106442,841710106442,amazonbasicsaaaperformancealkalinebatteries36count/b00qwo9p0o</td>\n",
       "                        <td id=\"T_d533f_row1_col10\" class=\"data row1 col10\" >AmazonBasics</td>\n",
       "                        <td id=\"T_d533f_row1_col11\" class=\"data row1 col11\" >HL-002619</td>\n",
       "                        <td id=\"T_d533f_row1_col12\" class=\"data row1 col12\" >2016-08-31T00:00:00.000Z</td>\n",
       "                        <td id=\"T_d533f_row1_col13\" class=\"data row1 col13\" >2017-08-28T00:00:00Z</td>\n",
       "                        <td id=\"T_d533f_row1_col14\" class=\"data row1 col14\" >nan</td>\n",
       "                        <td id=\"T_d533f_row1_col15\" class=\"data row1 col15\" >nan</td>\n",
       "                        <td id=\"T_d533f_row1_col16\" class=\"data row1 col16\" >nan</td>\n",
       "                        <td id=\"T_d533f_row1_col17\" class=\"data row1 col17\" >nan</td>\n",
       "                        <td id=\"T_d533f_row1_col18\" class=\"data row1 col18\" >4</td>\n",
       "                        <td id=\"T_d533f_row1_col19\" class=\"data row1 col19\" >https://www.amazon.com/product-reviews/B00QWO9P0O/</td>\n",
       "                        <td id=\"T_d533f_row1_col20\" class=\"data row1 col20\" >Bulk is always the less expensive way to go for products like these</td>\n",
       "                        <td id=\"T_d533f_row1_col21\" class=\"data row1 col21\" >... always the less expensive way to go for products like</td>\n",
       "                        <td id=\"T_d533f_row1_col22\" class=\"data row1 col22\" >ByMG</td>\n",
       "                        <td id=\"T_d533f_row1_col23\" class=\"data row1 col23\" >https://www.barcodable.com/upc/841710106442,https://www.amazon.com/AmazonBasics-Performance-Alkaline-Batteries-Count/dp/B00LH3DMUO/,https://www.amazon.com/AmazonBasics-Performance-Alkaline-Batteries-Count/dp/B00LH3DMUO,https://www.amazon.com/AmazonBasics-Performance-Alkaline-Batteries-36-Pack/dp/B00LH3DMUO/,http://www.amazon.com/AmazonBasics-Performance-Alkaline-Batteries-36-Pack/dp/B00LH3DMUO</td>\n",
       "            </tr>\n",
       "            <tr>\n",
       "                        <th id=\"T_d533f_level0_row2\" class=\"row_heading level0 row2\" >2</th>\n",
       "                        <td id=\"T_d533f_row2_col0\" class=\"data row2 col0\" >AVpgNzjwLJeJML43Kpxn</td>\n",
       "                        <td id=\"T_d533f_row2_col1\" class=\"data row2 col1\" >2015-10-30T08:59:32Z</td>\n",
       "                        <td id=\"T_d533f_row2_col2\" class=\"data row2 col2\" >2019-04-25T09:08:16Z</td>\n",
       "                        <td id=\"T_d533f_row2_col3\" class=\"data row2 col3\" >AmazonBasics AAA Performance Alkaline Batteries (36 Count)</td>\n",
       "                        <td id=\"T_d533f_row2_col4\" class=\"data row2 col4\" >B00QWO9P0O,B00LH3DMUO</td>\n",
       "                        <td id=\"T_d533f_row2_col5\" class=\"data row2 col5\" >Amazonbasics</td>\n",
       "                        <td id=\"T_d533f_row2_col6\" class=\"data row2 col6\" >AA,AAA,Health,Electronics,Health & Household,Camcorder Batteries,Camera & Photo,Batteries,Household Batteries,Robot Check,Accessories,Camera Batteries,Health and Beauty,Household Supplies,Batteries & Chargers,Health, Household & Baby Care,Health Personal Care</td>\n",
       "                        <td id=\"T_d533f_row2_col7\" class=\"data row2 col7\" >Health & Beauty</td>\n",
       "                        <td id=\"T_d533f_row2_col8\" class=\"data row2 col8\" >https://images-na.ssl-images-amazon.com/images/I/81qmNyJo%2BkL._SL1500_.jpg,https://images-na.ssl-images-amazon.com/images/I/81ZTa1BrkzL._SL1500_.jpg,http://ecx.images-amazon.com/images/I/41pSoRu7UlL._SS40_.jpg,https://www.upccodesearch.com/images/barcode/0841710106442.png,https://images-na.ssl-images-amazon.com/images/I/81qmNyJo%252525252BkL._SL1500_.jpg,https://images-na.ssl-images-amazon.com/images/I/51DfBuqy4qL._SL1189_.jpg,https://images-na.ssl-images-amazon.com/images/I/51TshsEJTIL.jpg,https://images-na.ssl-images-amazon.com/images/I/81qmNyJo%2525252525252BkL._SL1500_.jpg,https://images-na.ssl-images-amazon.com/images/I/81qmNyJo%25252BkL._SL1500_.jpg,https://images-na.ssl-images-amazon.com/images/I/81qmNyJo%2525252BkL._SL1500_.jpg,https://images-na.ssl-images-amazon.com/images/I/51g3uIwzOIL._SL1050_.jpg,http://ecx.images-amazon.com/images/I/613LUdOc1eL._SS40_.jpg</td>\n",
       "                        <td id=\"T_d533f_row2_col9\" class=\"data row2 col9\" >amazonbasics/hl002619,amazonbasicsaaaperformancealkalinebatteries36count/b00lh3dmuo,0841710106442,841710106442,amazonbasicsaaaperformancealkalinebatteries36count/b00qwo9p0o</td>\n",
       "                        <td id=\"T_d533f_row2_col10\" class=\"data row2 col10\" >AmazonBasics</td>\n",
       "                        <td id=\"T_d533f_row2_col11\" class=\"data row2 col11\" >HL-002619</td>\n",
       "                        <td id=\"T_d533f_row2_col12\" class=\"data row2 col12\" >2016-12-06T00:00:00.000Z</td>\n",
       "                        <td id=\"T_d533f_row2_col13\" class=\"data row2 col13\" >2017-08-28T00:00:00Z</td>\n",
       "                        <td id=\"T_d533f_row2_col14\" class=\"data row2 col14\" >nan</td>\n",
       "                        <td id=\"T_d533f_row2_col15\" class=\"data row2 col15\" >nan</td>\n",
       "                        <td id=\"T_d533f_row2_col16\" class=\"data row2 col16\" >nan</td>\n",
       "                        <td id=\"T_d533f_row2_col17\" class=\"data row2 col17\" >nan</td>\n",
       "                        <td id=\"T_d533f_row2_col18\" class=\"data row2 col18\" >5</td>\n",
       "                        <td id=\"T_d533f_row2_col19\" class=\"data row2 col19\" >https://www.amazon.com/product-reviews/B00QWO9P0O/</td>\n",
       "                        <td id=\"T_d533f_row2_col20\" class=\"data row2 col20\" >Well they are not Duracell but for the price i am happy.</td>\n",
       "                        <td id=\"T_d533f_row2_col21\" class=\"data row2 col21\" >... are not Duracell but for the price i am happy.</td>\n",
       "                        <td id=\"T_d533f_row2_col22\" class=\"data row2 col22\" >BySharon Lambert</td>\n",
       "                        <td id=\"T_d533f_row2_col23\" class=\"data row2 col23\" >https://www.barcodable.com/upc/841710106442,https://www.amazon.com/AmazonBasics-Performance-Alkaline-Batteries-Count/dp/B00LH3DMUO/,https://www.amazon.com/AmazonBasics-Performance-Alkaline-Batteries-Count/dp/B00LH3DMUO,https://www.amazon.com/AmazonBasics-Performance-Alkaline-Batteries-36-Pack/dp/B00LH3DMUO/,http://www.amazon.com/AmazonBasics-Performance-Alkaline-Batteries-36-Pack/dp/B00LH3DMUO</td>\n",
       "            </tr>\n",
       "            <tr>\n",
       "                        <th id=\"T_d533f_level0_row3\" class=\"row_heading level0 row3\" >3</th>\n",
       "                        <td id=\"T_d533f_row3_col0\" class=\"data row3 col0\" >AVpgNzjwLJeJML43Kpxn</td>\n",
       "                        <td id=\"T_d533f_row3_col1\" class=\"data row3 col1\" >2015-10-30T08:59:32Z</td>\n",
       "                        <td id=\"T_d533f_row3_col2\" class=\"data row3 col2\" >2019-04-25T09:08:16Z</td>\n",
       "                        <td id=\"T_d533f_row3_col3\" class=\"data row3 col3\" >AmazonBasics AAA Performance Alkaline Batteries (36 Count)</td>\n",
       "                        <td id=\"T_d533f_row3_col4\" class=\"data row3 col4\" >B00QWO9P0O,B00LH3DMUO</td>\n",
       "                        <td id=\"T_d533f_row3_col5\" class=\"data row3 col5\" >Amazonbasics</td>\n",
       "                        <td id=\"T_d533f_row3_col6\" class=\"data row3 col6\" >AA,AAA,Health,Electronics,Health & Household,Camcorder Batteries,Camera & Photo,Batteries,Household Batteries,Robot Check,Accessories,Camera Batteries,Health and Beauty,Household Supplies,Batteries & Chargers,Health, Household & Baby Care,Health Personal Care</td>\n",
       "                        <td id=\"T_d533f_row3_col7\" class=\"data row3 col7\" >Health & Beauty</td>\n",
       "                        <td id=\"T_d533f_row3_col8\" class=\"data row3 col8\" >https://images-na.ssl-images-amazon.com/images/I/81qmNyJo%2BkL._SL1500_.jpg,https://images-na.ssl-images-amazon.com/images/I/81ZTa1BrkzL._SL1500_.jpg,http://ecx.images-amazon.com/images/I/41pSoRu7UlL._SS40_.jpg,https://www.upccodesearch.com/images/barcode/0841710106442.png,https://images-na.ssl-images-amazon.com/images/I/81qmNyJo%252525252BkL._SL1500_.jpg,https://images-na.ssl-images-amazon.com/images/I/51DfBuqy4qL._SL1189_.jpg,https://images-na.ssl-images-amazon.com/images/I/51TshsEJTIL.jpg,https://images-na.ssl-images-amazon.com/images/I/81qmNyJo%2525252525252BkL._SL1500_.jpg,https://images-na.ssl-images-amazon.com/images/I/81qmNyJo%25252BkL._SL1500_.jpg,https://images-na.ssl-images-amazon.com/images/I/81qmNyJo%2525252BkL._SL1500_.jpg,https://images-na.ssl-images-amazon.com/images/I/51g3uIwzOIL._SL1050_.jpg,http://ecx.images-amazon.com/images/I/613LUdOc1eL._SS40_.jpg</td>\n",
       "                        <td id=\"T_d533f_row3_col9\" class=\"data row3 col9\" >amazonbasics/hl002619,amazonbasicsaaaperformancealkalinebatteries36count/b00lh3dmuo,0841710106442,841710106442,amazonbasicsaaaperformancealkalinebatteries36count/b00qwo9p0o</td>\n",
       "                        <td id=\"T_d533f_row3_col10\" class=\"data row3 col10\" >AmazonBasics</td>\n",
       "                        <td id=\"T_d533f_row3_col11\" class=\"data row3 col11\" >HL-002619</td>\n",
       "                        <td id=\"T_d533f_row3_col12\" class=\"data row3 col12\" >2016-03-28T00:00:00.000Z</td>\n",
       "                        <td id=\"T_d533f_row3_col13\" class=\"data row3 col13\" >2017-08-28T00:00:00Z</td>\n",
       "                        <td id=\"T_d533f_row3_col14\" class=\"data row3 col14\" >nan</td>\n",
       "                        <td id=\"T_d533f_row3_col15\" class=\"data row3 col15\" >nan</td>\n",
       "                        <td id=\"T_d533f_row3_col16\" class=\"data row3 col16\" >nan</td>\n",
       "                        <td id=\"T_d533f_row3_col17\" class=\"data row3 col17\" >nan</td>\n",
       "                        <td id=\"T_d533f_row3_col18\" class=\"data row3 col18\" >5</td>\n",
       "                        <td id=\"T_d533f_row3_col19\" class=\"data row3 col19\" >https://www.amazon.com/product-reviews/B00QWO9P0O/</td>\n",
       "                        <td id=\"T_d533f_row3_col20\" class=\"data row3 col20\" >Seem to work as well as name brand batteries at a much better price</td>\n",
       "                        <td id=\"T_d533f_row3_col21\" class=\"data row3 col21\" >... as well as name brand batteries at a much better</td>\n",
       "                        <td id=\"T_d533f_row3_col22\" class=\"data row3 col22\" >Bymark sexson</td>\n",
       "                        <td id=\"T_d533f_row3_col23\" class=\"data row3 col23\" >https://www.barcodable.com/upc/841710106442,https://www.amazon.com/AmazonBasics-Performance-Alkaline-Batteries-Count/dp/B00LH3DMUO/,https://www.amazon.com/AmazonBasics-Performance-Alkaline-Batteries-Count/dp/B00LH3DMUO,https://www.amazon.com/AmazonBasics-Performance-Alkaline-Batteries-36-Pack/dp/B00LH3DMUO/,http://www.amazon.com/AmazonBasics-Performance-Alkaline-Batteries-36-Pack/dp/B00LH3DMUO</td>\n",
       "            </tr>\n",
       "            <tr>\n",
       "                        <th id=\"T_d533f_level0_row4\" class=\"row_heading level0 row4\" >4</th>\n",
       "                        <td id=\"T_d533f_row4_col0\" class=\"data row4 col0\" >AVpgNzjwLJeJML43Kpxn</td>\n",
       "                        <td id=\"T_d533f_row4_col1\" class=\"data row4 col1\" >2015-10-30T08:59:32Z</td>\n",
       "                        <td id=\"T_d533f_row4_col2\" class=\"data row4 col2\" >2019-04-25T09:08:16Z</td>\n",
       "                        <td id=\"T_d533f_row4_col3\" class=\"data row4 col3\" >AmazonBasics AAA Performance Alkaline Batteries (36 Count)</td>\n",
       "                        <td id=\"T_d533f_row4_col4\" class=\"data row4 col4\" >B00QWO9P0O,B00LH3DMUO</td>\n",
       "                        <td id=\"T_d533f_row4_col5\" class=\"data row4 col5\" >Amazonbasics</td>\n",
       "                        <td id=\"T_d533f_row4_col6\" class=\"data row4 col6\" >AA,AAA,Health,Electronics,Health & Household,Camcorder Batteries,Camera & Photo,Batteries,Household Batteries,Robot Check,Accessories,Camera Batteries,Health and Beauty,Household Supplies,Batteries & Chargers,Health, Household & Baby Care,Health Personal Care</td>\n",
       "                        <td id=\"T_d533f_row4_col7\" class=\"data row4 col7\" >Health & Beauty</td>\n",
       "                        <td id=\"T_d533f_row4_col8\" class=\"data row4 col8\" >https://images-na.ssl-images-amazon.com/images/I/81qmNyJo%2BkL._SL1500_.jpg,https://images-na.ssl-images-amazon.com/images/I/81ZTa1BrkzL._SL1500_.jpg,http://ecx.images-amazon.com/images/I/41pSoRu7UlL._SS40_.jpg,https://www.upccodesearch.com/images/barcode/0841710106442.png,https://images-na.ssl-images-amazon.com/images/I/81qmNyJo%252525252BkL._SL1500_.jpg,https://images-na.ssl-images-amazon.com/images/I/51DfBuqy4qL._SL1189_.jpg,https://images-na.ssl-images-amazon.com/images/I/51TshsEJTIL.jpg,https://images-na.ssl-images-amazon.com/images/I/81qmNyJo%2525252525252BkL._SL1500_.jpg,https://images-na.ssl-images-amazon.com/images/I/81qmNyJo%25252BkL._SL1500_.jpg,https://images-na.ssl-images-amazon.com/images/I/81qmNyJo%2525252BkL._SL1500_.jpg,https://images-na.ssl-images-amazon.com/images/I/51g3uIwzOIL._SL1050_.jpg,http://ecx.images-amazon.com/images/I/613LUdOc1eL._SS40_.jpg</td>\n",
       "                        <td id=\"T_d533f_row4_col9\" class=\"data row4 col9\" >amazonbasics/hl002619,amazonbasicsaaaperformancealkalinebatteries36count/b00lh3dmuo,0841710106442,841710106442,amazonbasicsaaaperformancealkalinebatteries36count/b00qwo9p0o</td>\n",
       "                        <td id=\"T_d533f_row4_col10\" class=\"data row4 col10\" >AmazonBasics</td>\n",
       "                        <td id=\"T_d533f_row4_col11\" class=\"data row4 col11\" >HL-002619</td>\n",
       "                        <td id=\"T_d533f_row4_col12\" class=\"data row4 col12\" >2017-04-22T00:00:00.000Z</td>\n",
       "                        <td id=\"T_d533f_row4_col13\" class=\"data row4 col13\" >2017-08-28T00:00:00Z</td>\n",
       "                        <td id=\"T_d533f_row4_col14\" class=\"data row4 col14\" >nan</td>\n",
       "                        <td id=\"T_d533f_row4_col15\" class=\"data row4 col15\" >nan</td>\n",
       "                        <td id=\"T_d533f_row4_col16\" class=\"data row4 col16\" >nan</td>\n",
       "                        <td id=\"T_d533f_row4_col17\" class=\"data row4 col17\" >nan</td>\n",
       "                        <td id=\"T_d533f_row4_col18\" class=\"data row4 col18\" >5</td>\n",
       "                        <td id=\"T_d533f_row4_col19\" class=\"data row4 col19\" >https://www.amazon.com/product-reviews/B00QWO9P0O/</td>\n",
       "                        <td id=\"T_d533f_row4_col20\" class=\"data row4 col20\" >These batteries are very long lasting the price is great.</td>\n",
       "                        <td id=\"T_d533f_row4_col21\" class=\"data row4 col21\" >... batteries are very long lasting the price is great.</td>\n",
       "                        <td id=\"T_d533f_row4_col22\" class=\"data row4 col22\" >Bylinda</td>\n",
       "                        <td id=\"T_d533f_row4_col23\" class=\"data row4 col23\" >https://www.barcodable.com/upc/841710106442,https://www.amazon.com/AmazonBasics-Performance-Alkaline-Batteries-Count/dp/B00LH3DMUO/,https://www.amazon.com/AmazonBasics-Performance-Alkaline-Batteries-Count/dp/B00LH3DMUO,https://www.amazon.com/AmazonBasics-Performance-Alkaline-Batteries-36-Pack/dp/B00LH3DMUO/,http://www.amazon.com/AmazonBasics-Performance-Alkaline-Batteries-36-Pack/dp/B00LH3DMUO</td>\n",
       "            </tr>\n",
       "            <tr>\n",
       "                        <th id=\"T_d533f_level0_row5\" class=\"row_heading level0 row5\" >5</th>\n",
       "                        <td id=\"T_d533f_row5_col0\" class=\"data row5 col0\" >AVpgNzjwLJeJML43Kpxn</td>\n",
       "                        <td id=\"T_d533f_row5_col1\" class=\"data row5 col1\" >2015-10-30T08:59:32Z</td>\n",
       "                        <td id=\"T_d533f_row5_col2\" class=\"data row5 col2\" >2019-04-25T09:08:16Z</td>\n",
       "                        <td id=\"T_d533f_row5_col3\" class=\"data row5 col3\" >AmazonBasics AAA Performance Alkaline Batteries (36 Count)</td>\n",
       "                        <td id=\"T_d533f_row5_col4\" class=\"data row5 col4\" >B00QWO9P0O,B00LH3DMUO</td>\n",
       "                        <td id=\"T_d533f_row5_col5\" class=\"data row5 col5\" >Amazonbasics</td>\n",
       "                        <td id=\"T_d533f_row5_col6\" class=\"data row5 col6\" >AA,AAA,Health,Electronics,Health & Household,Camcorder Batteries,Camera & Photo,Batteries,Household Batteries,Robot Check,Accessories,Camera Batteries,Health and Beauty,Household Supplies,Batteries & Chargers,Health, Household & Baby Care,Health Personal Care</td>\n",
       "                        <td id=\"T_d533f_row5_col7\" class=\"data row5 col7\" >Health & Beauty</td>\n",
       "                        <td id=\"T_d533f_row5_col8\" class=\"data row5 col8\" >https://images-na.ssl-images-amazon.com/images/I/81qmNyJo%2BkL._SL1500_.jpg,https://images-na.ssl-images-amazon.com/images/I/81ZTa1BrkzL._SL1500_.jpg,http://ecx.images-amazon.com/images/I/41pSoRu7UlL._SS40_.jpg,https://www.upccodesearch.com/images/barcode/0841710106442.png,https://images-na.ssl-images-amazon.com/images/I/81qmNyJo%252525252BkL._SL1500_.jpg,https://images-na.ssl-images-amazon.com/images/I/51DfBuqy4qL._SL1189_.jpg,https://images-na.ssl-images-amazon.com/images/I/51TshsEJTIL.jpg,https://images-na.ssl-images-amazon.com/images/I/81qmNyJo%2525252525252BkL._SL1500_.jpg,https://images-na.ssl-images-amazon.com/images/I/81qmNyJo%25252BkL._SL1500_.jpg,https://images-na.ssl-images-amazon.com/images/I/81qmNyJo%2525252BkL._SL1500_.jpg,https://images-na.ssl-images-amazon.com/images/I/51g3uIwzOIL._SL1050_.jpg,http://ecx.images-amazon.com/images/I/613LUdOc1eL._SS40_.jpg</td>\n",
       "                        <td id=\"T_d533f_row5_col9\" class=\"data row5 col9\" >amazonbasics/hl002619,amazonbasicsaaaperformancealkalinebatteries36count/b00lh3dmuo,0841710106442,841710106442,amazonbasicsaaaperformancealkalinebatteries36count/b00qwo9p0o</td>\n",
       "                        <td id=\"T_d533f_row5_col10\" class=\"data row5 col10\" >AmazonBasics</td>\n",
       "                        <td id=\"T_d533f_row5_col11\" class=\"data row5 col11\" >HL-002619</td>\n",
       "                        <td id=\"T_d533f_row5_col12\" class=\"data row5 col12\" >2016-02-17T00:00:00.000Z</td>\n",
       "                        <td id=\"T_d533f_row5_col13\" class=\"data row5 col13\" >2017-08-28T00:00:00Z</td>\n",
       "                        <td id=\"T_d533f_row5_col14\" class=\"data row5 col14\" >nan</td>\n",
       "                        <td id=\"T_d533f_row5_col15\" class=\"data row5 col15\" >nan</td>\n",
       "                        <td id=\"T_d533f_row5_col16\" class=\"data row5 col16\" >nan</td>\n",
       "                        <td id=\"T_d533f_row5_col17\" class=\"data row5 col17\" >nan</td>\n",
       "                        <td id=\"T_d533f_row5_col18\" class=\"data row5 col18\" >5</td>\n",
       "                        <td id=\"T_d533f_row5_col19\" class=\"data row5 col19\" >https://www.amazon.com/product-reviews/B00QWO9P0O/</td>\n",
       "                        <td id=\"T_d533f_row5_col20\" class=\"data row5 col20\" >Bought a lot of batteries for Christmas and the AmazonBasics Cell have been good. I haven't noticed a difference between the brand name batteries and the Amazon Basic brand. Just a lot easier to purchase and have arrive at the house and have on hand. Will buy again.</td>\n",
       "                        <td id=\"T_d533f_row5_col21\" class=\"data row5 col21\" >... batteries for Christmas and the AmazonBasics Cell have been good. I haven't noticed a difference between the brand ...</td>\n",
       "                        <td id=\"T_d533f_row5_col22\" class=\"data row5 col22\" >ByPainter Marlow</td>\n",
       "                        <td id=\"T_d533f_row5_col23\" class=\"data row5 col23\" >https://www.barcodable.com/upc/841710106442,https://www.amazon.com/AmazonBasics-Performance-Alkaline-Batteries-Count/dp/B00LH3DMUO/,https://www.amazon.com/AmazonBasics-Performance-Alkaline-Batteries-Count/dp/B00LH3DMUO,https://www.amazon.com/AmazonBasics-Performance-Alkaline-Batteries-36-Pack/dp/B00LH3DMUO/,http://www.amazon.com/AmazonBasics-Performance-Alkaline-Batteries-36-Pack/dp/B00LH3DMUO</td>\n",
       "            </tr>\n",
       "            <tr>\n",
       "                        <th id=\"T_d533f_level0_row6\" class=\"row_heading level0 row6\" >6</th>\n",
       "                        <td id=\"T_d533f_row6_col0\" class=\"data row6 col0\" >AVpgNzjwLJeJML43Kpxn</td>\n",
       "                        <td id=\"T_d533f_row6_col1\" class=\"data row6 col1\" >2015-10-30T08:59:32Z</td>\n",
       "                        <td id=\"T_d533f_row6_col2\" class=\"data row6 col2\" >2019-04-25T09:08:16Z</td>\n",
       "                        <td id=\"T_d533f_row6_col3\" class=\"data row6 col3\" >AmazonBasics AAA Performance Alkaline Batteries (36 Count)</td>\n",
       "                        <td id=\"T_d533f_row6_col4\" class=\"data row6 col4\" >B00QWO9P0O,B00LH3DMUO</td>\n",
       "                        <td id=\"T_d533f_row6_col5\" class=\"data row6 col5\" >Amazonbasics</td>\n",
       "                        <td id=\"T_d533f_row6_col6\" class=\"data row6 col6\" >AA,AAA,Health,Electronics,Health & Household,Camcorder Batteries,Camera & Photo,Batteries,Household Batteries,Robot Check,Accessories,Camera Batteries,Health and Beauty,Household Supplies,Batteries & Chargers,Health, Household & Baby Care,Health Personal Care</td>\n",
       "                        <td id=\"T_d533f_row6_col7\" class=\"data row6 col7\" >Health & Beauty</td>\n",
       "                        <td id=\"T_d533f_row6_col8\" class=\"data row6 col8\" >https://images-na.ssl-images-amazon.com/images/I/81qmNyJo%2BkL._SL1500_.jpg,https://images-na.ssl-images-amazon.com/images/I/81ZTa1BrkzL._SL1500_.jpg,http://ecx.images-amazon.com/images/I/41pSoRu7UlL._SS40_.jpg,https://www.upccodesearch.com/images/barcode/0841710106442.png,https://images-na.ssl-images-amazon.com/images/I/81qmNyJo%252525252BkL._SL1500_.jpg,https://images-na.ssl-images-amazon.com/images/I/51DfBuqy4qL._SL1189_.jpg,https://images-na.ssl-images-amazon.com/images/I/51TshsEJTIL.jpg,https://images-na.ssl-images-amazon.com/images/I/81qmNyJo%2525252525252BkL._SL1500_.jpg,https://images-na.ssl-images-amazon.com/images/I/81qmNyJo%25252BkL._SL1500_.jpg,https://images-na.ssl-images-amazon.com/images/I/81qmNyJo%2525252BkL._SL1500_.jpg,https://images-na.ssl-images-amazon.com/images/I/51g3uIwzOIL._SL1050_.jpg,http://ecx.images-amazon.com/images/I/613LUdOc1eL._SS40_.jpg</td>\n",
       "                        <td id=\"T_d533f_row6_col9\" class=\"data row6 col9\" >amazonbasics/hl002619,amazonbasicsaaaperformancealkalinebatteries36count/b00lh3dmuo,0841710106442,841710106442,amazonbasicsaaaperformancealkalinebatteries36count/b00qwo9p0o</td>\n",
       "                        <td id=\"T_d533f_row6_col10\" class=\"data row6 col10\" >AmazonBasics</td>\n",
       "                        <td id=\"T_d533f_row6_col11\" class=\"data row6 col11\" >HL-002619</td>\n",
       "                        <td id=\"T_d533f_row6_col12\" class=\"data row6 col12\" >2017-04-17T00:00:00.000Z</td>\n",
       "                        <td id=\"T_d533f_row6_col13\" class=\"data row6 col13\" >2017-08-28T00:00:00Z</td>\n",
       "                        <td id=\"T_d533f_row6_col14\" class=\"data row6 col14\" >nan</td>\n",
       "                        <td id=\"T_d533f_row6_col15\" class=\"data row6 col15\" >nan</td>\n",
       "                        <td id=\"T_d533f_row6_col16\" class=\"data row6 col16\" >nan</td>\n",
       "                        <td id=\"T_d533f_row6_col17\" class=\"data row6 col17\" >nan</td>\n",
       "                        <td id=\"T_d533f_row6_col18\" class=\"data row6 col18\" >5</td>\n",
       "                        <td id=\"T_d533f_row6_col19\" class=\"data row6 col19\" >https://www.amazon.com/product-reviews/B00QWO9P0O/</td>\n",
       "                        <td id=\"T_d533f_row6_col20\" class=\"data row6 col20\" >ive not had any problame with these batteries have ordered them in the past been very pleased.</td>\n",
       "                        <td id=\"T_d533f_row6_col21\" class=\"data row6 col21\" >... batteries have ordered them in the past been very pleased.</td>\n",
       "                        <td id=\"T_d533f_row6_col22\" class=\"data row6 col22\" >ByAmazon Customer</td>\n",
       "                        <td id=\"T_d533f_row6_col23\" class=\"data row6 col23\" >https://www.barcodable.com/upc/841710106442,https://www.amazon.com/AmazonBasics-Performance-Alkaline-Batteries-Count/dp/B00LH3DMUO/,https://www.amazon.com/AmazonBasics-Performance-Alkaline-Batteries-Count/dp/B00LH3DMUO,https://www.amazon.com/AmazonBasics-Performance-Alkaline-Batteries-36-Pack/dp/B00LH3DMUO/,http://www.amazon.com/AmazonBasics-Performance-Alkaline-Batteries-36-Pack/dp/B00LH3DMUO</td>\n",
       "            </tr>\n",
       "            <tr>\n",
       "                        <th id=\"T_d533f_level0_row7\" class=\"row_heading level0 row7\" >7</th>\n",
       "                        <td id=\"T_d533f_row7_col0\" class=\"data row7 col0\" >AVpgNzjwLJeJML43Kpxn</td>\n",
       "                        <td id=\"T_d533f_row7_col1\" class=\"data row7 col1\" >2015-10-30T08:59:32Z</td>\n",
       "                        <td id=\"T_d533f_row7_col2\" class=\"data row7 col2\" >2019-04-25T09:08:16Z</td>\n",
       "                        <td id=\"T_d533f_row7_col3\" class=\"data row7 col3\" >AmazonBasics AAA Performance Alkaline Batteries (36 Count)</td>\n",
       "                        <td id=\"T_d533f_row7_col4\" class=\"data row7 col4\" >B00QWO9P0O,B00LH3DMUO</td>\n",
       "                        <td id=\"T_d533f_row7_col5\" class=\"data row7 col5\" >Amazonbasics</td>\n",
       "                        <td id=\"T_d533f_row7_col6\" class=\"data row7 col6\" >AA,AAA,Health,Electronics,Health & Household,Camcorder Batteries,Camera & Photo,Batteries,Household Batteries,Robot Check,Accessories,Camera Batteries,Health and Beauty,Household Supplies,Batteries & Chargers,Health, Household & Baby Care,Health Personal Care</td>\n",
       "                        <td id=\"T_d533f_row7_col7\" class=\"data row7 col7\" >Health & Beauty</td>\n",
       "                        <td id=\"T_d533f_row7_col8\" class=\"data row7 col8\" >https://images-na.ssl-images-amazon.com/images/I/81qmNyJo%2BkL._SL1500_.jpg,https://images-na.ssl-images-amazon.com/images/I/81ZTa1BrkzL._SL1500_.jpg,http://ecx.images-amazon.com/images/I/41pSoRu7UlL._SS40_.jpg,https://www.upccodesearch.com/images/barcode/0841710106442.png,https://images-na.ssl-images-amazon.com/images/I/81qmNyJo%252525252BkL._SL1500_.jpg,https://images-na.ssl-images-amazon.com/images/I/51DfBuqy4qL._SL1189_.jpg,https://images-na.ssl-images-amazon.com/images/I/51TshsEJTIL.jpg,https://images-na.ssl-images-amazon.com/images/I/81qmNyJo%2525252525252BkL._SL1500_.jpg,https://images-na.ssl-images-amazon.com/images/I/81qmNyJo%25252BkL._SL1500_.jpg,https://images-na.ssl-images-amazon.com/images/I/81qmNyJo%2525252BkL._SL1500_.jpg,https://images-na.ssl-images-amazon.com/images/I/51g3uIwzOIL._SL1050_.jpg,http://ecx.images-amazon.com/images/I/613LUdOc1eL._SS40_.jpg</td>\n",
       "                        <td id=\"T_d533f_row7_col9\" class=\"data row7 col9\" >amazonbasics/hl002619,amazonbasicsaaaperformancealkalinebatteries36count/b00lh3dmuo,0841710106442,841710106442,amazonbasicsaaaperformancealkalinebatteries36count/b00qwo9p0o</td>\n",
       "                        <td id=\"T_d533f_row7_col10\" class=\"data row7 col10\" >AmazonBasics</td>\n",
       "                        <td id=\"T_d533f_row7_col11\" class=\"data row7 col11\" >HL-002619</td>\n",
       "                        <td id=\"T_d533f_row7_col12\" class=\"data row7 col12\" >2017-04-16T00:00:00.000Z</td>\n",
       "                        <td id=\"T_d533f_row7_col13\" class=\"data row7 col13\" >2017-08-28T00:00:00Z</td>\n",
       "                        <td id=\"T_d533f_row7_col14\" class=\"data row7 col14\" >nan</td>\n",
       "                        <td id=\"T_d533f_row7_col15\" class=\"data row7 col15\" >nan</td>\n",
       "                        <td id=\"T_d533f_row7_col16\" class=\"data row7 col16\" >nan</td>\n",
       "                        <td id=\"T_d533f_row7_col17\" class=\"data row7 col17\" >nan</td>\n",
       "                        <td id=\"T_d533f_row7_col18\" class=\"data row7 col18\" >5</td>\n",
       "                        <td id=\"T_d533f_row7_col19\" class=\"data row7 col19\" >https://www.amazon.com/product-reviews/B00QWO9P0O/</td>\n",
       "                        <td id=\"T_d533f_row7_col20\" class=\"data row7 col20\" >Well if you are looking for cheap non-rechargeable batteries that last quite a while then these are perfect. Nothing more to say.</td>\n",
       "                        <td id=\"T_d533f_row7_col21\" class=\"data row7 col21\" >... batteries that last quite a while then these are perfect. Nothing more to say</td>\n",
       "                        <td id=\"T_d533f_row7_col22\" class=\"data row7 col22\" >ByLynn Pendegrass</td>\n",
       "                        <td id=\"T_d533f_row7_col23\" class=\"data row7 col23\" >https://www.barcodable.com/upc/841710106442,https://www.amazon.com/AmazonBasics-Performance-Alkaline-Batteries-Count/dp/B00LH3DMUO/,https://www.amazon.com/AmazonBasics-Performance-Alkaline-Batteries-Count/dp/B00LH3DMUO,https://www.amazon.com/AmazonBasics-Performance-Alkaline-Batteries-36-Pack/dp/B00LH3DMUO/,http://www.amazon.com/AmazonBasics-Performance-Alkaline-Batteries-36-Pack/dp/B00LH3DMUO</td>\n",
       "            </tr>\n",
       "            <tr>\n",
       "                        <th id=\"T_d533f_level0_row8\" class=\"row_heading level0 row8\" >8</th>\n",
       "                        <td id=\"T_d533f_row8_col0\" class=\"data row8 col0\" >AVpgNzjwLJeJML43Kpxn</td>\n",
       "                        <td id=\"T_d533f_row8_col1\" class=\"data row8 col1\" >2015-10-30T08:59:32Z</td>\n",
       "                        <td id=\"T_d533f_row8_col2\" class=\"data row8 col2\" >2019-04-25T09:08:16Z</td>\n",
       "                        <td id=\"T_d533f_row8_col3\" class=\"data row8 col3\" >AmazonBasics AAA Performance Alkaline Batteries (36 Count)</td>\n",
       "                        <td id=\"T_d533f_row8_col4\" class=\"data row8 col4\" >B00QWO9P0O,B00LH3DMUO</td>\n",
       "                        <td id=\"T_d533f_row8_col5\" class=\"data row8 col5\" >Amazonbasics</td>\n",
       "                        <td id=\"T_d533f_row8_col6\" class=\"data row8 col6\" >AA,AAA,Health,Electronics,Health & Household,Camcorder Batteries,Camera & Photo,Batteries,Household Batteries,Robot Check,Accessories,Camera Batteries,Health and Beauty,Household Supplies,Batteries & Chargers,Health, Household & Baby Care,Health Personal Care</td>\n",
       "                        <td id=\"T_d533f_row8_col7\" class=\"data row8 col7\" >Health & Beauty</td>\n",
       "                        <td id=\"T_d533f_row8_col8\" class=\"data row8 col8\" >https://images-na.ssl-images-amazon.com/images/I/81qmNyJo%2BkL._SL1500_.jpg,https://images-na.ssl-images-amazon.com/images/I/81ZTa1BrkzL._SL1500_.jpg,http://ecx.images-amazon.com/images/I/41pSoRu7UlL._SS40_.jpg,https://www.upccodesearch.com/images/barcode/0841710106442.png,https://images-na.ssl-images-amazon.com/images/I/81qmNyJo%252525252BkL._SL1500_.jpg,https://images-na.ssl-images-amazon.com/images/I/51DfBuqy4qL._SL1189_.jpg,https://images-na.ssl-images-amazon.com/images/I/51TshsEJTIL.jpg,https://images-na.ssl-images-amazon.com/images/I/81qmNyJo%2525252525252BkL._SL1500_.jpg,https://images-na.ssl-images-amazon.com/images/I/81qmNyJo%25252BkL._SL1500_.jpg,https://images-na.ssl-images-amazon.com/images/I/81qmNyJo%2525252BkL._SL1500_.jpg,https://images-na.ssl-images-amazon.com/images/I/51g3uIwzOIL._SL1050_.jpg,http://ecx.images-amazon.com/images/I/613LUdOc1eL._SS40_.jpg</td>\n",
       "                        <td id=\"T_d533f_row8_col9\" class=\"data row8 col9\" >amazonbasics/hl002619,amazonbasicsaaaperformancealkalinebatteries36count/b00lh3dmuo,0841710106442,841710106442,amazonbasicsaaaperformancealkalinebatteries36count/b00qwo9p0o</td>\n",
       "                        <td id=\"T_d533f_row8_col10\" class=\"data row8 col10\" >AmazonBasics</td>\n",
       "                        <td id=\"T_d533f_row8_col11\" class=\"data row8 col11\" >HL-002619</td>\n",
       "                        <td id=\"T_d533f_row8_col12\" class=\"data row8 col12\" >2016-04-07T00:00:00.000Z</td>\n",
       "                        <td id=\"T_d533f_row8_col13\" class=\"data row8 col13\" >2017-08-28T00:00:00Z</td>\n",
       "                        <td id=\"T_d533f_row8_col14\" class=\"data row8 col14\" >nan</td>\n",
       "                        <td id=\"T_d533f_row8_col15\" class=\"data row8 col15\" >nan</td>\n",
       "                        <td id=\"T_d533f_row8_col16\" class=\"data row8 col16\" >nan</td>\n",
       "                        <td id=\"T_d533f_row8_col17\" class=\"data row8 col17\" >nan</td>\n",
       "                        <td id=\"T_d533f_row8_col18\" class=\"data row8 col18\" >3</td>\n",
       "                        <td id=\"T_d533f_row8_col19\" class=\"data row8 col19\" >https://www.amazon.com/product-reviews/B00QWO9P0O/</td>\n",
       "                        <td id=\"T_d533f_row8_col20\" class=\"data row8 col20\" >These do not hold the amount of high power juice like energizer or duracell, but they are half the price.</td>\n",
       "                        <td id=\"T_d533f_row8_col21\" class=\"data row8 col21\" >... do not hold the amount of high power juice like energizer or duracell</td>\n",
       "                        <td id=\"T_d533f_row8_col22\" class=\"data row8 col22\" >ByK.R.</td>\n",
       "                        <td id=\"T_d533f_row8_col23\" class=\"data row8 col23\" >https://www.barcodable.com/upc/841710106442,https://www.amazon.com/AmazonBasics-Performance-Alkaline-Batteries-Count/dp/B00LH3DMUO/,https://www.amazon.com/AmazonBasics-Performance-Alkaline-Batteries-Count/dp/B00LH3DMUO,https://www.amazon.com/AmazonBasics-Performance-Alkaline-Batteries-36-Pack/dp/B00LH3DMUO/,http://www.amazon.com/AmazonBasics-Performance-Alkaline-Batteries-36-Pack/dp/B00LH3DMUO</td>\n",
       "            </tr>\n",
       "            <tr>\n",
       "                        <th id=\"T_d533f_level0_row9\" class=\"row_heading level0 row9\" >9</th>\n",
       "                        <td id=\"T_d533f_row9_col0\" class=\"data row9 col0\" >AVpgNzjwLJeJML43Kpxn</td>\n",
       "                        <td id=\"T_d533f_row9_col1\" class=\"data row9 col1\" >2015-10-30T08:59:32Z</td>\n",
       "                        <td id=\"T_d533f_row9_col2\" class=\"data row9 col2\" >2019-04-25T09:08:16Z</td>\n",
       "                        <td id=\"T_d533f_row9_col3\" class=\"data row9 col3\" >AmazonBasics AAA Performance Alkaline Batteries (36 Count)</td>\n",
       "                        <td id=\"T_d533f_row9_col4\" class=\"data row9 col4\" >B00QWO9P0O,B00LH3DMUO</td>\n",
       "                        <td id=\"T_d533f_row9_col5\" class=\"data row9 col5\" >Amazonbasics</td>\n",
       "                        <td id=\"T_d533f_row9_col6\" class=\"data row9 col6\" >AA,AAA,Health,Electronics,Health & Household,Camcorder Batteries,Camera & Photo,Batteries,Household Batteries,Robot Check,Accessories,Camera Batteries,Health and Beauty,Household Supplies,Batteries & Chargers,Health, Household & Baby Care,Health Personal Care</td>\n",
       "                        <td id=\"T_d533f_row9_col7\" class=\"data row9 col7\" >Health & Beauty</td>\n",
       "                        <td id=\"T_d533f_row9_col8\" class=\"data row9 col8\" >https://images-na.ssl-images-amazon.com/images/I/81qmNyJo%2BkL._SL1500_.jpg,https://images-na.ssl-images-amazon.com/images/I/81ZTa1BrkzL._SL1500_.jpg,http://ecx.images-amazon.com/images/I/41pSoRu7UlL._SS40_.jpg,https://www.upccodesearch.com/images/barcode/0841710106442.png,https://images-na.ssl-images-amazon.com/images/I/81qmNyJo%252525252BkL._SL1500_.jpg,https://images-na.ssl-images-amazon.com/images/I/51DfBuqy4qL._SL1189_.jpg,https://images-na.ssl-images-amazon.com/images/I/51TshsEJTIL.jpg,https://images-na.ssl-images-amazon.com/images/I/81qmNyJo%2525252525252BkL._SL1500_.jpg,https://images-na.ssl-images-amazon.com/images/I/81qmNyJo%25252BkL._SL1500_.jpg,https://images-na.ssl-images-amazon.com/images/I/81qmNyJo%2525252BkL._SL1500_.jpg,https://images-na.ssl-images-amazon.com/images/I/51g3uIwzOIL._SL1050_.jpg,http://ecx.images-amazon.com/images/I/613LUdOc1eL._SS40_.jpg</td>\n",
       "                        <td id=\"T_d533f_row9_col9\" class=\"data row9 col9\" >amazonbasics/hl002619,amazonbasicsaaaperformancealkalinebatteries36count/b00lh3dmuo,0841710106442,841710106442,amazonbasicsaaaperformancealkalinebatteries36count/b00qwo9p0o</td>\n",
       "                        <td id=\"T_d533f_row9_col10\" class=\"data row9 col10\" >AmazonBasics</td>\n",
       "                        <td id=\"T_d533f_row9_col11\" class=\"data row9 col11\" >HL-002619</td>\n",
       "                        <td id=\"T_d533f_row9_col12\" class=\"data row9 col12\" >2017-05-24T00:00:00.000Z</td>\n",
       "                        <td id=\"T_d533f_row9_col13\" class=\"data row9 col13\" >2017-08-28T00:00:00Z</td>\n",
       "                        <td id=\"T_d533f_row9_col14\" class=\"data row9 col14\" >nan</td>\n",
       "                        <td id=\"T_d533f_row9_col15\" class=\"data row9 col15\" >nan</td>\n",
       "                        <td id=\"T_d533f_row9_col16\" class=\"data row9 col16\" >nan</td>\n",
       "                        <td id=\"T_d533f_row9_col17\" class=\"data row9 col17\" >nan</td>\n",
       "                        <td id=\"T_d533f_row9_col18\" class=\"data row9 col18\" >4</td>\n",
       "                        <td id=\"T_d533f_row9_col19\" class=\"data row9 col19\" >https://www.amazon.com/product-reviews/B00QWO9P0O/</td>\n",
       "                        <td id=\"T_d533f_row9_col20\" class=\"data row9 col20\" >AmazonBasics AA AAA batteries have done well by me appear to have a good shelf life. I'll buy them again.</td>\n",
       "                        <td id=\"T_d533f_row9_col21\" class=\"data row9 col21\" >... done well by me appear to have a good shelf life</td>\n",
       "                        <td id=\"T_d533f_row9_col22\" class=\"data row9 col22\" >BySilverLane</td>\n",
       "                        <td id=\"T_d533f_row9_col23\" class=\"data row9 col23\" >https://www.barcodable.com/upc/841710106442,https://www.amazon.com/AmazonBasics-Performance-Alkaline-Batteries-Count/dp/B00LH3DMUO/,https://www.amazon.com/AmazonBasics-Performance-Alkaline-Batteries-Count/dp/B00LH3DMUO,https://www.amazon.com/AmazonBasics-Performance-Alkaline-Batteries-36-Pack/dp/B00LH3DMUO/,http://www.amazon.com/AmazonBasics-Performance-Alkaline-Batteries-36-Pack/dp/B00LH3DMUO</td>\n",
       "            </tr>\n",
       "    </tbody></table>"
      ],
      "text/plain": [
       "<pandas.io.formats.style.Styler at 0x7f81abe933d0>"
      ]
     },
     "execution_count": 3,
     "metadata": {},
     "output_type": "execute_result"
    }
   ],
   "source": [
    "dataframe_pure[:10].style"
   ]
  },
  {
   "cell_type": "code",
   "execution_count": 4,
   "id": "eef586aa",
   "metadata": {},
   "outputs": [],
   "source": [
    "dataframe = dataframe_pure[['reviews.rating', 'reviews.text']]"
   ]
  },
  {
   "cell_type": "code",
   "execution_count": 5,
   "id": "1911bb5a",
   "metadata": {},
   "outputs": [
    {
     "data": {
      "text/html": [
       "<style  type=\"text/css\" >\n",
       "</style><table id=\"T_e5b60_\" ><thead>    <tr>        <th class=\"blank level0\" ></th>        <th class=\"col_heading level0 col0\" >reviews.rating</th>        <th class=\"col_heading level0 col1\" >reviews.text</th>    </tr></thead><tbody>\n",
       "                <tr>\n",
       "                        <th id=\"T_e5b60_level0_row0\" class=\"row_heading level0 row0\" >0</th>\n",
       "                        <td id=\"T_e5b60_row0_col0\" class=\"data row0 col0\" >3</td>\n",
       "                        <td id=\"T_e5b60_row0_col1\" class=\"data row0 col1\" >I order 3 of them and one of the item is bad quality. Is missing backup spring so I have to put a pcs of aluminum to make the battery work.</td>\n",
       "            </tr>\n",
       "            <tr>\n",
       "                        <th id=\"T_e5b60_level0_row1\" class=\"row_heading level0 row1\" >1</th>\n",
       "                        <td id=\"T_e5b60_row1_col0\" class=\"data row1 col0\" >4</td>\n",
       "                        <td id=\"T_e5b60_row1_col1\" class=\"data row1 col1\" >Bulk is always the less expensive way to go for products like these</td>\n",
       "            </tr>\n",
       "            <tr>\n",
       "                        <th id=\"T_e5b60_level0_row2\" class=\"row_heading level0 row2\" >2</th>\n",
       "                        <td id=\"T_e5b60_row2_col0\" class=\"data row2 col0\" >5</td>\n",
       "                        <td id=\"T_e5b60_row2_col1\" class=\"data row2 col1\" >Well they are not Duracell but for the price i am happy.</td>\n",
       "            </tr>\n",
       "            <tr>\n",
       "                        <th id=\"T_e5b60_level0_row3\" class=\"row_heading level0 row3\" >3</th>\n",
       "                        <td id=\"T_e5b60_row3_col0\" class=\"data row3 col0\" >5</td>\n",
       "                        <td id=\"T_e5b60_row3_col1\" class=\"data row3 col1\" >Seem to work as well as name brand batteries at a much better price</td>\n",
       "            </tr>\n",
       "            <tr>\n",
       "                        <th id=\"T_e5b60_level0_row4\" class=\"row_heading level0 row4\" >4</th>\n",
       "                        <td id=\"T_e5b60_row4_col0\" class=\"data row4 col0\" >5</td>\n",
       "                        <td id=\"T_e5b60_row4_col1\" class=\"data row4 col1\" >These batteries are very long lasting the price is great.</td>\n",
       "            </tr>\n",
       "            <tr>\n",
       "                        <th id=\"T_e5b60_level0_row5\" class=\"row_heading level0 row5\" >5</th>\n",
       "                        <td id=\"T_e5b60_row5_col0\" class=\"data row5 col0\" >5</td>\n",
       "                        <td id=\"T_e5b60_row5_col1\" class=\"data row5 col1\" >Bought a lot of batteries for Christmas and the AmazonBasics Cell have been good. I haven't noticed a difference between the brand name batteries and the Amazon Basic brand. Just a lot easier to purchase and have arrive at the house and have on hand. Will buy again.</td>\n",
       "            </tr>\n",
       "            <tr>\n",
       "                        <th id=\"T_e5b60_level0_row6\" class=\"row_heading level0 row6\" >6</th>\n",
       "                        <td id=\"T_e5b60_row6_col0\" class=\"data row6 col0\" >5</td>\n",
       "                        <td id=\"T_e5b60_row6_col1\" class=\"data row6 col1\" >ive not had any problame with these batteries have ordered them in the past been very pleased.</td>\n",
       "            </tr>\n",
       "            <tr>\n",
       "                        <th id=\"T_e5b60_level0_row7\" class=\"row_heading level0 row7\" >7</th>\n",
       "                        <td id=\"T_e5b60_row7_col0\" class=\"data row7 col0\" >5</td>\n",
       "                        <td id=\"T_e5b60_row7_col1\" class=\"data row7 col1\" >Well if you are looking for cheap non-rechargeable batteries that last quite a while then these are perfect. Nothing more to say.</td>\n",
       "            </tr>\n",
       "            <tr>\n",
       "                        <th id=\"T_e5b60_level0_row8\" class=\"row_heading level0 row8\" >8</th>\n",
       "                        <td id=\"T_e5b60_row8_col0\" class=\"data row8 col0\" >3</td>\n",
       "                        <td id=\"T_e5b60_row8_col1\" class=\"data row8 col1\" >These do not hold the amount of high power juice like energizer or duracell, but they are half the price.</td>\n",
       "            </tr>\n",
       "            <tr>\n",
       "                        <th id=\"T_e5b60_level0_row9\" class=\"row_heading level0 row9\" >9</th>\n",
       "                        <td id=\"T_e5b60_row9_col0\" class=\"data row9 col0\" >4</td>\n",
       "                        <td id=\"T_e5b60_row9_col1\" class=\"data row9 col1\" >AmazonBasics AA AAA batteries have done well by me appear to have a good shelf life. I'll buy them again.</td>\n",
       "            </tr>\n",
       "            <tr>\n",
       "                        <th id=\"T_e5b60_level0_row10\" class=\"row_heading level0 row10\" >10</th>\n",
       "                        <td id=\"T_e5b60_row10_col0\" class=\"data row10 col0\" >5</td>\n",
       "                        <td id=\"T_e5b60_row10_col1\" class=\"data row10 col1\" >I find amazon basics batteries to be equal if not superior to name brand ones. Can't believe I didn't start buying them sooner! The packages are large and the price is great too.</td>\n",
       "            </tr>\n",
       "            <tr>\n",
       "                        <th id=\"T_e5b60_level0_row11\" class=\"row_heading level0 row11\" >11</th>\n",
       "                        <td id=\"T_e5b60_row11_col0\" class=\"data row11 col0\" >3</td>\n",
       "                        <td id=\"T_e5b60_row11_col1\" class=\"data row11 col1\" >When I first started getting the Amazon basic batteries I really liked them. With recent purchases, they do not seem to last like they had, or maybe a mixed-bag (inconsistent with some lasting better than others). I have not done any tests, but feel some other brands may last longer. However, the price is hard to beat.</td>\n",
       "            </tr>\n",
       "            <tr>\n",
       "                        <th id=\"T_e5b60_level0_row12\" class=\"row_heading level0 row12\" >12</th>\n",
       "                        <td id=\"T_e5b60_row12_col0\" class=\"data row12 col0\" >5</td>\n",
       "                        <td id=\"T_e5b60_row12_col1\" class=\"data row12 col1\" >Use it for my fish tank's light at night and works great, I love how you can easily switch it off and on if you want it on while guests are there.</td>\n",
       "            </tr>\n",
       "            <tr>\n",
       "                        <th id=\"T_e5b60_level0_row13\" class=\"row_heading level0 row13\" >13</th>\n",
       "                        <td id=\"T_e5b60_row13_col0\" class=\"data row13 col0\" >5</td>\n",
       "                        <td id=\"T_e5b60_row13_col1\" class=\"data row13 col1\" >just got em so I can't really comment on how good the do the job, good price, quick delivery but have only put two into one of my keyboards but they can go up to a year so who can say after three days</td>\n",
       "            </tr>\n",
       "            <tr>\n",
       "                        <th id=\"T_e5b60_level0_row14\" class=\"row_heading level0 row14\" >14</th>\n",
       "                        <td id=\"T_e5b60_row14_col0\" class=\"data row14 col0\" >5</td>\n",
       "                        <td id=\"T_e5b60_row14_col1\" class=\"data row14 col1\" >we have many things that need aa battery they are great</td>\n",
       "            </tr>\n",
       "            <tr>\n",
       "                        <th id=\"T_e5b60_level0_row15\" class=\"row_heading level0 row15\" >15</th>\n",
       "                        <td id=\"T_e5b60_row15_col0\" class=\"data row15 col0\" >5</td>\n",
       "                        <td id=\"T_e5b60_row15_col1\" class=\"data row15 col1\" >Thankful that I was able to find on Amazon for a great price and even better shipping. Arrived in perfect condition and did exactly what I needed it to. Great purchase and would purchase again.</td>\n",
       "            </tr>\n",
       "            <tr>\n",
       "                        <th id=\"T_e5b60_level0_row16\" class=\"row_heading level0 row16\" >16</th>\n",
       "                        <td id=\"T_e5b60_row16_col0\" class=\"data row16 col0\" >1</td>\n",
       "                        <td id=\"T_e5b60_row16_col1\" class=\"data row16 col1\" >I don't know if I would buy thus brand again seems like they don't last as long as Duracell</td>\n",
       "            </tr>\n",
       "            <tr>\n",
       "                        <th id=\"T_e5b60_level0_row17\" class=\"row_heading level0 row17\" >17</th>\n",
       "                        <td id=\"T_e5b60_row17_col0\" class=\"data row17 col0\" >2</td>\n",
       "                        <td id=\"T_e5b60_row17_col1\" class=\"data row17 col1\" >In my opinion these did not last anywhere near as long as Duracel in things like LED candles (which is crazy) and trail cameras. Cameras were not exposed to cold temps more or less than other batteries. WE buy in bulk for the north house. Amazon Basics is great for things like sheets and beeding and towels. In my opinion the battery life, in the large package of aaa and aa size we purchased were lacking.</td>\n",
       "            </tr>\n",
       "            <tr>\n",
       "                        <th id=\"T_e5b60_level0_row18\" class=\"row_heading level0 row18\" >18</th>\n",
       "                        <td id=\"T_e5b60_row18_col0\" class=\"data row18 col0\" >4</td>\n",
       "                        <td id=\"T_e5b60_row18_col1\" class=\"data row18 col1\" >They don't last as long as the brand name but are good enough considering they are much cheaper.</td>\n",
       "            </tr>\n",
       "            <tr>\n",
       "                        <th id=\"T_e5b60_level0_row19\" class=\"row_heading level0 row19\" >19</th>\n",
       "                        <td id=\"T_e5b60_row19_col0\" class=\"data row19 col0\" >3</td>\n",
       "                        <td id=\"T_e5b60_row19_col1\" class=\"data row19 col1\" >Bought these batteries for my Christmas gifts the month of (december) only lasted like 2months toys now need replacement batteries . I also used some for my doorbell and just now needs replacement batteries. Tv Remote control is still working but these batteries don't last very long...</td>\n",
       "            </tr>\n",
       "            <tr>\n",
       "                        <th id=\"T_e5b60_level0_row20\" class=\"row_heading level0 row20\" >20</th>\n",
       "                        <td id=\"T_e5b60_row20_col0\" class=\"data row20 col0\" >4</td>\n",
       "                        <td id=\"T_e5b60_row20_col1\" class=\"data row20 col1\" >This my second order and they seem to work as good as name brand and ship to my door.</td>\n",
       "            </tr>\n",
       "            <tr>\n",
       "                        <th id=\"T_e5b60_level0_row21\" class=\"row_heading level0 row21\" >21</th>\n",
       "                        <td id=\"T_e5b60_row21_col0\" class=\"data row21 col0\" >5</td>\n",
       "                        <td id=\"T_e5b60_row21_col1\" class=\"data row21 col1\" >This was my second purchase of amazon batteries and they work great. Just as good or even better than name brand batteries and half the price. This will be the only way I purchase batteries from now on!</td>\n",
       "            </tr>\n",
       "            <tr>\n",
       "                        <th id=\"T_e5b60_level0_row22\" class=\"row_heading level0 row22\" >22</th>\n",
       "                        <td id=\"T_e5b60_row22_col0\" class=\"data row22 col0\" >5</td>\n",
       "                        <td id=\"T_e5b60_row22_col1\" class=\"data row22 col1\" >They last as long as Duracell batteries in my Xbox one controllers and none of them exploded like some of the reviews said.</td>\n",
       "            </tr>\n",
       "            <tr>\n",
       "                        <th id=\"T_e5b60_level0_row23\" class=\"row_heading level0 row23\" >23</th>\n",
       "                        <td id=\"T_e5b60_row23_col0\" class=\"data row23 col0\" >4</td>\n",
       "                        <td id=\"T_e5b60_row23_col1\" class=\"data row23 col1\" >they seemed to not last as long as other name brand names disappointed!</td>\n",
       "            </tr>\n",
       "            <tr>\n",
       "                        <th id=\"T_e5b60_level0_row24\" class=\"row_heading level0 row24\" >24</th>\n",
       "                        <td id=\"T_e5b60_row24_col0\" class=\"data row24 col0\" >1</td>\n",
       "                        <td id=\"T_e5b60_row24_col1\" class=\"data row24 col1\" >These do not last long at all very cheap batteries no happy</td>\n",
       "            </tr>\n",
       "            <tr>\n",
       "                        <th id=\"T_e5b60_level0_row25\" class=\"row_heading level0 row25\" >25</th>\n",
       "                        <td id=\"T_e5b60_row25_col0\" class=\"data row25 col0\" >4</td>\n",
       "                        <td id=\"T_e5b60_row25_col1\" class=\"data row25 col1\" >have not used yet but a battery is a battery good price</td>\n",
       "            </tr>\n",
       "            <tr>\n",
       "                        <th id=\"T_e5b60_level0_row26\" class=\"row_heading level0 row26\" >26</th>\n",
       "                        <td id=\"T_e5b60_row26_col0\" class=\"data row26 col0\" >4</td>\n",
       "                        <td id=\"T_e5b60_row26_col1\" class=\"data row26 col1\" >These Amazon batteries did the job although I gave 4star only because I had a few I would say a hand full of batteries that were not as strong or were pretty weak but out of a box of 48 batteries, I will definitely buy again for this priceIm pretty well satisfied.Thank you!</td>\n",
       "            </tr>\n",
       "            <tr>\n",
       "                        <th id=\"T_e5b60_level0_row27\" class=\"row_heading level0 row27\" >27</th>\n",
       "                        <td id=\"T_e5b60_row27_col0\" class=\"data row27 col0\" >5</td>\n",
       "                        <td id=\"T_e5b60_row27_col1\" class=\"data row27 col1\" >We've ordered these a few times cause we've been so happy with product. These are good quality. We are also happy with price. I would recommend these.</td>\n",
       "            </tr>\n",
       "            <tr>\n",
       "                        <th id=\"T_e5b60_level0_row28\" class=\"row_heading level0 row28\" >28</th>\n",
       "                        <td id=\"T_e5b60_row28_col0\" class=\"data row28 col0\" >5</td>\n",
       "                        <td id=\"T_e5b60_row28_col1\" class=\"data row28 col1\" >HAVE NOT HAD CHANCE TO USE ALL OF THEM BUT HOPEFULLY ALL OF THEM WILL REMAIN IN GOOD ORDER FOR A REASONABLE AMOUNT OF TIME MEANING A FEW YEARS OUT.</td>\n",
       "            </tr>\n",
       "            <tr>\n",
       "                        <th id=\"T_e5b60_level0_row29\" class=\"row_heading level0 row29\" >29</th>\n",
       "                        <td id=\"T_e5b60_row29_col0\" class=\"data row29 col0\" >3</td>\n",
       "                        <td id=\"T_e5b60_row29_col1\" class=\"data row29 col1\" >these were under a light we thought they were there to fit the light when they arrived and nice company they were not the batteries we needed it should have been aa but that is ok,it was our fault not knowing this. thanks..</td>\n",
       "            </tr>\n",
       "            <tr>\n",
       "                        <th id=\"T_e5b60_level0_row30\" class=\"row_heading level0 row30\" >30</th>\n",
       "                        <td id=\"T_e5b60_row30_col0\" class=\"data row30 col0\" >4</td>\n",
       "                        <td id=\"T_e5b60_row30_col1\" class=\"data row30 col1\" >I use these batteries in my game cameras and they work great, last several weeks.</td>\n",
       "            </tr>\n",
       "            <tr>\n",
       "                        <th id=\"T_e5b60_level0_row31\" class=\"row_heading level0 row31\" >31</th>\n",
       "                        <td id=\"T_e5b60_row31_col0\" class=\"data row31 col0\" >5</td>\n",
       "                        <td id=\"T_e5b60_row31_col1\" class=\"data row31 col1\" >Very convenient to have a box of batteries and at a good price. No longer need to compare pricing in stores. Should have done this long time ago.</td>\n",
       "            </tr>\n",
       "            <tr>\n",
       "                        <th id=\"T_e5b60_level0_row32\" class=\"row_heading level0 row32\" >32</th>\n",
       "                        <td id=\"T_e5b60_row32_col0\" class=\"data row32 col0\" >5</td>\n",
       "                        <td id=\"T_e5b60_row32_col1\" class=\"data row32 col1\" >Not much to say about batteries except they work for a good price. Having a hundred let's me share with kids and grand kids.</td>\n",
       "            </tr>\n",
       "            <tr>\n",
       "                        <th id=\"T_e5b60_level0_row33\" class=\"row_heading level0 row33\" >33</th>\n",
       "                        <td id=\"T_e5b60_row33_col0\" class=\"data row33 col0\" >5</td>\n",
       "                        <td id=\"T_e5b60_row33_col1\" class=\"data row33 col1\" >They seem to work okay so far and the price was great.</td>\n",
       "            </tr>\n",
       "            <tr>\n",
       "                        <th id=\"T_e5b60_level0_row34\" class=\"row_heading level0 row34\" >34</th>\n",
       "                        <td id=\"T_e5b60_row34_col0\" class=\"data row34 col0\" >4</td>\n",
       "                        <td id=\"T_e5b60_row34_col1\" class=\"data row34 col1\" >I use them for my Xbox controllers and they last pretty long. Great for a cheap price.</td>\n",
       "            </tr>\n",
       "            <tr>\n",
       "                        <th id=\"T_e5b60_level0_row35\" class=\"row_heading level0 row35\" >35</th>\n",
       "                        <td id=\"T_e5b60_row35_col0\" class=\"data row35 col0\" >5</td>\n",
       "                        <td id=\"T_e5b60_row35_col1\" class=\"data row35 col1\" >Seem to hold up as well as any name brand and at a much better price</td>\n",
       "            </tr>\n",
       "            <tr>\n",
       "                        <th id=\"T_e5b60_level0_row36\" class=\"row_heading level0 row36\" >36</th>\n",
       "                        <td id=\"T_e5b60_row36_col0\" class=\"data row36 col0\" >5</td>\n",
       "                        <td id=\"T_e5b60_row36_col1\" class=\"data row36 col1\" >Works just as well as every other brand of battery with a better price. Powers all of my sons toys for months at a time.</td>\n",
       "            </tr>\n",
       "            <tr>\n",
       "                        <th id=\"T_e5b60_level0_row37\" class=\"row_heading level0 row37\" >37</th>\n",
       "                        <td id=\"T_e5b60_row37_col0\" class=\"data row37 col0\" >3</td>\n",
       "                        <td id=\"T_e5b60_row37_col1\" class=\"data row37 col1\" >Just got them so i really wont kno for a few eeeks or so how good these batteries are</td>\n",
       "            </tr>\n",
       "            <tr>\n",
       "                        <th id=\"T_e5b60_level0_row38\" class=\"row_heading level0 row38\" >38</th>\n",
       "                        <td id=\"T_e5b60_row38_col0\" class=\"data row38 col0\" >5</td>\n",
       "                        <td id=\"T_e5b60_row38_col1\" class=\"data row38 col1\" >These last as well as Energizer- half the price.</td>\n",
       "            </tr>\n",
       "            <tr>\n",
       "                        <th id=\"T_e5b60_level0_row39\" class=\"row_heading level0 row39\" >39</th>\n",
       "                        <td id=\"T_e5b60_row39_col0\" class=\"data row39 col0\" >1</td>\n",
       "                        <td id=\"T_e5b60_row39_col1\" class=\"data row39 col1\" >These batteries are horrible. We depend on AA batteries for many wireless microphone and have found that brand-name batteries last about a month per our usage. We switched to Amazon basics to try it out when a subscription for our preferred brand was no longer available and have found that, under the same usage, these batteries last about a week. That's a 1/4 capacity.</td>\n",
       "            </tr>\n",
       "            <tr>\n",
       "                        <th id=\"T_e5b60_level0_row40\" class=\"row_heading level0 row40\" >40</th>\n",
       "                        <td id=\"T_e5b60_row40_col0\" class=\"data row40 col0\" >5</td>\n",
       "                        <td id=\"T_e5b60_row40_col1\" class=\"data row40 col1\" >3rd purchase of these AA from Amazon, all have expiration of 2027. Ones I've used thus far last as Long as name brands</td>\n",
       "            </tr>\n",
       "            <tr>\n",
       "                        <th id=\"T_e5b60_level0_row41\" class=\"row_heading level0 row41\" >41</th>\n",
       "                        <td id=\"T_e5b60_row41_col0\" class=\"data row41 col0\" >5</td>\n",
       "                        <td id=\"T_e5b60_row41_col1\" class=\"data row41 col1\" >I am 100 satisfied with my purchase of these batteries</td>\n",
       "            </tr>\n",
       "            <tr>\n",
       "                        <th id=\"T_e5b60_level0_row42\" class=\"row_heading level0 row42\" >42</th>\n",
       "                        <td id=\"T_e5b60_row42_col0\" class=\"data row42 col0\" >3</td>\n",
       "                        <td id=\"T_e5b60_row42_col1\" class=\"data row42 col1\" >I put these batteries in 10 of the 12 window candles that I bought - I put my last 2 Duracell in the other 2. The Amazon Batteries lasted for about 10 days and the Duracell lasted for 12. Since then I've experimented to see if this is consistent . It is, the Duracell last an average of 17 longer.</td>\n",
       "            </tr>\n",
       "            <tr>\n",
       "                        <th id=\"T_e5b60_level0_row43\" class=\"row_heading level0 row43\" >43</th>\n",
       "                        <td id=\"T_e5b60_row43_col0\" class=\"data row43 col0\" >1</td>\n",
       "                        <td id=\"T_e5b60_row43_col1\" class=\"data row43 col1\" >First time I bought these they worked well and lasted almost as long as the name brands. Not the same this time around, almost no charge - 4-6 hours of run time - Junk batteries.</td>\n",
       "            </tr>\n",
       "            <tr>\n",
       "                        <th id=\"T_e5b60_level0_row44\" class=\"row_heading level0 row44\" >44</th>\n",
       "                        <td id=\"T_e5b60_row44_col0\" class=\"data row44 col0\" >5</td>\n",
       "                        <td id=\"T_e5b60_row44_col1\" class=\"data row44 col1\" >Seem to work very well at a great price.</td>\n",
       "            </tr>\n",
       "            <tr>\n",
       "                        <th id=\"T_e5b60_level0_row45\" class=\"row_heading level0 row45\" >45</th>\n",
       "                        <td id=\"T_e5b60_row45_col0\" class=\"data row45 col0\" >1</td>\n",
       "                        <td id=\"T_e5b60_row45_col1\" class=\"data row45 col1\" >These batteries don't last even in a simple digital clock. 2 weeks at best.</td>\n",
       "            </tr>\n",
       "            <tr>\n",
       "                        <th id=\"T_e5b60_level0_row46\" class=\"row_heading level0 row46\" >46</th>\n",
       "                        <td id=\"T_e5b60_row46_col0\" class=\"data row46 col0\" >5</td>\n",
       "                        <td id=\"T_e5b60_row46_col1\" class=\"data row46 col1\" >I buy AAA and AA batteries about 4 - 6 times a year. I made the switch to Amazon batteries about 2 years ago and never looked back. These batteries work just as well as any of the name brands, but at a much more reasonable cost.</td>\n",
       "            </tr>\n",
       "            <tr>\n",
       "                        <th id=\"T_e5b60_level0_row47\" class=\"row_heading level0 row47\" >47</th>\n",
       "                        <td id=\"T_e5b60_row47_col0\" class=\"data row47 col0\" >1</td>\n",
       "                        <td id=\"T_e5b60_row47_col1\" class=\"data row47 col1\" >Date on the back of these were 1992. Yeah, 1992. Inedible.</td>\n",
       "            </tr>\n",
       "            <tr>\n",
       "                        <th id=\"T_e5b60_level0_row48\" class=\"row_heading level0 row48\" >48</th>\n",
       "                        <td id=\"T_e5b60_row48_col0\" class=\"data row48 col0\" >4</td>\n",
       "                        <td id=\"T_e5b60_row48_col1\" class=\"data row48 col1\" >GOT THE 48 PACK, I USEDD THEM UP FASTER THAN I THOUGHT I WOULD!!,SO IM ORDERING MORE !! SO IM ORDERING MORE NOW</td>\n",
       "            </tr>\n",
       "            <tr>\n",
       "                        <th id=\"T_e5b60_level0_row49\" class=\"row_heading level0 row49\" >49</th>\n",
       "                        <td id=\"T_e5b60_row49_col0\" class=\"data row49 col0\" >5</td>\n",
       "                        <td id=\"T_e5b60_row49_col1\" class=\"data row49 col1\" >The 48 packs are the lowest price per AA battery you will find anywhere. I have a device I use for work that needs 8 new AA batteries every working day. These batteries get me through a 12 hour day the same as the expensive batteries. I could switch to rechargeable batteries but the simplicity of just putting in new batteries and not fooling with recharging every night is worth it to me.</td>\n",
       "            </tr>\n",
       "            <tr>\n",
       "                        <th id=\"T_e5b60_level0_row50\" class=\"row_heading level0 row50\" >50</th>\n",
       "                        <td id=\"T_e5b60_row50_col0\" class=\"data row50 col0\" >5</td>\n",
       "                        <td id=\"T_e5b60_row50_col1\" class=\"data row50 col1\" >I definitely love the price and quantity.. My kids go tthrough them to fast. At least these will last a while..</td>\n",
       "            </tr>\n",
       "            <tr>\n",
       "                        <th id=\"T_e5b60_level0_row51\" class=\"row_heading level0 row51\" >51</th>\n",
       "                        <td id=\"T_e5b60_row51_col0\" class=\"data row51 col0\" >5</td>\n",
       "                        <td id=\"T_e5b60_row51_col1\" class=\"data row51 col1\" >They worked and great price.</td>\n",
       "            </tr>\n",
       "            <tr>\n",
       "                        <th id=\"T_e5b60_level0_row52\" class=\"row_heading level0 row52\" >52</th>\n",
       "                        <td id=\"T_e5b60_row52_col0\" class=\"data row52 col0\" >5</td>\n",
       "                        <td id=\"T_e5b60_row52_col1\" class=\"data row52 col1\" >Batteries. Standard AA kind. We use them everyday. They power many things and these work as good or better than any others.</td>\n",
       "            </tr>\n",
       "            <tr>\n",
       "                        <th id=\"T_e5b60_level0_row53\" class=\"row_heading level0 row53\" >53</th>\n",
       "                        <td id=\"T_e5b60_row53_col0\" class=\"data row53 col0\" >5</td>\n",
       "                        <td id=\"T_e5b60_row53_col1\" class=\"data row53 col1\" >Excellent performance and better price.</td>\n",
       "            </tr>\n",
       "            <tr>\n",
       "                        <th id=\"T_e5b60_level0_row54\" class=\"row_heading level0 row54\" >54</th>\n",
       "                        <td id=\"T_e5b60_row54_col0\" class=\"data row54 col0\" >5</td>\n",
       "                        <td id=\"T_e5b60_row54_col1\" class=\"data row54 col1\" >Arrived earlier than expected. Amazon batteries are not only affordable, but have a long life.</td>\n",
       "            </tr>\n",
       "            <tr>\n",
       "                        <th id=\"T_e5b60_level0_row55\" class=\"row_heading level0 row55\" >55</th>\n",
       "                        <td id=\"T_e5b60_row55_col0\" class=\"data row55 col0\" >5</td>\n",
       "                        <td id=\"T_e5b60_row55_col1\" class=\"data row55 col1\" >Excellent</td>\n",
       "            </tr>\n",
       "            <tr>\n",
       "                        <th id=\"T_e5b60_level0_row56\" class=\"row_heading level0 row56\" >56</th>\n",
       "                        <td id=\"T_e5b60_row56_col0\" class=\"data row56 col0\" >5</td>\n",
       "                        <td id=\"T_e5b60_row56_col1\" class=\"data row56 col1\" >Great product!</td>\n",
       "            </tr>\n",
       "            <tr>\n",
       "                        <th id=\"T_e5b60_level0_row57\" class=\"row_heading level0 row57\" >57</th>\n",
       "                        <td id=\"T_e5b60_row57_col0\" class=\"data row57 col0\" >5</td>\n",
       "                        <td id=\"T_e5b60_row57_col1\" class=\"data row57 col1\" >They're batteries!</td>\n",
       "            </tr>\n",
       "            <tr>\n",
       "                        <th id=\"T_e5b60_level0_row58\" class=\"row_heading level0 row58\" >58</th>\n",
       "                        <td id=\"T_e5b60_row58_col0\" class=\"data row58 col0\" >5</td>\n",
       "                        <td id=\"T_e5b60_row58_col1\" class=\"data row58 col1\" >LOVE THESE BATTERIES! BETTER THAN DURACELL AND SAVES ME MONEY! THANK YOU FOR A GREAT PRODUCT AMAZON!</td>\n",
       "            </tr>\n",
       "            <tr>\n",
       "                        <th id=\"T_e5b60_level0_row59\" class=\"row_heading level0 row59\" >59</th>\n",
       "                        <td id=\"T_e5b60_row59_col0\" class=\"data row59 col0\" >5</td>\n",
       "                        <td id=\"T_e5b60_row59_col1\" class=\"data row59 col1\" >Amazon you rock! These work better than name brand batteries and cost nothing. Have the same nice feel of expensive batteries too. Perfect in my opinion, will re purchase!</td>\n",
       "            </tr>\n",
       "            <tr>\n",
       "                        <th id=\"T_e5b60_level0_row60\" class=\"row_heading level0 row60\" >60</th>\n",
       "                        <td id=\"T_e5b60_row60_col0\" class=\"data row60 col0\" >5</td>\n",
       "                        <td id=\"T_e5b60_row60_col1\" class=\"data row60 col1\" >Amazing so far. These AAA's are even more affordable than the brands at WalMart. Will update if they end up not being good.</td>\n",
       "            </tr>\n",
       "            <tr>\n",
       "                        <th id=\"T_e5b60_level0_row61\" class=\"row_heading level0 row61\" >61</th>\n",
       "                        <td id=\"T_e5b60_row61_col0\" class=\"data row61 col0\" >5</td>\n",
       "                        <td id=\"T_e5b60_row61_col1\" class=\"data row61 col1\" >works great</td>\n",
       "            </tr>\n",
       "            <tr>\n",
       "                        <th id=\"T_e5b60_level0_row62\" class=\"row_heading level0 row62\" >62</th>\n",
       "                        <td id=\"T_e5b60_row62_col0\" class=\"data row62 col0\" >5</td>\n",
       "                        <td id=\"T_e5b60_row62_col1\" class=\"data row62 col1\" >I am happy to report that this order is working fine with no issues. I am very satisfied with this order and plan to buy again from same seller. Thank you. Jn</td>\n",
       "            </tr>\n",
       "            <tr>\n",
       "                        <th id=\"T_e5b60_level0_row63\" class=\"row_heading level0 row63\" >63</th>\n",
       "                        <td id=\"T_e5b60_row63_col0\" class=\"data row63 col0\" >4</td>\n",
       "                        <td id=\"T_e5b60_row63_col1\" class=\"data row63 col1\" >AmazonBasics batteries are quite good in terms of capacity -- pretty much tied for the top spot compared to the other 6 brands I've tested, but other brands have the edge in capacity per dollar. When I computed value by dividing capacity by the cost per battery of the cheapest package size, they took a respectable third place, and they have the advantage of being a trusted name compared to the value leader. In the images I have attached a graph and a table summarizing my test results for the 7 types I've tested, but if you'd like to know more about how I test ... on to the in-dept test review.I've been on a bit of a quest to test all of the top-selling aaa batteries on Amazon in a repeatable, precise way. This means the same equipment, same environmental conditions, and same slots in the equipment will be used for each test. For each test, I fully discharge 3 batteries in my Opus BT-C2000 battery analyzer at rates of 100 ma, 200 ma, and 400 ma (discharge rate affects usable capacity). I have also performed this exact same test (same equipment, same conditions) on the ACDelco, Duracell Procell, Duracell Coppertop, Energizer MAX, Maxell, and Rayovac. I have linked the other brands I've reviewed at the end of this review if you'd like to take a look at the other results for comparison purposes. For the Amazon Basics batteries, the capacity at each discharge rate was:Disch Rt Capacity Runtime Sample use case100 mA 997 mAh 10 hrs Low-power LED flashlight200 mA 914 mAh 4.5 hrs Electronic toy / medium LED flashlight400 mA 623 mAh 1.5 hrs Motorized toy / bright LED flashlightNote that these (and all other Alkalines) would achieve somewhat higher capacity (maybe 1200 mAh) in a low discharge application like a mouse, keyboard, remote control, etc because alkaline batteries have internal resistance that reduces usable capacity at high discharge rates.The capacity of these batteries is among the best I've tested -- take a look at the attached data table for comparative data. For the cost (0.31/ea in a 36 pack right now), these are a decent but beatable value -- the power supplied per dollar spent is very good, but eclipsed by other currently available options.Comparison:These batteries do well capacity-wise, but value-wise are blown away by the currently cheapest energy/dollar battery that I've tested, the ACDelco aaa's. Their capacity results were:Disch Rt Capacity Runtime100 mA 1005 mAh 10 hrs200 mA 864 mAh 4.3 hrs400 mA 670 mAh 1.7 hrsAs you can see, the Amazon batteries were very comperable ... but, at the current time the AmazonBasics batteries are 0.31/ea (36 pack), while the ACDelco batteries are about 0.21/ea (48 pack) -- so the ACDelco are significantly cheaper per mAh. I did not test shelf life, so it's possible that these may hold up better sitting in a drawer. Although both the Amazon batteries and the ACDelco batteries are certainly made on contract by a third party, I do think that I trust Amazon a bit more to provide consistent batteries than ACDelco ... although I haven't had any trouble with my ACDelco batteries so far. It's also worth noting that the Amazon batteries come in clearly superior packaging - while the ACDelco batteries come in a horrible gigantic plastic blister pack, the Amazon batteries come in a closable cardboard box. If you don't go through a lot of batteries organization of your battery drawer is important to you, that could push them into the all-around winner category despite the 50 price premium.Finally, because another review specifically mentions the Rayovac AA's as being 'good' in some usage scenarios, I thought I'd share my findings for the Rayovac AAA's. In short, they're garbage - the Amazon batteries are better in EVERY case. It's possible that the Rayovac AA's are much better than the AAA's, but I think it's more likely that the version of the Rayovacs tested by the website that he got his results from is different than the most popular Rayovac on Amazon (I source all of my batteries from Amazon). I ran the Rayovac test several times because I couldn't believe how poorly they did ... here are some typical Rayovac results:Disch Rt Capacity Runtime100 mA 908 mAh 9 hrs200 mA 590 mAh 2.9 hrs400 mA 443 mAh 1.1 hrsMy other battery tests/reviews:I have posted reviews for Duracell Coppertop, Duracell Procell and ACDelco aaa alkaline batteries with capacity data gathered using the exact same method and equipment. To find those reviews for comparison purposes, go to the product pages linked below and search for 'mah' under 'all reviews' (or just browse to them on my profile). If/when I do additional aaa tests/reviews in the future, I will update this list.ACDelco AAA Super Alkaline BatteriesDuracell AAA Batteries Coppertop MN2400 - 20 PackDuracell Procell AAA Batteries PC2400BKD09Energizer MAX AAA BatteriesMaxell Alkaline Battery AAA CellRayovac Alkaline AAA Batteries</td>\n",
       "            </tr>\n",
       "            <tr>\n",
       "                        <th id=\"T_e5b60_level0_row64\" class=\"row_heading level0 row64\" >64</th>\n",
       "                        <td id=\"T_e5b60_row64_col0\" class=\"data row64 col0\" >1</td>\n",
       "                        <td id=\"T_e5b60_row64_col1\" class=\"data row64 col1\" >Battery storage life only lasted 8 months (stored indoors).</td>\n",
       "            </tr>\n",
       "            <tr>\n",
       "                        <th id=\"T_e5b60_level0_row65\" class=\"row_heading level0 row65\" >65</th>\n",
       "                        <td id=\"T_e5b60_row65_col0\" class=\"data row65 col0\" >4</td>\n",
       "                        <td id=\"T_e5b60_row65_col1\" class=\"data row65 col1\" >A good bang for your buck!! Almost everything now a days uses batteries.</td>\n",
       "            </tr>\n",
       "            <tr>\n",
       "                        <th id=\"T_e5b60_level0_row66\" class=\"row_heading level0 row66\" >66</th>\n",
       "                        <td id=\"T_e5b60_row66_col0\" class=\"data row66 col0\" >2</td>\n",
       "                        <td id=\"T_e5b60_row66_col1\" class=\"data row66 col1\" >If it's possible to have gotten a dud batch I sure got it. We BLEW through all these batteries in less than a month. My kids toys aren't that super powered and even in remotes I was having to change batteries way too often. For example the magic touch counting toy, the store batteries lasted 3 years. Popped in some Amazon batteries, 1 month and the second child didn't play with it nearly as much as the first. For the price it was worth the try but I'm going back to the other brands.</td>\n",
       "            </tr>\n",
       "            <tr>\n",
       "                        <th id=\"T_e5b60_level0_row67\" class=\"row_heading level0 row67\" >67</th>\n",
       "                        <td id=\"T_e5b60_row67_col0\" class=\"data row67 col0\" >5</td>\n",
       "                        <td id=\"T_e5b60_row67_col1\" class=\"data row67 col1\" >NICE PRODUCT</td>\n",
       "            </tr>\n",
       "            <tr>\n",
       "                        <th id=\"T_e5b60_level0_row68\" class=\"row_heading level0 row68\" >68</th>\n",
       "                        <td id=\"T_e5b60_row68_col0\" class=\"data row68 col0\" >5</td>\n",
       "                        <td id=\"T_e5b60_row68_col1\" class=\"data row68 col1\" >Great basic batteries! Fantastic price. I like having a stockpile. When my kids get toys at Christmas I feel like Oprah. YOU get a battery! and YOU get a battery!...</td>\n",
       "            </tr>\n",
       "            <tr>\n",
       "                        <th id=\"T_e5b60_level0_row69\" class=\"row_heading level0 row69\" >69</th>\n",
       "                        <td id=\"T_e5b60_row69_col0\" class=\"data row69 col0\" >5</td>\n",
       "                        <td id=\"T_e5b60_row69_col1\" class=\"data row69 col1\" >Some day we will probably look back and chuckle about 'primitive' batteries like these. But not yet. They are an integral part of our daily lives. We need food, drink, shelter, love, and BATTERIES! You can't beat the price/quality combination.</td>\n",
       "            </tr>\n",
       "            <tr>\n",
       "                        <th id=\"T_e5b60_level0_row70\" class=\"row_heading level0 row70\" >70</th>\n",
       "                        <td id=\"T_e5b60_row70_col0\" class=\"data row70 col0\" >5</td>\n",
       "                        <td id=\"T_e5b60_row70_col1\" class=\"data row70 col1\" >A battery is a battery these work just as good if not better than the name brands like Duracell or Enginzer</td>\n",
       "            </tr>\n",
       "            <tr>\n",
       "                        <th id=\"T_e5b60_level0_row71\" class=\"row_heading level0 row71\" >71</th>\n",
       "                        <td id=\"T_e5b60_row71_col0\" class=\"data row71 col0\" >5</td>\n",
       "                        <td id=\"T_e5b60_row71_col1\" class=\"data row71 col1\" >I like to have a good stock of batteries in my home. I am a repeat purchaser of these and other sizes. So far no performance issues. Lasts like Duracell. They might consider improving the graphics though, not very exciting to look at.</td>\n",
       "            </tr>\n",
       "            <tr>\n",
       "                        <th id=\"T_e5b60_level0_row72\" class=\"row_heading level0 row72\" >72</th>\n",
       "                        <td id=\"T_e5b60_row72_col0\" class=\"data row72 col0\" >5</td>\n",
       "                        <td id=\"T_e5b60_row72_col1\" class=\"data row72 col1\" >These worked out great for his battery powered cars I got him. What a awesome deal.</td>\n",
       "            </tr>\n",
       "            <tr>\n",
       "                        <th id=\"T_e5b60_level0_row73\" class=\"row_heading level0 row73\" >73</th>\n",
       "                        <td id=\"T_e5b60_row73_col0\" class=\"data row73 col0\" >5</td>\n",
       "                        <td id=\"T_e5b60_row73_col1\" class=\"data row73 col1\" >I used to buy batteries from Costco which come under Kirkland brand. I thought of testing Amazon Basics based on my experience of other Amazon Basics products in the past. These batteries are way better than Kirkland, Energizer and Duracell. The cost is nicely placed. Now my kids have more time to play with toys before the need to replace the batteries. A clear thumbs up!</td>\n",
       "            </tr>\n",
       "            <tr>\n",
       "                        <th id=\"T_e5b60_level0_row74\" class=\"row_heading level0 row74\" >74</th>\n",
       "                        <td id=\"T_e5b60_row74_col0\" class=\"data row74 col0\" >3</td>\n",
       "                        <td id=\"T_e5b60_row74_col1\" class=\"data row74 col1\" >Sorry to say I've been disappointed with these. They didn't last as long in my remotes and RC transmitters as even other store brand alkaline batteries.</td>\n",
       "            </tr>\n",
       "            <tr>\n",
       "                        <th id=\"T_e5b60_level0_row75\" class=\"row_heading level0 row75\" >75</th>\n",
       "                        <td id=\"T_e5b60_row75_col0\" class=\"data row75 col0\" >5</td>\n",
       "                        <td id=\"T_e5b60_row75_col1\" class=\"data row75 col1\" >Got it and it's already in use.</td>\n",
       "            </tr>\n",
       "            <tr>\n",
       "                        <th id=\"T_e5b60_level0_row76\" class=\"row_heading level0 row76\" >76</th>\n",
       "                        <td id=\"T_e5b60_row76_col0\" class=\"data row76 col0\" >5</td>\n",
       "                        <td id=\"T_e5b60_row76_col1\" class=\"data row76 col1\" >Never purchased these before ... Work well so far</td>\n",
       "            </tr>\n",
       "            <tr>\n",
       "                        <th id=\"T_e5b60_level0_row77\" class=\"row_heading level0 row77\" >77</th>\n",
       "                        <td id=\"T_e5b60_row77_col0\" class=\"data row77 col0\" >4</td>\n",
       "                        <td id=\"T_e5b60_row77_col1\" class=\"data row77 col1\" >lasts just as long as duracell</td>\n",
       "            </tr>\n",
       "            <tr>\n",
       "                        <th id=\"T_e5b60_level0_row78\" class=\"row_heading level0 row78\" >78</th>\n",
       "                        <td id=\"T_e5b60_row78_col0\" class=\"data row78 col0\" >5</td>\n",
       "                        <td id=\"T_e5b60_row78_col1\" class=\"data row78 col1\" >I bought the smaller pack last time and didn't realize how quickly it runs out. Very happy with this amount of batteries.</td>\n",
       "            </tr>\n",
       "            <tr>\n",
       "                        <th id=\"T_e5b60_level0_row79\" class=\"row_heading level0 row79\" >79</th>\n",
       "                        <td id=\"T_e5b60_row79_col0\" class=\"data row79 col0\" >5</td>\n",
       "                        <td id=\"T_e5b60_row79_col1\" class=\"data row79 col1\" >Like that I can buy these online and in bulk. Have ordered them several times. A good buy</td>\n",
       "            </tr>\n",
       "            <tr>\n",
       "                        <th id=\"T_e5b60_level0_row80\" class=\"row_heading level0 row80\" >80</th>\n",
       "                        <td id=\"T_e5b60_row80_col0\" class=\"data row80 col0\" >4</td>\n",
       "                        <td id=\"T_e5b60_row80_col1\" class=\"data row80 col1\" >What can I say Thes batteries work as xpected.</td>\n",
       "            </tr>\n",
       "            <tr>\n",
       "                        <th id=\"T_e5b60_level0_row81\" class=\"row_heading level0 row81\" >81</th>\n",
       "                        <td id=\"T_e5b60_row81_col0\" class=\"data row81 col0\" >4</td>\n",
       "                        <td id=\"T_e5b60_row81_col1\" class=\"data row81 col1\" >This large pack of batteries is a cheap alternative to buying other brand names and are particularly useful for gaming. The battery life is every bit as good as the brand name batteries as well. I use these batteries for frequent gaming to power my controller and headset.</td>\n",
       "            </tr>\n",
       "            <tr>\n",
       "                        <th id=\"T_e5b60_level0_row82\" class=\"row_heading level0 row82\" >82</th>\n",
       "                        <td id=\"T_e5b60_row82_col0\" class=\"data row82 col0\" >5</td>\n",
       "                        <td id=\"T_e5b60_row82_col1\" class=\"data row82 col1\" >Good deal for rechargeable. They all work and seem to preform well.</td>\n",
       "            </tr>\n",
       "            <tr>\n",
       "                        <th id=\"T_e5b60_level0_row83\" class=\"row_heading level0 row83\" >83</th>\n",
       "                        <td id=\"T_e5b60_row83_col0\" class=\"data row83 col0\" >5</td>\n",
       "                        <td id=\"T_e5b60_row83_col1\" class=\"data row83 col1\" >Good batteries at a good price</td>\n",
       "            </tr>\n",
       "            <tr>\n",
       "                        <th id=\"T_e5b60_level0_row84\" class=\"row_heading level0 row84\" >84</th>\n",
       "                        <td id=\"T_e5b60_row84_col0\" class=\"data row84 col0\" >4</td>\n",
       "                        <td id=\"T_e5b60_row84_col1\" class=\"data row84 col1\" >They seem to have some good staying power and are cheaper than most other brands. I highly recommend as this box lasts quite a few months with the kids mainly using these for xbox controllers.</td>\n",
       "            </tr>\n",
       "            <tr>\n",
       "                        <th id=\"T_e5b60_level0_row85\" class=\"row_heading level0 row85\" >85</th>\n",
       "                        <td id=\"T_e5b60_row85_col0\" class=\"data row85 col0\" >5</td>\n",
       "                        <td id=\"T_e5b60_row85_col1\" class=\"data row85 col1\" >These batteries are a good value and work well. I have used them in the past and would recommend them to all.</td>\n",
       "            </tr>\n",
       "            <tr>\n",
       "                        <th id=\"T_e5b60_level0_row86\" class=\"row_heading level0 row86\" >86</th>\n",
       "                        <td id=\"T_e5b60_row86_col0\" class=\"data row86 col0\" >5</td>\n",
       "                        <td id=\"T_e5b60_row86_col1\" class=\"data row86 col1\" >A friend advised me to buy my batteries from Amazon. Her family swears by them. I am now using them and agree they are a good buy for the money and I am not worried about running out of batteries or running out to have to buy them.</td>\n",
       "            </tr>\n",
       "            <tr>\n",
       "                        <th id=\"T_e5b60_level0_row87\" class=\"row_heading level0 row87\" >87</th>\n",
       "                        <td id=\"T_e5b60_row87_col0\" class=\"data row87 col0\" >5</td>\n",
       "                        <td id=\"T_e5b60_row87_col1\" class=\"data row87 col1\" >Batteries are pretty much of a commodity as long as they do what they're supposed to do, so I ordered these based on their price -- much cheaper than what you can buy in a store. And these batteries seem to last as long as any of the name brands. A good value.</td>\n",
       "            </tr>\n",
       "            <tr>\n",
       "                        <th id=\"T_e5b60_level0_row88\" class=\"row_heading level0 row88\" >88</th>\n",
       "                        <td id=\"T_e5b60_row88_col0\" class=\"data row88 col0\" >5</td>\n",
       "                        <td id=\"T_e5b60_row88_col1\" class=\"data row88 col1\" >These Amazon batteries seem like a good value.</td>\n",
       "            </tr>\n",
       "            <tr>\n",
       "                        <th id=\"T_e5b60_level0_row89\" class=\"row_heading level0 row89\" >89</th>\n",
       "                        <td id=\"T_e5b60_row89_col0\" class=\"data row89 col0\" >5</td>\n",
       "                        <td id=\"T_e5b60_row89_col1\" class=\"data row89 col1\" >Everyone needs AA batteries. These are fine and a great price!</td>\n",
       "            </tr>\n",
       "            <tr>\n",
       "                        <th id=\"T_e5b60_level0_row90\" class=\"row_heading level0 row90\" >90</th>\n",
       "                        <td id=\"T_e5b60_row90_col0\" class=\"data row90 col0\" >4</td>\n",
       "                        <td id=\"T_e5b60_row90_col1\" class=\"data row90 col1\" >so many batteries, so little money. A great deal</td>\n",
       "            </tr>\n",
       "            <tr>\n",
       "                        <th id=\"T_e5b60_level0_row91\" class=\"row_heading level0 row91\" >91</th>\n",
       "                        <td id=\"T_e5b60_row91_col0\" class=\"data row91 col0\" >4</td>\n",
       "                        <td id=\"T_e5b60_row91_col1\" class=\"data row91 col1\" >Works great for everyday AA battery needs</td>\n",
       "            </tr>\n",
       "            <tr>\n",
       "                        <th id=\"T_e5b60_level0_row92\" class=\"row_heading level0 row92\" >92</th>\n",
       "                        <td id=\"T_e5b60_row92_col0\" class=\"data row92 col0\" >5</td>\n",
       "                        <td id=\"T_e5b60_row92_col1\" class=\"data row92 col1\" >I got tired of running back and forth to the local store to buy a small package of batteries therefore, I decided to order these since the cost for all of these batteries were approximately the same cost for 6 batteries in a pack. The price was right and the batteries are working very well. This is really a bargain.</td>\n",
       "            </tr>\n",
       "            <tr>\n",
       "                        <th id=\"T_e5b60_level0_row93\" class=\"row_heading level0 row93\" >93</th>\n",
       "                        <td id=\"T_e5b60_row93_col0\" class=\"data row93 col0\" >5</td>\n",
       "                        <td id=\"T_e5b60_row93_col1\" class=\"data row93 col1\" >Great buy for the money - these batteries work very well. I've gotten them in the past. The best part is that they are so inexpensive that you can run through them, and not feel like you're running through your bank account!</td>\n",
       "            </tr>\n",
       "            <tr>\n",
       "                        <th id=\"T_e5b60_level0_row94\" class=\"row_heading level0 row94\" >94</th>\n",
       "                        <td id=\"T_e5b60_row94_col0\" class=\"data row94 col0\" >5</td>\n",
       "                        <td id=\"T_e5b60_row94_col1\" class=\"data row94 col1\" >A great deal, and the batteries have a good life to them. I will buy again when I start running low.</td>\n",
       "            </tr>\n",
       "            <tr>\n",
       "                        <th id=\"T_e5b60_level0_row95\" class=\"row_heading level0 row95\" >95</th>\n",
       "                        <td id=\"T_e5b60_row95_col0\" class=\"data row95 col0\" >5</td>\n",
       "                        <td id=\"T_e5b60_row95_col1\" class=\"data row95 col1\" >All I buy now is AmazonBasics when it comes to batteries. They are long lasting and a great price. I have tried the AA, AAA, and 9-volt. As a cheap shopper, I am pleased with their performance and price.</td>\n",
       "            </tr>\n",
       "            <tr>\n",
       "                        <th id=\"T_e5b60_level0_row96\" class=\"row_heading level0 row96\" >96</th>\n",
       "                        <td id=\"T_e5b60_row96_col0\" class=\"data row96 col0\" >5</td>\n",
       "                        <td id=\"T_e5b60_row96_col1\" class=\"data row96 col1\" >Between LeapPads, Xbox controllers and remotes, we use batteries a lot. These have held up great with a comparable lifespan to other household brands.</td>\n",
       "            </tr>\n",
       "            <tr>\n",
       "                        <th id=\"T_e5b60_level0_row97\" class=\"row_heading level0 row97\" >97</th>\n",
       "                        <td id=\"T_e5b60_row97_col0\" class=\"data row97 col0\" >5</td>\n",
       "                        <td id=\"T_e5b60_row97_col1\" class=\"data row97 col1\" >I buy all my batteries here. Great long lasting batteries.</td>\n",
       "            </tr>\n",
       "            <tr>\n",
       "                        <th id=\"T_e5b60_level0_row98\" class=\"row_heading level0 row98\" >98</th>\n",
       "                        <td id=\"T_e5b60_row98_col0\" class=\"data row98 col0\" >5</td>\n",
       "                        <td id=\"T_e5b60_row98_col1\" class=\"data row98 col1\" >You know those crazy cheap batteries that are so light you practically hit yourself in the face when you pick one up These aren't those.I've already purchased a couple sets of these and have been really happy with the quality/lifespan. I'd say they're DEFINTELY comparable to the more expensive name brands. I've happily recommended them to friends and family, and it's so handy always having plenty of AA batteries, especially around birthdays and holidays!</td>\n",
       "            </tr>\n",
       "            <tr>\n",
       "                        <th id=\"T_e5b60_level0_row99\" class=\"row_heading level0 row99\" >99</th>\n",
       "                        <td id=\"T_e5b60_row99_col0\" class=\"data row99 col0\" >5</td>\n",
       "                        <td id=\"T_e5b60_row99_col1\" class=\"data row99 col1\" >My PS3 remote control and my television remote controls work again thanks to these AAA batteries.</td>\n",
       "            </tr>\n",
       "    </tbody></table>"
      ],
      "text/plain": [
       "<pandas.io.formats.style.Styler at 0x7f8195d4f4c0>"
      ]
     },
     "execution_count": 5,
     "metadata": {},
     "output_type": "execute_result"
    }
   ],
   "source": [
    "dataframe[:100].style"
   ]
  },
  {
   "cell_type": "code",
   "execution_count": 6,
   "id": "92675f06",
   "metadata": {},
   "outputs": [],
   "source": [
    "y = dataframe.iloc[:, :-1].values\n",
    "X = dataframe.iloc[:, -1].values"
   ]
  },
  {
   "cell_type": "code",
   "execution_count": 7,
   "id": "4265345a",
   "metadata": {},
   "outputs": [],
   "source": [
    "X = [[len(d)] for d in X]"
   ]
  },
  {
   "cell_type": "code",
   "execution_count": 8,
   "id": "2e209676",
   "metadata": {},
   "outputs": [
    {
     "data": {
      "text/plain": [
       "array([3, 4, 5, ..., 5, 5, 4])"
      ]
     },
     "execution_count": 8,
     "metadata": {},
     "output_type": "execute_result"
    }
   ],
   "source": [
    "y = np.ravel(y)\n",
    "y"
   ]
  },
  {
   "cell_type": "code",
   "execution_count": 9,
   "id": "0018e8ce",
   "metadata": {},
   "outputs": [
    {
     "data": {
      "text/plain": [
       "array([[139],\n",
       "       [ 67],\n",
       "       [ 56],\n",
       "       ...,\n",
       "       [317],\n",
       "       [241],\n",
       "       [315]])"
      ]
     },
     "execution_count": 9,
     "metadata": {},
     "output_type": "execute_result"
    }
   ],
   "source": [
    "X = np.asarray(X)\n",
    "X"
   ]
  },
  {
   "cell_type": "code",
   "execution_count": 10,
   "id": "c2771ea4",
   "metadata": {},
   "outputs": [],
   "source": [
    "from sklearn.model_selection import train_test_split\n",
    "X_train, X_test, y_train, y_test = train_test_split(X, y, test_size = 0.2, random_state = 42)"
   ]
  },
  {
   "cell_type": "code",
   "execution_count": 11,
   "id": "fbcd520d",
   "metadata": {},
   "outputs": [],
   "source": [
    "#### Feature Scale X\n",
    "from sklearn.preprocessing import StandardScaler\n",
    "sc = StandardScaler()\n",
    "X_train_scaled = sc.fit_transform(X_train)\n",
    "X_test_scaled = sc.transform(X_test)"
   ]
  },
  {
   "cell_type": "code",
   "execution_count": 12,
   "id": "5cba1218",
   "metadata": {},
   "outputs": [
    {
     "data": {
      "text/plain": [
       "array([[300],\n",
       "       [ 73],\n",
       "       [ 70],\n",
       "       ...,\n",
       "       [ 45],\n",
       "       [100],\n",
       "       [ 65]])"
      ]
     },
     "execution_count": 12,
     "metadata": {},
     "output_type": "execute_result"
    }
   ],
   "source": [
    "X_train"
   ]
  },
  {
   "cell_type": "code",
   "execution_count": 13,
   "id": "77a35eed",
   "metadata": {},
   "outputs": [
    {
     "data": {
      "text/plain": [
       "array([5, 5, 4, ..., 5, 5, 5])"
      ]
     },
     "execution_count": 13,
     "metadata": {},
     "output_type": "execute_result"
    }
   ],
   "source": [
    "y_train"
   ]
  },
  {
   "cell_type": "markdown",
   "id": "da532ca9",
   "metadata": {},
   "source": [
    "### MSE Function"
   ]
  },
  {
   "cell_type": "code",
   "execution_count": 14,
   "id": "3a4af659",
   "metadata": {},
   "outputs": [],
   "source": [
    "def MSE(labels, predictions):\n",
    "    differences = [(x-y)**2 for x,y in zip(predictions,labels)]\n",
    "    return sum(differences) / len(differences)"
   ]
  },
  {
   "cell_type": "markdown",
   "id": "4c4ae7b3",
   "metadata": {},
   "source": [
    "### Logistic Regression"
   ]
  },
  {
   "cell_type": "code",
   "execution_count": 15,
   "id": "0ba78e1c",
   "metadata": {},
   "outputs": [
    {
     "data": {
      "text/plain": [
       "LogisticRegression(random_state=42)"
      ]
     },
     "execution_count": 15,
     "metadata": {},
     "output_type": "execute_result"
    }
   ],
   "source": [
    "from sklearn.linear_model import LogisticRegression\n",
    "lr_classifier = LogisticRegression(random_state = 42)\n",
    "lr_classifier.fit(X_train_scaled, y_train)"
   ]
  },
  {
   "cell_type": "code",
   "execution_count": 16,
   "id": "b99f135e",
   "metadata": {},
   "outputs": [],
   "source": [
    "y_pred = lr_classifier.predict(X_test_scaled)"
   ]
  },
  {
   "cell_type": "code",
   "execution_count": 17,
   "id": "08b40662",
   "metadata": {},
   "outputs": [
    {
     "name": "stdout",
     "output_type": "stream",
     "text": [
      "[[   0    0    0    3  182]\n",
      " [   0    0    0    0  140]\n",
      " [   0    0    0    3  251]\n",
      " [   0    2    0    7 1084]\n",
      " [   1    0    0   13 3981]]\n"
     ]
    },
    {
     "data": {
      "text/plain": [
       "0.7037233103935062"
      ]
     },
     "execution_count": 17,
     "metadata": {},
     "output_type": "execute_result"
    }
   ],
   "source": [
    "from sklearn.metrics import confusion_matrix, accuracy_score\n",
    "cm = confusion_matrix(y_test, y_pred)\n",
    "print(cm)\n",
    "accuracy_score(y_test, y_pred)"
   ]
  },
  {
   "cell_type": "code",
   "execution_count": 18,
   "id": "d2ed4f4d",
   "metadata": {},
   "outputs": [
    {
     "data": {
      "text/plain": [
       "1.1164637374272102"
      ]
     },
     "execution_count": 18,
     "metadata": {},
     "output_type": "execute_result"
    }
   ],
   "source": [
    "mse = MSE(y_test, y_pred)\n",
    "mse"
   ]
  },
  {
   "cell_type": "markdown",
   "id": "8e225436",
   "metadata": {},
   "source": [
    "### K Nearest Neighbours"
   ]
  },
  {
   "cell_type": "code",
   "execution_count": 19,
   "id": "2661dbd7",
   "metadata": {},
   "outputs": [
    {
     "data": {
      "text/plain": [
       "KNeighborsClassifier()"
      ]
     },
     "execution_count": 19,
     "metadata": {},
     "output_type": "execute_result"
    }
   ],
   "source": [
    "from sklearn.neighbors import KNeighborsClassifier\n",
    "knn_classifier = KNeighborsClassifier(n_neighbors = 5, metric = 'minkowski', p = 2)\n",
    "knn_classifier.fit(X_train_scaled, y_train)"
   ]
  },
  {
   "cell_type": "code",
   "execution_count": 20,
   "id": "b2dbc289",
   "metadata": {},
   "outputs": [],
   "source": [
    "y_pred = knn_classifier.predict(X_test_scaled)"
   ]
  },
  {
   "cell_type": "code",
   "execution_count": 21,
   "id": "dfe5fc8a",
   "metadata": {},
   "outputs": [
    {
     "name": "stdout",
     "output_type": "stream",
     "text": [
      "[[  16    2    2   27  138]\n",
      " [   2    3    2   33  100]\n",
      " [   5    2    7   35  205]\n",
      " [   9    8   11  229  836]\n",
      " [  19    4   11  616 3345]]\n"
     ]
    },
    {
     "data": {
      "text/plain": [
       "0.6352567496029645"
      ]
     },
     "execution_count": 21,
     "metadata": {},
     "output_type": "execute_result"
    }
   ],
   "source": [
    "cm = confusion_matrix(y_test, y_pred)\n",
    "print(cm)\n",
    "accuracy_score(y_test, y_pred)"
   ]
  },
  {
   "cell_type": "code",
   "execution_count": 22,
   "id": "d36cf36c",
   "metadata": {},
   "outputs": [
    {
     "data": {
      "text/plain": [
       "1.1176989588847714"
      ]
     },
     "execution_count": 22,
     "metadata": {},
     "output_type": "execute_result"
    }
   ],
   "source": [
    "mse = MSE(y_test, y_pred)\n",
    "mse"
   ]
  },
  {
   "cell_type": "markdown",
   "id": "0840b2c2",
   "metadata": {},
   "source": [
    "### Support Vector Machine"
   ]
  },
  {
   "cell_type": "code",
   "execution_count": 23,
   "id": "c144f939",
   "metadata": {},
   "outputs": [
    {
     "data": {
      "text/plain": [
       "SVC(kernel='linear', random_state=42)"
      ]
     },
     "execution_count": 23,
     "metadata": {},
     "output_type": "execute_result"
    }
   ],
   "source": [
    "from sklearn.svm import SVC\n",
    "svm_classifier = SVC(kernel = 'linear', random_state = 42)\n",
    "svm_classifier.fit(X_train_scaled, y_train)"
   ]
  },
  {
   "cell_type": "code",
   "execution_count": 24,
   "id": "4ddccaed",
   "metadata": {},
   "outputs": [],
   "source": [
    "y_pred = svm_classifier.predict(X_test_scaled)"
   ]
  },
  {
   "cell_type": "code",
   "execution_count": 25,
   "id": "1ef255b2",
   "metadata": {},
   "outputs": [
    {
     "name": "stdout",
     "output_type": "stream",
     "text": [
      "[[   0    0    0    0  185]\n",
      " [   0    0    0    0  140]\n",
      " [   0    0    0    0  254]\n",
      " [   0    0    0    0 1093]\n",
      " [   0    0    0    0 3995]]\n"
     ]
    },
    {
     "data": {
      "text/plain": [
       "0.7049585318510676"
      ]
     },
     "execution_count": 25,
     "metadata": {},
     "output_type": "execute_result"
    }
   ],
   "source": [
    "cm = confusion_matrix(y_test, y_pred)\n",
    "print(cm)\n",
    "accuracy_score(y_test, y_pred)"
   ]
  },
  {
   "cell_type": "code",
   "execution_count": 26,
   "id": "1dc88363",
   "metadata": {},
   "outputs": [
    {
     "data": {
      "text/plain": [
       "1.1168166578436562"
      ]
     },
     "execution_count": 26,
     "metadata": {},
     "output_type": "execute_result"
    }
   ],
   "source": [
    "mse = MSE(y_test, y_pred)\n",
    "mse"
   ]
  },
  {
   "cell_type": "markdown",
   "id": "07e86970",
   "metadata": {},
   "source": [
    "### Kernel SVM"
   ]
  },
  {
   "cell_type": "code",
   "execution_count": 27,
   "id": "bafa269f",
   "metadata": {},
   "outputs": [
    {
     "data": {
      "text/plain": [
       "SVC(random_state=42)"
      ]
     },
     "execution_count": 27,
     "metadata": {},
     "output_type": "execute_result"
    }
   ],
   "source": [
    "kernel_classifier = SVC(kernel = 'rbf', random_state = 42)\n",
    "kernel_classifier.fit(X_train_scaled, y_train)"
   ]
  },
  {
   "cell_type": "code",
   "execution_count": 28,
   "id": "01b4a3d0",
   "metadata": {},
   "outputs": [],
   "source": [
    "y_pred = kernel_classifier.predict(X_test_scaled)"
   ]
  },
  {
   "cell_type": "code",
   "execution_count": 29,
   "id": "937b263c",
   "metadata": {},
   "outputs": [
    {
     "name": "stdout",
     "output_type": "stream",
     "text": [
      "[[   0    0    0    0  185]\n",
      " [   0    0    0    0  140]\n",
      " [   0    0    0    0  254]\n",
      " [   0    0    0    2 1091]\n",
      " [   0    0    0    0 3995]]\n"
     ]
    },
    {
     "data": {
      "text/plain": [
       "0.7053114522675137"
      ]
     },
     "execution_count": 29,
     "metadata": {},
     "output_type": "execute_result"
    }
   ],
   "source": [
    "cm = confusion_matrix(y_test, y_pred)\n",
    "print(cm)\n",
    "accuracy_score(y_test, y_pred)"
   ]
  },
  {
   "cell_type": "code",
   "execution_count": 30,
   "id": "b7fc56d9",
   "metadata": {},
   "outputs": [
    {
     "data": {
      "text/plain": [
       "1.1164637374272102"
      ]
     },
     "execution_count": 30,
     "metadata": {},
     "output_type": "execute_result"
    }
   ],
   "source": [
    "mse = MSE(y_test, y_pred)\n",
    "mse"
   ]
  },
  {
   "cell_type": "markdown",
   "id": "9587217e",
   "metadata": {},
   "source": [
    "### Naive Bayes"
   ]
  },
  {
   "cell_type": "code",
   "execution_count": 31,
   "id": "515399b8",
   "metadata": {},
   "outputs": [
    {
     "data": {
      "text/plain": [
       "GaussianNB()"
      ]
     },
     "execution_count": 31,
     "metadata": {},
     "output_type": "execute_result"
    }
   ],
   "source": [
    "from sklearn.naive_bayes import GaussianNB\n",
    "nb_classifier = GaussianNB()\n",
    "nb_classifier.fit(X_train_scaled, y_train)"
   ]
  },
  {
   "cell_type": "code",
   "execution_count": 32,
   "id": "196f75ed",
   "metadata": {},
   "outputs": [],
   "source": [
    "y_pred = nb_classifier.predict(X_test_scaled)"
   ]
  },
  {
   "cell_type": "code",
   "execution_count": 33,
   "id": "84ccbab1",
   "metadata": {},
   "outputs": [
    {
     "name": "stdout",
     "output_type": "stream",
     "text": [
      "[[   0    0    0   17  168]\n",
      " [   0    0    0   11  129]\n",
      " [   0    0    0   11  243]\n",
      " [   0    0    0   66 1027]\n",
      " [   0    0    0  114 3881]]\n"
     ]
    },
    {
     "data": {
      "text/plain": [
       "0.6964884418563614"
      ]
     },
     "execution_count": 33,
     "metadata": {},
     "output_type": "execute_result"
    }
   ],
   "source": [
    "cm = confusion_matrix(y_test, y_pred)\n",
    "print(cm)\n",
    "accuracy_score(y_test, y_pred)"
   ]
  },
  {
   "cell_type": "code",
   "execution_count": 34,
   "id": "d989faf2",
   "metadata": {},
   "outputs": [
    {
     "data": {
      "text/plain": [
       "1.0887594847361919"
      ]
     },
     "execution_count": 34,
     "metadata": {},
     "output_type": "execute_result"
    }
   ],
   "source": [
    "mse = MSE(y_test, y_pred)\n",
    "mse"
   ]
  },
  {
   "cell_type": "code",
   "execution_count": 35,
   "id": "6611ee56",
   "metadata": {},
   "outputs": [
    {
     "data": {
      "text/plain": [
       "DecisionTreeClassifier(criterion='entropy', random_state=42)"
      ]
     },
     "execution_count": 35,
     "metadata": {},
     "output_type": "execute_result"
    }
   ],
   "source": [
    "from sklearn.tree import DecisionTreeClassifier\n",
    "dt_classifier = DecisionTreeClassifier(criterion = 'entropy', random_state = 42)\n",
    "dt_classifier.fit(X_train_scaled, y_train)"
   ]
  },
  {
   "cell_type": "code",
   "execution_count": 36,
   "id": "d0dd7dda",
   "metadata": {},
   "outputs": [],
   "source": [
    "y_pred = dt_classifier.predict(X_test_scaled)"
   ]
  },
  {
   "cell_type": "code",
   "execution_count": 37,
   "id": "c77c60c3",
   "metadata": {},
   "outputs": [
    {
     "name": "stdout",
     "output_type": "stream",
     "text": [
      "[[  14    2    2   15  152]\n",
      " [   2    3    2    9  124]\n",
      " [   2    2    7    8  235]\n",
      " [   8    7    8   75  995]\n",
      " [  12    9   13   91 3870]]\n"
     ]
    },
    {
     "data": {
      "text/plain": [
       "0.7003705664372684"
      ]
     },
     "execution_count": 37,
     "metadata": {},
     "output_type": "execute_result"
    }
   ],
   "source": [
    "cm = confusion_matrix(y_test, y_pred)\n",
    "print(cm)\n",
    "accuracy_score(y_test, y_pred)"
   ]
  },
  {
   "cell_type": "code",
   "execution_count": 38,
   "id": "8b501c23",
   "metadata": {},
   "outputs": [
    {
     "data": {
      "text/plain": [
       "1.095817893065114"
      ]
     },
     "execution_count": 38,
     "metadata": {},
     "output_type": "execute_result"
    }
   ],
   "source": [
    "mse = MSE(y_test, y_pred)\n",
    "mse"
   ]
  },
  {
   "cell_type": "markdown",
   "id": "c9a5af15",
   "metadata": {},
   "source": [
    "### Random Forest"
   ]
  },
  {
   "cell_type": "code",
   "execution_count": 39,
   "id": "865e7e53",
   "metadata": {},
   "outputs": [
    {
     "data": {
      "text/plain": [
       "RandomForestClassifier(criterion='entropy', n_estimators=10, random_state=42)"
      ]
     },
     "execution_count": 39,
     "metadata": {},
     "output_type": "execute_result"
    }
   ],
   "source": [
    "from sklearn.ensemble import RandomForestClassifier\n",
    "rf_classifier = RandomForestClassifier(n_estimators = 10, criterion = 'entropy', random_state = 42)\n",
    "rf_classifier.fit(X_train_scaled, y_train)"
   ]
  },
  {
   "cell_type": "code",
   "execution_count": 40,
   "id": "e0a3fa16",
   "metadata": {},
   "outputs": [],
   "source": [
    "y_pred = rf_classifier.predict(X_test_scaled)"
   ]
  },
  {
   "cell_type": "code",
   "execution_count": 41,
   "id": "e612f0a6",
   "metadata": {},
   "outputs": [
    {
     "name": "stdout",
     "output_type": "stream",
     "text": [
      "[[  12    3    1   16  153]\n",
      " [   3    4    1    8  124]\n",
      " [   2    1    3   13  235]\n",
      " [   6    7    6   71 1003]\n",
      " [  12    8    8   91 3876]]\n"
     ]
    },
    {
     "data": {
      "text/plain": [
       "0.6998411858125992"
      ]
     },
     "execution_count": 41,
     "metadata": {},
     "output_type": "execute_result"
    }
   ],
   "source": [
    "cm = confusion_matrix(y_test, y_pred)\n",
    "print(cm)\n",
    "accuracy_score(y_test, y_pred)"
   ]
  },
  {
   "cell_type": "code",
   "execution_count": 42,
   "id": "de0ced1a",
   "metadata": {},
   "outputs": [
    {
     "data": {
      "text/plain": [
       "1.092465149108876"
      ]
     },
     "execution_count": 42,
     "metadata": {},
     "output_type": "execute_result"
    }
   ],
   "source": [
    "mse = MSE(y_test, y_pred)\n",
    "mse"
   ]
  },
  {
   "cell_type": "markdown",
   "id": "f1246dd1",
   "metadata": {},
   "source": [
    "## Conclusion"
   ]
  },
  {
   "cell_type": "markdown",
   "id": "60525d42",
   "metadata": {},
   "source": [
    "Using only review length to predict ratings, we currently only get 70 percent accuracy and around 1.2 MSE with classifiers. Perhaps adding more features (Brands for example, using one hot encoding) may increase the accuracy. "
   ]
  },
  {
   "cell_type": "markdown",
   "id": "0f3fca3c",
   "metadata": {},
   "source": [
    "An interesting project to undertake (if there is an data for it) would be predicting fake reviews on Amazon. The hypothesis is with a review rating of 1 or 5 and short review length, there maybe higher chance of a fake review."
   ]
  },
  {
   "cell_type": "code",
   "execution_count": null,
   "id": "4b8c5d5f",
   "metadata": {},
   "outputs": [],
   "source": []
  }
 ],
 "metadata": {
  "kernelspec": {
   "display_name": "Python 3",
   "language": "python",
   "name": "python3"
  },
  "language_info": {
   "codemirror_mode": {
    "name": "ipython",
    "version": 3
   },
   "file_extension": ".py",
   "mimetype": "text/x-python",
   "name": "python",
   "nbconvert_exporter": "python",
   "pygments_lexer": "ipython3",
   "version": "3.8.10"
  }
 },
 "nbformat": 4,
 "nbformat_minor": 5
}
